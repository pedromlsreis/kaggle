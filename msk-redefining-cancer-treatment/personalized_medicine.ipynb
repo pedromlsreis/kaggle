{
 "cells": [
  {
   "cell_type": "markdown",
   "metadata": {},
   "source": [
    "# Personalized Medicine - Redefining Cancer Treatment"
   ]
  },
  {
   "cell_type": "markdown",
   "metadata": {},
   "source": [
    "<a id=\"Index\"></a>\n",
    "<br>\n",
    "<p style=\"text-align: center;\"><font size=4><b> INDEX </b></font></p>\n",
    "\n",
    "|<p style=\"text-align: center;\">1. [Exploring Data](#Exploring_Data)</p>|<p style=\"text-align: center;\">2. [Feature Engineering](#Feature_Engineering)</p>|<p style=\"text-align: center;\">3. [H2O Deep Learning](#H2O_Deep_Learning)</p>|\n",
    "|-------------------------|-------------------------|-------------------------|\n",
    "|<p style=\"text-align: center;\">1.1 [Importing Data](#Importing_Data)</p>|<p style=\"text-align: center;\">2.1 [Text](#Text)</p>|<p style=\"text-align: center;\">3.1 [Model Training](#Model_Training)</p>|\n",
    "|<p style=\"text-align: center;\">1.2 [Understand Your Data](#Understanding_Data)</p>|<p style=\"text-align: center;\">2.2 [Variation](#Variation)</p>|<p style=\"text-align: center;\">3.2 [Making Predictions](#Making_Predictions)</p>|\n",
    "|<p style=\"text-align: center;\">1.2 [Cleaning Data](#Cleaning_Data)</p>|<p style=\"text-align: center;\">2.3 [Gene](#Gene)</p>||"
   ]
  },
  {
   "cell_type": "markdown",
   "metadata": {},
   "source": [
    "***\n",
    "<a id=\"Exploring_Data\"></a>\n",
    "<div class=\"alert alert-block alert-info\"><font size=6><b>1. Exploring Data</b></font></div>"
   ]
  },
  {
   "cell_type": "markdown",
   "metadata": {},
   "source": [
    "<a id=\"Importing_Data\"></a>\n",
    "### Importing Data"
   ]
  },
  {
   "cell_type": "code",
   "execution_count": 1,
   "metadata": {
    "collapsed": true
   },
   "outputs": [],
   "source": [
    "import pandas as pd # for data processing\n",
    "import numpy as np # for algebra\n",
    "import seaborn as sns # for data visualization\n",
    "\n",
    "import matplotlib.pyplot as plt #for data visualization\n",
    "%matplotlib inline\n",
    "\n",
    "import sklearn\n",
    "\n",
    "import re\n",
    "from re import * # for regular expressions\n",
    "\n",
    "# Load the train and test datasets to create four DataFrames\n",
    "# trainvar = pd.read_csv(\"input/training_variants\")\n",
    "# traintxt = pd.read_csv(\"input/training_text\", sep=\"\\|\\|\", engine=\"python\", skiprows=1, names=[\"ID\",\"Text\"])\n",
    "# testvar = pd.read_csv(\"input/test_variants\")\n",
    "# testtxt = pd.read_csv(\"input/test_text\", sep=\"\\|\\|\", engine=\"python\", skiprows=1, names=[\"ID\",\"Text\"])"
   ]
  },
  {
   "cell_type": "code",
   "execution_count": 4,
   "metadata": {
    "collapsed": true,
    "scrolled": false
   },
   "outputs": [],
   "source": [
    "# traindf = pd.merge(trainvar, traintxt, how='left', on='ID').fillna('')\n",
    "# testdf = pd.merge(testvar, testtxt, how='left', on='ID').fillna('')"
   ]
  },
  {
   "cell_type": "code",
   "execution_count": 5,
   "metadata": {},
   "outputs": [
    {
     "data": {
      "text/html": [
       "<div>\n",
       "<style>\n",
       "    .dataframe thead tr:only-child th {\n",
       "        text-align: right;\n",
       "    }\n",
       "\n",
       "    .dataframe thead th {\n",
       "        text-align: left;\n",
       "    }\n",
       "\n",
       "    .dataframe tbody tr th {\n",
       "        vertical-align: top;\n",
       "    }\n",
       "</style>\n",
       "<table border=\"1\" class=\"dataframe\">\n",
       "  <thead>\n",
       "    <tr style=\"text-align: right;\">\n",
       "      <th></th>\n",
       "      <th>ID</th>\n",
       "      <th>Gene</th>\n",
       "      <th>Variation</th>\n",
       "      <th>Class</th>\n",
       "    </tr>\n",
       "  </thead>\n",
       "  <tbody>\n",
       "    <tr>\n",
       "      <th>0</th>\n",
       "      <td>0</td>\n",
       "      <td>FAM58A</td>\n",
       "      <td>Truncating Mutations</td>\n",
       "      <td>1</td>\n",
       "    </tr>\n",
       "    <tr>\n",
       "      <th>1</th>\n",
       "      <td>1</td>\n",
       "      <td>CBL</td>\n",
       "      <td>W802*</td>\n",
       "      <td>2</td>\n",
       "    </tr>\n",
       "    <tr>\n",
       "      <th>2</th>\n",
       "      <td>2</td>\n",
       "      <td>CBL</td>\n",
       "      <td>Q249E</td>\n",
       "      <td>2</td>\n",
       "    </tr>\n",
       "    <tr>\n",
       "      <th>3</th>\n",
       "      <td>3</td>\n",
       "      <td>CBL</td>\n",
       "      <td>N454D</td>\n",
       "      <td>3</td>\n",
       "    </tr>\n",
       "    <tr>\n",
       "      <th>4</th>\n",
       "      <td>4</td>\n",
       "      <td>CBL</td>\n",
       "      <td>L399V</td>\n",
       "      <td>4</td>\n",
       "    </tr>\n",
       "  </tbody>\n",
       "</table>\n",
       "</div>"
      ],
      "text/plain": [
       "   ID    Gene             Variation  Class\n",
       "0   0  FAM58A  Truncating Mutations      1\n",
       "1   1     CBL                 W802*      2\n",
       "2   2     CBL                 Q249E      2\n",
       "3   3     CBL                 N454D      3\n",
       "4   4     CBL                 L399V      4"
      ]
     },
     "execution_count": 5,
     "metadata": {},
     "output_type": "execute_result"
    }
   ],
   "source": [
    "trainvar.head()"
   ]
  },
  {
   "cell_type": "code",
   "execution_count": 6,
   "metadata": {},
   "outputs": [
    {
     "data": {
      "text/html": [
       "<div>\n",
       "<style>\n",
       "    .dataframe thead tr:only-child th {\n",
       "        text-align: right;\n",
       "    }\n",
       "\n",
       "    .dataframe thead th {\n",
       "        text-align: left;\n",
       "    }\n",
       "\n",
       "    .dataframe tbody tr th {\n",
       "        vertical-align: top;\n",
       "    }\n",
       "</style>\n",
       "<table border=\"1\" class=\"dataframe\">\n",
       "  <thead>\n",
       "    <tr style=\"text-align: right;\">\n",
       "      <th></th>\n",
       "      <th>ID</th>\n",
       "      <th>Text</th>\n",
       "    </tr>\n",
       "  </thead>\n",
       "  <tbody>\n",
       "    <tr>\n",
       "      <th>0</th>\n",
       "      <td>0</td>\n",
       "      <td>Cyclin-dependent kinases (CDKs) regulate a var...</td>\n",
       "    </tr>\n",
       "    <tr>\n",
       "      <th>1</th>\n",
       "      <td>1</td>\n",
       "      <td>Abstract Background  Non-small cell lung canc...</td>\n",
       "    </tr>\n",
       "    <tr>\n",
       "      <th>2</th>\n",
       "      <td>2</td>\n",
       "      <td>Abstract Background  Non-small cell lung canc...</td>\n",
       "    </tr>\n",
       "    <tr>\n",
       "      <th>3</th>\n",
       "      <td>3</td>\n",
       "      <td>Recent evidence has demonstrated that acquired...</td>\n",
       "    </tr>\n",
       "    <tr>\n",
       "      <th>4</th>\n",
       "      <td>4</td>\n",
       "      <td>Oncogenic mutations in the monomeric Casitas B...</td>\n",
       "    </tr>\n",
       "  </tbody>\n",
       "</table>\n",
       "</div>"
      ],
      "text/plain": [
       "   ID                                               Text\n",
       "0   0  Cyclin-dependent kinases (CDKs) regulate a var...\n",
       "1   1   Abstract Background  Non-small cell lung canc...\n",
       "2   2   Abstract Background  Non-small cell lung canc...\n",
       "3   3  Recent evidence has demonstrated that acquired...\n",
       "4   4  Oncogenic mutations in the monomeric Casitas B..."
      ]
     },
     "execution_count": 6,
     "metadata": {},
     "output_type": "execute_result"
    }
   ],
   "source": [
    "traintxt.head()"
   ]
  },
  {
   "cell_type": "code",
   "execution_count": 7,
   "metadata": {},
   "outputs": [
    {
     "data": {
      "text/html": [
       "<div>\n",
       "<style>\n",
       "    .dataframe thead tr:only-child th {\n",
       "        text-align: right;\n",
       "    }\n",
       "\n",
       "    .dataframe thead th {\n",
       "        text-align: left;\n",
       "    }\n",
       "\n",
       "    .dataframe tbody tr th {\n",
       "        vertical-align: top;\n",
       "    }\n",
       "</style>\n",
       "<table border=\"1\" class=\"dataframe\">\n",
       "  <thead>\n",
       "    <tr style=\"text-align: right;\">\n",
       "      <th></th>\n",
       "      <th>ID</th>\n",
       "      <th>Gene</th>\n",
       "      <th>Variation</th>\n",
       "    </tr>\n",
       "  </thead>\n",
       "  <tbody>\n",
       "    <tr>\n",
       "      <th>0</th>\n",
       "      <td>0</td>\n",
       "      <td>ACSL4</td>\n",
       "      <td>R570S</td>\n",
       "    </tr>\n",
       "    <tr>\n",
       "      <th>1</th>\n",
       "      <td>1</td>\n",
       "      <td>NAGLU</td>\n",
       "      <td>P521L</td>\n",
       "    </tr>\n",
       "    <tr>\n",
       "      <th>2</th>\n",
       "      <td>2</td>\n",
       "      <td>PAH</td>\n",
       "      <td>L333F</td>\n",
       "    </tr>\n",
       "    <tr>\n",
       "      <th>3</th>\n",
       "      <td>3</td>\n",
       "      <td>ING1</td>\n",
       "      <td>A148D</td>\n",
       "    </tr>\n",
       "    <tr>\n",
       "      <th>4</th>\n",
       "      <td>4</td>\n",
       "      <td>TMEM216</td>\n",
       "      <td>G77A</td>\n",
       "    </tr>\n",
       "  </tbody>\n",
       "</table>\n",
       "</div>"
      ],
      "text/plain": [
       "   ID     Gene Variation\n",
       "0   0    ACSL4     R570S\n",
       "1   1    NAGLU     P521L\n",
       "2   2      PAH     L333F\n",
       "3   3     ING1     A148D\n",
       "4   4  TMEM216      G77A"
      ]
     },
     "execution_count": 7,
     "metadata": {},
     "output_type": "execute_result"
    }
   ],
   "source": [
    "testvar.head()"
   ]
  },
  {
   "cell_type": "code",
   "execution_count": 8,
   "metadata": {},
   "outputs": [
    {
     "data": {
      "text/html": [
       "<div>\n",
       "<style>\n",
       "    .dataframe thead tr:only-child th {\n",
       "        text-align: right;\n",
       "    }\n",
       "\n",
       "    .dataframe thead th {\n",
       "        text-align: left;\n",
       "    }\n",
       "\n",
       "    .dataframe tbody tr th {\n",
       "        vertical-align: top;\n",
       "    }\n",
       "</style>\n",
       "<table border=\"1\" class=\"dataframe\">\n",
       "  <thead>\n",
       "    <tr style=\"text-align: right;\">\n",
       "      <th></th>\n",
       "      <th>ID</th>\n",
       "      <th>Text</th>\n",
       "    </tr>\n",
       "  </thead>\n",
       "  <tbody>\n",
       "    <tr>\n",
       "      <th>0</th>\n",
       "      <td>0</td>\n",
       "      <td>2. This mutation resulted in a myeloproliferat...</td>\n",
       "    </tr>\n",
       "    <tr>\n",
       "      <th>1</th>\n",
       "      <td>1</td>\n",
       "      <td>Abstract The Large Tumor Suppressor 1 (LATS1)...</td>\n",
       "    </tr>\n",
       "    <tr>\n",
       "      <th>2</th>\n",
       "      <td>2</td>\n",
       "      <td>Vascular endothelial growth factor receptor (V...</td>\n",
       "    </tr>\n",
       "    <tr>\n",
       "      <th>3</th>\n",
       "      <td>3</td>\n",
       "      <td>Inflammatory myofibroblastic tumor (IMT) is a ...</td>\n",
       "    </tr>\n",
       "    <tr>\n",
       "      <th>4</th>\n",
       "      <td>4</td>\n",
       "      <td>Abstract Retinoblastoma is a pediatric retina...</td>\n",
       "    </tr>\n",
       "  </tbody>\n",
       "</table>\n",
       "</div>"
      ],
      "text/plain": [
       "   ID                                               Text\n",
       "0   0  2. This mutation resulted in a myeloproliferat...\n",
       "1   1   Abstract The Large Tumor Suppressor 1 (LATS1)...\n",
       "2   2  Vascular endothelial growth factor receptor (V...\n",
       "3   3  Inflammatory myofibroblastic tumor (IMT) is a ...\n",
       "4   4   Abstract Retinoblastoma is a pediatric retina..."
      ]
     },
     "execution_count": 8,
     "metadata": {},
     "output_type": "execute_result"
    }
   ],
   "source": [
    "testtxt.head()"
   ]
  },
  {
   "cell_type": "markdown",
   "metadata": {},
   "source": [
    "<a id=\"Understanding_Data\"></a>\n",
    "### Understand your data"
   ]
  },
  {
   "cell_type": "code",
   "execution_count": 9,
   "metadata": {},
   "outputs": [
    {
     "name": "stdout",
     "output_type": "stream",
     "text": [
      "trainvar:\n",
      "                 ID        Class\n",
      "count  3321.000000  3321.000000\n",
      "mean   1660.000000     4.365854\n",
      "std     958.834449     2.309781\n",
      "min       0.000000     1.000000\n",
      "25%     830.000000     2.000000\n",
      "50%    1660.000000     4.000000\n",
      "75%    2490.000000     7.000000\n",
      "max    3320.000000     9.000000 \n",
      "\n",
      "traintxt:\n",
      "                 ID\n",
      "count  3321.000000\n",
      "mean   1660.000000\n",
      "std     958.834449\n",
      "min       0.000000\n",
      "25%     830.000000\n",
      "50%    1660.000000\n",
      "75%    2490.000000\n",
      "max    3320.000000 \n",
      "\n",
      "testvar:\n",
      "                 ID\n",
      "count  5668.000000\n",
      "mean   2833.500000\n",
      "std    1636.354994\n",
      "min       0.000000\n",
      "25%    1416.750000\n",
      "50%    2833.500000\n",
      "75%    4250.250000\n",
      "max    5667.000000 \n",
      "\n",
      "testtxt:\n",
      "                 ID\n",
      "count  5668.000000\n",
      "mean   2833.500000\n",
      "std    1636.354994\n",
      "min       0.000000\n",
      "25%    1416.750000\n",
      "50%    2833.500000\n",
      "75%    4250.250000\n",
      "max    5667.000000\n"
     ]
    }
   ],
   "source": [
    "print(\"trainvar:\\n\", trainvar.describe(),\n",
    "      \"\\n\\ntraintxt:\\n\", traintxt.describe(),\n",
    "      \"\\n\\ntestvar:\\n\", testvar.describe(),\n",
    "      \"\\n\\ntesttxt:\\n\", testtxt.describe())"
   ]
  },
  {
   "cell_type": "code",
   "execution_count": 10,
   "metadata": {},
   "outputs": [
    {
     "name": "stdout",
     "output_type": "stream",
     "text": [
      "For training data, there are a total of:\n",
      " 3321 IDs;\n",
      " 264 unique genes;\n",
      " 2996 unique variations;\n",
      " 9 classes.\n"
     ]
    }
   ],
   "source": [
    "print(\"For training data, there are a total of:\\n\",\n",
    "      len(trainvar.ID.unique()), \"IDs;\\n\",\n",
    "      len(trainvar.Gene.unique()), \"unique genes;\\n\",\n",
    "      len(trainvar.Variation.unique()), \"unique variations;\\n\", \n",
    "      len(trainvar.Class.unique()), \"classes.\")"
   ]
  },
  {
   "cell_type": "code",
   "execution_count": 49,
   "metadata": {},
   "outputs": [
    {
     "data": {
      "image/png": "[encoded data removed]",
      "text/plain": [
       "<matplotlib.figure.Figure at 0x23e4c6e06a0>"
      ]
     },
     "metadata": {},
     "output_type": "display_data"
    }
   ],
   "source": [
    "plt.figure(figsize=(14,8))\n",
    "sns.countplot(x=\"Class\", data=trainvar, palette=\"GnBu_d\")\n",
    "plt.ylabel('Frequency', fontsize=14)\n",
    "plt.xlabel('Class', fontsize=14)\n",
    "plt.title(\"Distribution of genetic mutation classes\", fontsize=18)\n",
    "plt.show()"
   ]
  },
  {
   "cell_type": "code",
   "execution_count": 14,
   "metadata": {},
   "outputs": [
    {
     "name": "stdout",
     "output_type": "stream",
     "text": [
      "Genes with most occurences:\n",
      " Gene\n",
      "BRCA1     264\n",
      "TP53      163\n",
      "EGFR      141\n",
      "PTEN      126\n",
      "BRCA2     125\n",
      "KIT        99\n",
      "BRAF       93\n",
      "ERBB2      69\n",
      "ALK        69\n",
      "PDGFRA     60\n",
      "Name: Gene, dtype: int64\n",
      "\n",
      "Genes with less occurences:\n",
      " Gene\n",
      "KLF4      1\n",
      "FGF19     1\n",
      "FANCC     1\n",
      "FAM58A    1\n",
      "PAK1      1\n",
      "ERRFI1    1\n",
      "PAX8      1\n",
      "PIK3R3    1\n",
      "PMS1      1\n",
      "PPM1D     1\n",
      "Name: Gene, dtype: int64\n"
     ]
    }
   ],
   "source": [
    "gene_freq = trainvar.groupby(\"Gene\")[\"Gene\"].count()\n",
    "print(\"Genes with most occurences:\\n\", gene_freq.sort_values(ascending=False)[:10])\n",
    "print(\"\\nGenes with less occurences:\\n\", gene_freq.sort_values(ascending=True)[:10])"
   ]
  },
  {
   "cell_type": "code",
   "execution_count": 48,
   "metadata": {},
   "outputs": [
    {
     "data": {
      "image/png": "[encoded data removed]",
      "text/plain": [
       "<matplotlib.figure.Figure at 0x23e4b61a438>"
      ]
     },
     "metadata": {},
     "output_type": "display_data"
    }
   ],
   "source": [
    "fig, axs = plt.subplots(ncols=3, nrows=3, figsize=(14,11))\n",
    "fig.suptitle(\"Gene frequency per class\", fontsize=\"xx-large\")\n",
    "\n",
    "for i in range(3):\n",
    "    for j in range(3):\n",
    "        gene_count_grp = trainvar[trainvar[\"Class\"]==((i*3+j)+1)].groupby(\"Gene\")[\"ID\"].count().reset_index()\n",
    "        sorted_gene_list_top_7 = gene_count_grp.sort_values(\"ID\", ascending=False)[:7]\n",
    "        sns.barplot(x=\"Gene\", y=\"ID\", data = sorted_gene_list_top_7, ax=axs[i][j], palette=\"Set2\")\n",
    "        \n",
    "        #atribuir uma cor a cada gene"
   ]
  },
  {
   "cell_type": "markdown",
   "metadata": {},
   "source": [
    "### Moving on to the text data"
   ]
  },
  {
   "cell_type": "markdown",
   "metadata": {},
   "source": [
    "Adding a Text_count column:"
   ]
  },
  {
   "cell_type": "code",
   "execution_count": 17,
   "metadata": {
    "scrolled": true
   },
   "outputs": [
    {
     "data": {
      "text/html": [
       "<div>\n",
       "<style>\n",
       "    .dataframe thead tr:only-child th {\n",
       "        text-align: right;\n",
       "    }\n",
       "\n",
       "    .dataframe thead th {\n",
       "        text-align: left;\n",
       "    }\n",
       "\n",
       "    .dataframe tbody tr th {\n",
       "        vertical-align: top;\n",
       "    }\n",
       "</style>\n",
       "<table border=\"1\" class=\"dataframe\">\n",
       "  <thead>\n",
       "    <tr style=\"text-align: right;\">\n",
       "      <th></th>\n",
       "      <th>ID</th>\n",
       "      <th>Text</th>\n",
       "      <th>Text_count</th>\n",
       "    </tr>\n",
       "  </thead>\n",
       "  <tbody>\n",
       "    <tr>\n",
       "      <th>0</th>\n",
       "      <td>0</td>\n",
       "      <td>Cyclin-dependent kinases (CDKs) regulate a var...</td>\n",
       "      <td>6089</td>\n",
       "    </tr>\n",
       "    <tr>\n",
       "      <th>1</th>\n",
       "      <td>1</td>\n",
       "      <td>Abstract Background  Non-small cell lung canc...</td>\n",
       "      <td>5722</td>\n",
       "    </tr>\n",
       "    <tr>\n",
       "      <th>2</th>\n",
       "      <td>2</td>\n",
       "      <td>Abstract Background  Non-small cell lung canc...</td>\n",
       "      <td>5722</td>\n",
       "    </tr>\n",
       "    <tr>\n",
       "      <th>3</th>\n",
       "      <td>3</td>\n",
       "      <td>Recent evidence has demonstrated that acquired...</td>\n",
       "      <td>5572</td>\n",
       "    </tr>\n",
       "    <tr>\n",
       "      <th>4</th>\n",
       "      <td>4</td>\n",
       "      <td>Oncogenic mutations in the monomeric Casitas B...</td>\n",
       "      <td>6202</td>\n",
       "    </tr>\n",
       "  </tbody>\n",
       "</table>\n",
       "</div>"
      ],
      "text/plain": [
       "   ID                                               Text  Text_count\n",
       "0   0  Cyclin-dependent kinases (CDKs) regulate a var...        6089\n",
       "1   1   Abstract Background  Non-small cell lung canc...        5722\n",
       "2   2   Abstract Background  Non-small cell lung canc...        5722\n",
       "3   3  Recent evidence has demonstrated that acquired...        5572\n",
       "4   4  Oncogenic mutations in the monomeric Casitas B...        6202"
      ]
     },
     "execution_count": 17,
     "metadata": {},
     "output_type": "execute_result"
    }
   ],
   "source": [
    "traintxt.loc[:, 'Text_count'] = traintxt[\"Text\"].apply(lambda x: len(x.split()))\n",
    "traintxt.head()"
   ]
  },
  {
   "cell_type": "markdown",
   "metadata": {},
   "source": [
    "The Text_count column counts the number of characters in the correspondent Text."
   ]
  },
  {
   "cell_type": "markdown",
   "metadata": {},
   "source": [
    "### Combining both train DataFrames"
   ]
  },
  {
   "cell_type": "code",
   "execution_count": 19,
   "metadata": {},
   "outputs": [
    {
     "data": {
      "text/html": [
       "<div>\n",
       "<style>\n",
       "    .dataframe thead tr:only-child th {\n",
       "        text-align: right;\n",
       "    }\n",
       "\n",
       "    .dataframe thead th {\n",
       "        text-align: left;\n",
       "    }\n",
       "\n",
       "    .dataframe tbody tr th {\n",
       "        vertical-align: top;\n",
       "    }\n",
       "</style>\n",
       "<table border=\"1\" class=\"dataframe\">\n",
       "  <thead>\n",
       "    <tr style=\"text-align: right;\">\n",
       "      <th></th>\n",
       "      <th>ID</th>\n",
       "      <th>Gene</th>\n",
       "      <th>Variation</th>\n",
       "      <th>Class</th>\n",
       "      <th>Text</th>\n",
       "      <th>Text_count</th>\n",
       "    </tr>\n",
       "  </thead>\n",
       "  <tbody>\n",
       "    <tr>\n",
       "      <th>0</th>\n",
       "      <td>0</td>\n",
       "      <td>FAM58A</td>\n",
       "      <td>Truncating Mutations</td>\n",
       "      <td>1</td>\n",
       "      <td>Cyclin-dependent kinases (CDKs) regulate a var...</td>\n",
       "      <td>6089</td>\n",
       "    </tr>\n",
       "    <tr>\n",
       "      <th>1</th>\n",
       "      <td>1</td>\n",
       "      <td>CBL</td>\n",
       "      <td>W802*</td>\n",
       "      <td>2</td>\n",
       "      <td>Abstract Background  Non-small cell lung canc...</td>\n",
       "      <td>5722</td>\n",
       "    </tr>\n",
       "    <tr>\n",
       "      <th>2</th>\n",
       "      <td>2</td>\n",
       "      <td>CBL</td>\n",
       "      <td>Q249E</td>\n",
       "      <td>2</td>\n",
       "      <td>Abstract Background  Non-small cell lung canc...</td>\n",
       "      <td>5722</td>\n",
       "    </tr>\n",
       "    <tr>\n",
       "      <th>3</th>\n",
       "      <td>3</td>\n",
       "      <td>CBL</td>\n",
       "      <td>N454D</td>\n",
       "      <td>3</td>\n",
       "      <td>Recent evidence has demonstrated that acquired...</td>\n",
       "      <td>5572</td>\n",
       "    </tr>\n",
       "    <tr>\n",
       "      <th>4</th>\n",
       "      <td>4</td>\n",
       "      <td>CBL</td>\n",
       "      <td>L399V</td>\n",
       "      <td>4</td>\n",
       "      <td>Oncogenic mutations in the monomeric Casitas B...</td>\n",
       "      <td>6202</td>\n",
       "    </tr>\n",
       "  </tbody>\n",
       "</table>\n",
       "</div>"
      ],
      "text/plain": [
       "   ID    Gene             Variation  Class  \\\n",
       "0   0  FAM58A  Truncating Mutations      1   \n",
       "1   1     CBL                 W802*      2   \n",
       "2   2     CBL                 Q249E      2   \n",
       "3   3     CBL                 N454D      3   \n",
       "4   4     CBL                 L399V      4   \n",
       "\n",
       "                                                Text  Text_count  \n",
       "0  Cyclin-dependent kinases (CDKs) regulate a var...        6089  \n",
       "1   Abstract Background  Non-small cell lung canc...        5722  \n",
       "2   Abstract Background  Non-small cell lung canc...        5722  \n",
       "3  Recent evidence has demonstrated that acquired...        5572  \n",
       "4  Oncogenic mutations in the monomeric Casitas B...        6202  "
      ]
     },
     "execution_count": 19,
     "metadata": {},
     "output_type": "execute_result"
    }
   ],
   "source": [
    "train = pd.merge(trainvar, traintxt, how='left', on='ID').fillna('')\n",
    "train.head()"
   ]
  },
  {
   "cell_type": "code",
   "execution_count": 20,
   "metadata": {},
   "outputs": [
    {
     "data": {
      "text/html": [
       "<div>\n",
       "<style>\n",
       "    .dataframe thead tr:only-child th {\n",
       "        text-align: right;\n",
       "    }\n",
       "\n",
       "    .dataframe thead th {\n",
       "        text-align: left;\n",
       "    }\n",
       "\n",
       "    .dataframe tbody tr th {\n",
       "        vertical-align: top;\n",
       "    }\n",
       "</style>\n",
       "<table border=\"1\" class=\"dataframe\">\n",
       "  <thead>\n",
       "    <tr style=\"text-align: right;\">\n",
       "      <th></th>\n",
       "      <th>count</th>\n",
       "      <th>mean</th>\n",
       "      <th>std</th>\n",
       "      <th>min</th>\n",
       "      <th>25%</th>\n",
       "      <th>50%</th>\n",
       "      <th>75%</th>\n",
       "      <th>max</th>\n",
       "    </tr>\n",
       "    <tr>\n",
       "      <th>Class</th>\n",
       "      <th></th>\n",
       "      <th></th>\n",
       "      <th></th>\n",
       "      <th></th>\n",
       "      <th></th>\n",
       "      <th></th>\n",
       "      <th></th>\n",
       "      <th></th>\n",
       "    </tr>\n",
       "  </thead>\n",
       "  <tbody>\n",
       "    <tr>\n",
       "      <th>1</th>\n",
       "      <td>568.0</td>\n",
       "      <td>9444.705986</td>\n",
       "      <td>6513.636387</td>\n",
       "      <td>1.0</td>\n",
       "      <td>4970.00</td>\n",
       "      <td>7286.5</td>\n",
       "      <td>12868.25</td>\n",
       "      <td>52970.0</td>\n",
       "    </tr>\n",
       "    <tr>\n",
       "      <th>2</th>\n",
       "      <td>452.0</td>\n",
       "      <td>9306.362832</td>\n",
       "      <td>7624.322787</td>\n",
       "      <td>116.0</td>\n",
       "      <td>4184.25</td>\n",
       "      <td>6810.0</td>\n",
       "      <td>12209.50</td>\n",
       "      <td>61923.0</td>\n",
       "    </tr>\n",
       "    <tr>\n",
       "      <th>3</th>\n",
       "      <td>89.0</td>\n",
       "      <td>6751.157303</td>\n",
       "      <td>3724.432760</td>\n",
       "      <td>1737.0</td>\n",
       "      <td>4283.00</td>\n",
       "      <td>5572.0</td>\n",
       "      <td>7415.00</td>\n",
       "      <td>27371.0</td>\n",
       "    </tr>\n",
       "    <tr>\n",
       "      <th>4</th>\n",
       "      <td>686.0</td>\n",
       "      <td>8978.202624</td>\n",
       "      <td>7276.259637</td>\n",
       "      <td>53.0</td>\n",
       "      <td>4566.00</td>\n",
       "      <td>6351.0</td>\n",
       "      <td>11521.75</td>\n",
       "      <td>43893.0</td>\n",
       "    </tr>\n",
       "    <tr>\n",
       "      <th>5</th>\n",
       "      <td>242.0</td>\n",
       "      <td>7504.462810</td>\n",
       "      <td>3890.263510</td>\n",
       "      <td>183.0</td>\n",
       "      <td>5245.00</td>\n",
       "      <td>6451.0</td>\n",
       "      <td>9513.50</td>\n",
       "      <td>24214.0</td>\n",
       "    </tr>\n",
       "    <tr>\n",
       "      <th>6</th>\n",
       "      <td>275.0</td>\n",
       "      <td>7143.069091</td>\n",
       "      <td>3827.975473</td>\n",
       "      <td>1.0</td>\n",
       "      <td>4505.50</td>\n",
       "      <td>6587.0</td>\n",
       "      <td>7626.00</td>\n",
       "      <td>24597.0</td>\n",
       "    </tr>\n",
       "    <tr>\n",
       "      <th>7</th>\n",
       "      <td>953.0</td>\n",
       "      <td>11437.911857</td>\n",
       "      <td>10105.202594</td>\n",
       "      <td>1.0</td>\n",
       "      <td>4871.00</td>\n",
       "      <td>8254.0</td>\n",
       "      <td>14620.00</td>\n",
       "      <td>76708.0</td>\n",
       "    </tr>\n",
       "    <tr>\n",
       "      <th>8</th>\n",
       "      <td>19.0</td>\n",
       "      <td>10810.105263</td>\n",
       "      <td>5645.073662</td>\n",
       "      <td>2111.0</td>\n",
       "      <td>5586.00</td>\n",
       "      <td>11237.0</td>\n",
       "      <td>15535.00</td>\n",
       "      <td>20612.0</td>\n",
       "    </tr>\n",
       "    <tr>\n",
       "      <th>9</th>\n",
       "      <td>37.0</td>\n",
       "      <td>12798.567568</td>\n",
       "      <td>10208.668344</td>\n",
       "      <td>1146.0</td>\n",
       "      <td>4942.00</td>\n",
       "      <td>10917.0</td>\n",
       "      <td>15797.00</td>\n",
       "      <td>45126.0</td>\n",
       "    </tr>\n",
       "  </tbody>\n",
       "</table>\n",
       "</div>"
      ],
      "text/plain": [
       "       count          mean           std     min      25%      50%       75%  \\\n",
       "Class                                                                          \n",
       "1      568.0   9444.705986   6513.636387     1.0  4970.00   7286.5  12868.25   \n",
       "2      452.0   9306.362832   7624.322787   116.0  4184.25   6810.0  12209.50   \n",
       "3       89.0   6751.157303   3724.432760  1737.0  4283.00   5572.0   7415.00   \n",
       "4      686.0   8978.202624   7276.259637    53.0  4566.00   6351.0  11521.75   \n",
       "5      242.0   7504.462810   3890.263510   183.0  5245.00   6451.0   9513.50   \n",
       "6      275.0   7143.069091   3827.975473     1.0  4505.50   6587.0   7626.00   \n",
       "7      953.0  11437.911857  10105.202594     1.0  4871.00   8254.0  14620.00   \n",
       "8       19.0  10810.105263   5645.073662  2111.0  5586.00  11237.0  15535.00   \n",
       "9       37.0  12798.567568  10208.668344  1146.0  4942.00  10917.0  15797.00   \n",
       "\n",
       "           max  \n",
       "Class           \n",
       "1      52970.0  \n",
       "2      61923.0  \n",
       "3      27371.0  \n",
       "4      43893.0  \n",
       "5      24214.0  \n",
       "6      24597.0  \n",
       "7      76708.0  \n",
       "8      20612.0  \n",
       "9      45126.0  "
      ]
     },
     "execution_count": 20,
     "metadata": {},
     "output_type": "execute_result"
    }
   ],
   "source": [
    "count_class = train.groupby(\"Class\")[\"Text_count\"]\n",
    "count_class.describe()"
   ]
  },
  {
   "cell_type": "code",
   "execution_count": 47,
   "metadata": {},
   "outputs": [
    {
     "data": {
      "image/png": "[encoded data removed]",
      "text/plain": [
       "<matplotlib.figure.Figure at 0x23e4b59ca58>"
      ]
     },
     "metadata": {},
     "output_type": "display_data"
    }
   ],
   "source": [
    "plt.figure(figsize=(14,8))\n",
    "sns.violinplot(x=\"Class\", y=\"Text_count\", data=train, palette=\"GnBu_d\")\n",
    "sns.swarmplot(x=\"Class\", y=\"Text_count\", data=train, color=\"r\", alpha=0.10)\n",
    "plt.ylabel(\"Text Count\", fontsize=14)\n",
    "plt.xlabel(\"Class\", fontsize=14)\n",
    "plt.title(\"Text length distribution\", fontsize=18)\n",
    "plt.show()"
   ]
  },
  {
   "cell_type": "markdown",
   "metadata": {},
   "source": [
    "Through this Violin Plot, we can infer that most of the text in all the classes have between 0 and 20000 characters.\n",
    "\n",
    "We can also check in the \"min\" column of Class 1, Class 6 and Class 7 that there are some entries with Text Count = 1. Lets take a closer look at those entries and see what's going on."
   ]
  },
  {
   "cell_type": "code",
   "execution_count": 22,
   "metadata": {},
   "outputs": [
    {
     "data": {
      "text/html": [
       "<div>\n",
       "<style>\n",
       "    .dataframe thead tr:only-child th {\n",
       "        text-align: right;\n",
       "    }\n",
       "\n",
       "    .dataframe thead th {\n",
       "        text-align: left;\n",
       "    }\n",
       "\n",
       "    .dataframe tbody tr th {\n",
       "        vertical-align: top;\n",
       "    }\n",
       "</style>\n",
       "<table border=\"1\" class=\"dataframe\">\n",
       "  <thead>\n",
       "    <tr style=\"text-align: right;\">\n",
       "      <th></th>\n",
       "      <th>ID</th>\n",
       "      <th>Gene</th>\n",
       "      <th>Variation</th>\n",
       "      <th>Class</th>\n",
       "      <th>Text</th>\n",
       "      <th>Text_count</th>\n",
       "    </tr>\n",
       "  </thead>\n",
       "  <tbody>\n",
       "    <tr>\n",
       "      <th>1109</th>\n",
       "      <td>1109</td>\n",
       "      <td>FANCA</td>\n",
       "      <td>S1088F</td>\n",
       "      <td>1</td>\n",
       "      <td>null</td>\n",
       "      <td>1</td>\n",
       "    </tr>\n",
       "    <tr>\n",
       "      <th>1277</th>\n",
       "      <td>1277</td>\n",
       "      <td>ARID5B</td>\n",
       "      <td>Truncating Mutations</td>\n",
       "      <td>1</td>\n",
       "      <td>null</td>\n",
       "      <td>1</td>\n",
       "    </tr>\n",
       "    <tr>\n",
       "      <th>1407</th>\n",
       "      <td>1407</td>\n",
       "      <td>FGFR3</td>\n",
       "      <td>K508M</td>\n",
       "      <td>6</td>\n",
       "      <td>null</td>\n",
       "      <td>1</td>\n",
       "    </tr>\n",
       "    <tr>\n",
       "      <th>1639</th>\n",
       "      <td>1639</td>\n",
       "      <td>FLT1</td>\n",
       "      <td>Amplification</td>\n",
       "      <td>6</td>\n",
       "      <td>null</td>\n",
       "      <td>1</td>\n",
       "    </tr>\n",
       "    <tr>\n",
       "      <th>2755</th>\n",
       "      <td>2755</td>\n",
       "      <td>BRAF</td>\n",
       "      <td>G596C</td>\n",
       "      <td>7</td>\n",
       "      <td>null</td>\n",
       "      <td>1</td>\n",
       "    </tr>\n",
       "  </tbody>\n",
       "</table>\n",
       "</div>"
      ],
      "text/plain": [
       "        ID    Gene             Variation  Class  Text  Text_count\n",
       "1109  1109   FANCA                S1088F      1  null           1\n",
       "1277  1277  ARID5B  Truncating Mutations      1  null           1\n",
       "1407  1407   FGFR3                 K508M      6  null           1\n",
       "1639  1639    FLT1         Amplification      6  null           1\n",
       "2755  2755    BRAF                 G596C      7  null           1"
      ]
     },
     "execution_count": 22,
     "metadata": {},
     "output_type": "execute_result"
    }
   ],
   "source": [
    "train[train[\"Text_count\"]==1.0]"
   ]
  },
  {
   "cell_type": "markdown",
   "metadata": {},
   "source": [
    "Scientific terminology and stop words: Most scientific papers have a common style of language that will be reasonably homogeneous throughout the text files. Words like “result” or “discuss” will be frequent without necessarily containing any signal for our prediction goal. Therefore, below we'll define our own list of additional stop words.\n",
    "\n",
    "Paper notation quirks: Converting the paper text straight to ascii leads to a number of artefacts. None of those will have a big impact individually, but together they might reduce the accuracy of the analysis:\n",
    "     - Citation numbers (as used e.g. by Nature magazine) are attached to the corresponding word\n",
    "     - Occasionally, there are webpage navigation commands like “SectionNext” embedded in the text\n",
    "     - Author names and affiliations are occasionally included"
   ]
  },
  {
   "cell_type": "markdown",
   "metadata": {},
   "source": [
    "### Counting the number of Variation occurences in Text:"
   ]
  },
  {
   "cell_type": "code",
   "execution_count": 25,
   "metadata": {
    "collapsed": true
   },
   "outputs": [],
   "source": [
    "def varcount(df): #returns a dict of the frequency of the Variation in the correspondent Text\n",
    "    varcnt = dict()\n",
    "    for i in range(len(df)):\n",
    "        a = re.findall(df.loc[i,\"Variation\"],df.loc[i,\"Text\"],re.M) #re.findall(pattern, text, multiline)\n",
    "        varcnt[i] = len(a)\n",
    "    return varcnt"
   ]
  },
  {
   "cell_type": "code",
   "execution_count": 26,
   "metadata": {},
   "outputs": [
    {
     "data": {
      "text/html": [
       "<div>\n",
       "<style>\n",
       "    .dataframe thead tr:only-child th {\n",
       "        text-align: right;\n",
       "    }\n",
       "\n",
       "    .dataframe thead th {\n",
       "        text-align: left;\n",
       "    }\n",
       "\n",
       "    .dataframe tbody tr th {\n",
       "        vertical-align: top;\n",
       "    }\n",
       "</style>\n",
       "<table border=\"1\" class=\"dataframe\">\n",
       "  <thead>\n",
       "    <tr style=\"text-align: right;\">\n",
       "      <th></th>\n",
       "      <th>ID</th>\n",
       "      <th>Gene</th>\n",
       "      <th>Variation</th>\n",
       "      <th>Class</th>\n",
       "      <th>Text</th>\n",
       "      <th>Text_count</th>\n",
       "      <th>VarCount</th>\n",
       "    </tr>\n",
       "  </thead>\n",
       "  <tbody>\n",
       "    <tr>\n",
       "      <th>0</th>\n",
       "      <td>0</td>\n",
       "      <td>FAM58A</td>\n",
       "      <td>Truncating Mutations</td>\n",
       "      <td>1</td>\n",
       "      <td>Cyclin-dependent kinases (CDKs) regulate a var...</td>\n",
       "      <td>6089</td>\n",
       "      <td>0</td>\n",
       "    </tr>\n",
       "    <tr>\n",
       "      <th>1</th>\n",
       "      <td>1</td>\n",
       "      <td>CBL</td>\n",
       "      <td>W802*</td>\n",
       "      <td>2</td>\n",
       "      <td>Abstract Background  Non-small cell lung canc...</td>\n",
       "      <td>5722</td>\n",
       "      <td>13</td>\n",
       "    </tr>\n",
       "    <tr>\n",
       "      <th>2</th>\n",
       "      <td>2</td>\n",
       "      <td>CBL</td>\n",
       "      <td>Q249E</td>\n",
       "      <td>2</td>\n",
       "      <td>Abstract Background  Non-small cell lung canc...</td>\n",
       "      <td>5722</td>\n",
       "      <td>13</td>\n",
       "    </tr>\n",
       "    <tr>\n",
       "      <th>3</th>\n",
       "      <td>3</td>\n",
       "      <td>CBL</td>\n",
       "      <td>N454D</td>\n",
       "      <td>3</td>\n",
       "      <td>Recent evidence has demonstrated that acquired...</td>\n",
       "      <td>5572</td>\n",
       "      <td>5</td>\n",
       "    </tr>\n",
       "    <tr>\n",
       "      <th>4</th>\n",
       "      <td>4</td>\n",
       "      <td>CBL</td>\n",
       "      <td>L399V</td>\n",
       "      <td>4</td>\n",
       "      <td>Oncogenic mutations in the monomeric Casitas B...</td>\n",
       "      <td>6202</td>\n",
       "      <td>2</td>\n",
       "    </tr>\n",
       "  </tbody>\n",
       "</table>\n",
       "</div>"
      ],
      "text/plain": [
       "   ID    Gene             Variation  Class  \\\n",
       "0   0  FAM58A  Truncating Mutations      1   \n",
       "1   1     CBL                 W802*      2   \n",
       "2   2     CBL                 Q249E      2   \n",
       "3   3     CBL                 N454D      3   \n",
       "4   4     CBL                 L399V      4   \n",
       "\n",
       "                                                Text  Text_count  VarCount  \n",
       "0  Cyclin-dependent kinases (CDKs) regulate a var...        6089         0  \n",
       "1   Abstract Background  Non-small cell lung canc...        5722        13  \n",
       "2   Abstract Background  Non-small cell lung canc...        5722        13  \n",
       "3  Recent evidence has demonstrated that acquired...        5572         5  \n",
       "4  Oncogenic mutations in the monomeric Casitas B...        6202         2  "
      ]
     },
     "execution_count": 26,
     "metadata": {},
     "output_type": "execute_result"
    }
   ],
   "source": [
    "varcnt_df = pd.DataFrame(list(varcount(train).items()), columns=['ID','VarCount'])\n",
    "train = pd.merge(train, varcnt_df, how='outer', on='ID').fillna('')\n",
    "train.head()"
   ]
  },
  {
   "cell_type": "markdown",
   "metadata": {},
   "source": [
    "### Creating a function that picks the most common words in the \"Text\" of the df"
   ]
  },
  {
   "cell_type": "code",
   "execution_count": 27,
   "metadata": {
    "collapsed": true
   },
   "outputs": [],
   "source": [
    "from collections import Counter\n",
    "\n",
    "def most_common_words(df):\n",
    "    c = Counter()\n",
    "    for row in range(len(df[\"Text\"])):\n",
    "        c += Counter(df[\"Text\"][row].split())\n",
    "    return c"
   ]
  },
  {
   "cell_type": "code",
   "execution_count": 69,
   "metadata": {
    "collapsed": true
   },
   "outputs": [],
   "source": [
    "import operator\n",
    "\n",
    "word_list_top_25 = dict(most_common_words(train).most_common(25))\n",
    "sorted_word_list_top_25 = sorted(word_list_top_25.items(), key=operator.itemgetter(1), reverse=True)\n",
    "topwords = dict(sorted_word_list_top_25)\n",
    "word_counts = topwords.values()"
   ]
  },
  {
   "cell_type": "code",
   "execution_count": 70,
   "metadata": {
    "collapsed": true
   },
   "outputs": [],
   "source": [
    "wordlist = []\n",
    "for i in sorted_word_list_top_25:\n",
    "    wordlist.append(i[0])"
   ]
  },
  {
   "cell_type": "code",
   "execution_count": 76,
   "metadata": {},
   "outputs": [
    {
     "data": {
      "image/png": "[encoded data removed]",
      "text/plain": [
       "<matplotlib.figure.Figure at 0x23e4b9dc3c8>"
      ]
     },
     "metadata": {},
     "output_type": "display_data"
    }
   ],
   "source": [
    "# plt.rcdefaults()\n",
    "plt.figure(figsize=(14,8))\n",
    "ax = plt.subplot()\n",
    "\n",
    "y_pos = np.arange(len(sorted_word_list_top_25))\n",
    "\n",
    "ax.barh(y_pos, sorted(word_counts,reverse=True), align='center', color='DarkCyan')\n",
    "ax.set_facecolor('lightgray')\n",
    "ax.set_yticks(y_pos)\n",
    "ax.set_yticklabels(wordlist)\n",
    "ax.invert_yaxis()  # labels read top-to-bottom\n",
    "ax.set_ylabel('Words')\n",
    "ax.set_xlabel('Word Counts')\n",
    "ax.set_title('25 most frequent words', fontsize= 14)\n",
    "ax = plt.gca()\n",
    "ax.xaxis.grid()\n",
    "ax.yaxis.grid(color='gray', linestyle='dotted')\n",
    "ax.set_axisbelow(True)\n",
    "\n",
    "plt.show()"
   ]
  },
  {
   "cell_type": "markdown",
   "metadata": {},
   "source": [
    "### Estudando agora os n-grams presentes no texto:"
   ]
  },
  {
   "cell_type": "code",
   "execution_count": 31,
   "metadata": {
    "collapsed": true
   },
   "outputs": [],
   "source": [
    "from nltk import ngrams\n",
    "\n",
    "def unique_ngrams(text, n):\n",
    "    n_grams = ngrams(text.split(), n)\n",
    "    uniquengrams = {}\n",
    "    for n_gram in n_grams:\n",
    "        n_gram = ' '.join(n_gram)\n",
    "        if n_gram not in uniquengrams:\n",
    "            uniquengrams[n_gram] = 1\n",
    "        else:\n",
    "            uniquengrams[n_gram] += 1\n",
    "    return uniquengrams"
   ]
  },
  {
   "cell_type": "code",
   "execution_count": 32,
   "metadata": {},
   "outputs": [
    {
     "data": {
      "text/plain": [
       "[('in the', 36),\n",
       " ('of the', 34),\n",
       " ('of c-CBL', 28),\n",
       " ('in lung', 22),\n",
       " ('and the', 21),\n",
       " ('mutations in', 17),\n",
       " ('to the', 17),\n",
       " ('c-CBL mutations', 17),\n",
       " ('lung cancer', 16),\n",
       " ('the c-CBL', 15),\n",
       " ('RING finger', 13),\n",
       " ('cells were', 13),\n",
       " ('with the', 10),\n",
       " ('MET or', 10),\n",
       " ('or EGFR', 10),\n",
       " ('at the', 10),\n",
       " ('the RING', 9),\n",
       " ('in a', 9),\n",
       " ('number of', 9),\n",
       " ('EGFR and', 8)]"
      ]
     },
     "execution_count": 32,
     "metadata": {},
     "output_type": "execute_result"
    }
   ],
   "source": [
    "Counter(unique_ngrams(train.Text[2],2)).most_common(20)"
   ]
  },
  {
   "cell_type": "markdown",
   "metadata": {},
   "source": [
    "<a id=\"Cleaning_Data\"></a>\n",
    "### Cleaning Data"
   ]
  },
  {
   "cell_type": "markdown",
   "metadata": {},
   "source": [
    "Decapitalizing text, removing punctuation and stop-words, transliterating utf-8 to ascii:"
   ]
  },
  {
   "cell_type": "code",
   "execution_count": 83,
   "metadata": {
    "collapsed": true
   },
   "outputs": [],
   "source": [
    "# from sklearn.feature_extraction import text\n",
    "# from unidecode import unidecode\n",
    "# import nltk\n",
    "# from nltk.stem import WordNetLemmatizer\n",
    "\n",
    "# lemma = WordNetLemmatizer()\n",
    "\n",
    "# sw_toadd = ['et', 'al', 'figure', 'fig', 'table', 'data', 'analysis', 'analyze', 'study', \n",
    "#             'method', 'result', 'author', 'find', 'found', 'show', 'perform', 'demonstrate',\n",
    "#             'evaluate', 'discuss', 'google', 'scholar', 'pubmed', 'web', 'science', 'crossref',\n",
    "#             'supplementary', 'interestingly', 'and/or', 'andor', 'download', 'pptfig']\n",
    "# stop_words = set(text.ENGLISH_STOP_WORDS.union(sw_toadd))\n",
    "\n",
    "# def process_text(df, column_name):\n",
    "#     for row in range(len(df)):\n",
    "#         for p in list(\"!\\\"#$%&\\'()*+,-./:;<=>?@[\\\\]^_`{|}~\"):\n",
    "#             df.loc[row,column_name] = df.loc[row,column_name].replace(p,'') #removing punctuation\n",
    "#             df.loc[row,column_name] = ' '.join([word for word in (df.loc[row,column_name]).lower().split() if word not in stop_words]) #removing stopwords and decapitalizing\n",
    "#             splitted = df.loc[row,column_name].split()\n",
    "#             splittedtxt = []\n",
    "#             for i in splitted:\n",
    "#                 splittedtxt.append(lemma.lemmatize(i))\n",
    "#             df.loc[row,column_name] = ' '.join(splittedtxt) \n",
    "#             # Para tornar o dataframe num h2oFrame é necessário remover os caracteres non-ascii\n",
    "#             df.loc[row,column_name] = unidecode(df.loc[row,column_name]) # returns utf-8 transliterations to ascii encoding (e.g. Â -> A ou € -> EUR)\n",
    "#     return df"
   ]
  },
  {
   "cell_type": "code",
   "execution_count": 84,
   "metadata": {
    "collapsed": true
   },
   "outputs": [],
   "source": [
    "# traindf = process_text(traindf, \"Text\")\n",
    "# traindf.to_csv('processed_text_train.csv', encoding='utf-8')"
   ]
  },
  {
   "cell_type": "code",
   "execution_count": 85,
   "metadata": {
    "collapsed": true
   },
   "outputs": [],
   "source": [
    "# testdf = process_text(testdf, \"Text\")\n",
    "# testdf.to_csv('processed_text_test.csv', encoding='utf-8')"
   ]
  },
  {
   "cell_type": "code",
   "execution_count": 86,
   "metadata": {
    "collapsed": true,
    "scrolled": true
   },
   "outputs": [],
   "source": [
    "# mergedtextdf = pd.concat([traindf.loc[:,\"Text\"], testdf.loc[:,\"Text\"]])\n",
    "# mergedtextdf = mergedtextdf.reset_index()\n",
    "# for i in range(len(mergedtextdf)):\n",
    "#     mergedtextdf.loc[i,\"Text\"] = unidecode(mergedtextdf.loc[i,\"Text\"])\n",
    "# mergedtextdf.to_csv('processed_mergedtext.csv', encoding='utf-8')"
   ]
  },
  {
   "cell_type": "code",
   "execution_count": 2,
   "metadata": {
    "collapsed": true
   },
   "outputs": [],
   "source": [
    "trainingdf = pd.read_csv('processed_text_train.csv').loc[:,[\"ID\",\"Gene\",\"Variation\",\"Class\",\"Text\"]].copy()\n",
    "testingdf = pd.read_csv('processed_text_test.csv').loc[:,[\"ID\",\"Gene\",\"Variation\",\"Text\"]].copy()\n",
    "mergedtextdf = pd.read_csv('processed_mergedtext.csv').loc[:,[\"index\", \"Text\"]].copy()\n",
    "mergedgenedf = pd.concat([trainingdf.loc[:,[\"ID\", \"Gene\"]], testingdf.loc[:,[\"ID\", \"Gene\"]]])"
   ]
  },
  {
   "cell_type": "code",
   "execution_count": 88,
   "metadata": {
    "scrolled": false
   },
   "outputs": [
    {
     "data": {
      "image/png": "[encoded data removed]",
      "text/plain": [
       "<matplotlib.figure.Figure at 0x23f092099b0>"
      ]
     },
     "metadata": {},
     "output_type": "display_data"
    }
   ],
   "source": [
    "import operator\n",
    "\n",
    "xword_list_top_25 = dict(most_common_words(mergedtextdf).most_common(25))\n",
    "xsorted_word_list_top_25 = sorted(xword_list_top_25.items(), key=operator.itemgetter(1), reverse=True)\n",
    "xtopwords = dict(xsorted_word_list_top_25)\n",
    "xword_counts = xtopwords.values()\n",
    "xwordlist = []\n",
    "for i in xsorted_word_list_top_25:\n",
    "    xwordlist.append(i[0])\n",
    "    \n",
    "# plt.rcdefaults()\n",
    "plt.figure(figsize=(14,8))\n",
    "ax = plt.subplot()\n",
    "\n",
    "xy_pos = np.arange(len(xsorted_word_list_top_25))\n",
    "\n",
    "ax.barh(y_pos, sorted(xword_counts,reverse=True), align='center', color='DarkCyan')\n",
    "ax.set_facecolor('lightgray')\n",
    "ax.set_yticks(xy_pos)\n",
    "ax.set_yticklabels(xwordlist)\n",
    "ax.invert_yaxis()  # labels read top-to-bottom\n",
    "ax.set_ylabel('Words')\n",
    "ax.set_xlabel('Word Counts')\n",
    "ax.set_title('25 most frequent words', fontsize= 14)\n",
    "ax = plt.gca()\n",
    "ax.xaxis.grid()\n",
    "ax.yaxis.grid(color='gray', linestyle='dotted')\n",
    "ax.set_axisbelow(True)\n",
    "\n",
    "plt.show()"
   ]
  },
  {
   "cell_type": "code",
   "execution_count": 43,
   "metadata": {},
   "outputs": [
    {
     "data": {
      "image/png": "[encoded data removed]",
      "text/plain": [
       "<matplotlib.figure.Figure at 0x1e24d2f9dd8>"
      ]
     },
     "metadata": {},
     "output_type": "display_data"
    }
   ],
   "source": [
    "%matplotlib inline\n",
    "\n",
    "from wordcloud import WordCloud\n",
    "\n",
    "#Convert all the required text into a single string here and store them in word_string. You can specify fonts, stopwords, background color and other options\n",
    "word_string = \"\"\n",
    "for i in mergedtextdf.Text:\n",
    "    word_string += i\n",
    "\n",
    "wordcloud = WordCloud(background_color='black',\n",
    "                          width=2000,\n",
    "                          height=1500\n",
    "                         ).generate(word_string)\n",
    "\n",
    "plt.figure(figsize=(20,5))\n",
    "plt.imshow(wordcloud)\n",
    "plt.axis('off')\n",
    "plt.show()"
   ]
  },
  {
   "cell_type": "markdown",
   "metadata": {},
   "source": [
    "[(go up)](#Index)\n",
    "***\n",
    "<a id=\"Feature_Engineering\"></a>\n",
    "<div class=\"alert alert-block alert-info\"><font size=6><b>2. Feature Engineering</b></font></div>"
   ]
  },
  {
   "cell_type": "markdown",
   "metadata": {},
   "source": [
    "<a id=\"Text\"></a>\n",
    "### Text - Feature Engineering"
   ]
  },
  {
   "cell_type": "code",
   "execution_count": 5,
   "metadata": {
    "collapsed": true
   },
   "outputs": [],
   "source": [
    "from sklearn.feature_extraction.text import TfidfVectorizer\n",
    "\n",
    "tfidfvectorizer = TfidfVectorizer(stop_words=None, ngram_range=(1,2), max_features=275)\n",
    "\n",
    "txt_tfidf = tfidfvectorizer.fit_transform(mergedtextdf.Text)\n",
    "textfeaturesdf = pd.DataFrame(txt_tfidf.toarray())\n",
    "textfeaturesdf.columns = tfidfvectorizer.get_feature_names()"
   ]
  },
  {
   "cell_type": "code",
   "execution_count": 6,
   "metadata": {
    "collapsed": true
   },
   "outputs": [],
   "source": [
    "textfeatures = list(textfeaturesdf.columns)"
   ]
  },
  {
   "cell_type": "markdown",
   "metadata": {},
   "source": [
    "extraindo agora features do trainingdf e do testingdf"
   ]
  },
  {
   "cell_type": "code",
   "execution_count": 7,
   "metadata": {
    "collapsed": true
   },
   "outputs": [],
   "source": [
    "vect = TfidfVectorizer(vocabulary=textfeatures)\n",
    "\n",
    "trainvect = vect.fit_transform(trainingdf.Text)\n",
    "testvect = vect.fit_transform(testingdf.Text)\n",
    "\n",
    "trainingfeaturesdf = pd.DataFrame(trainvect.toarray())\n",
    "trainingfeaturesdf.columns = vect.get_feature_names()\n",
    "\n",
    "testingfeaturesdf = pd.DataFrame(testvect.toarray())\n",
    "testingfeaturesdf.columns = vect.get_feature_names()"
   ]
  },
  {
   "cell_type": "markdown",
   "metadata": {},
   "source": [
    "Juntando as features nos dfs e retirando o \"Text\":"
   ]
  },
  {
   "cell_type": "code",
   "execution_count": 8,
   "metadata": {
    "collapsed": true
   },
   "outputs": [],
   "source": [
    "trainingdf = pd.concat([trainingdf.loc[:,[\"ID\",\"Gene\",\"Variation\",\"Class\"]],trainingfeaturesdf], axis=1)\n",
    "testingdf = pd.concat([testingdf.loc[:,[\"ID\",\"Gene\",\"Variation\"]],testingfeaturesdf], axis=1)"
   ]
  },
  {
   "cell_type": "markdown",
   "metadata": {},
   "source": [
    "<a id=\"Variation\"></a>\n",
    "### Variation - Feature Engineering"
   ]
  },
  {
   "cell_type": "code",
   "execution_count": 9,
   "metadata": {
    "collapsed": true
   },
   "outputs": [],
   "source": [
    "mergedvarsdf = pd.concat([trainingdf.loc[:,\"Variation\"], testingdf.loc[:,\"Variation\"]])\n",
    "mergedvarsdf = mergedvarsdf.reset_index()"
   ]
  },
  {
   "cell_type": "markdown",
   "metadata": {},
   "source": [
    "[*simple_var*] Criando feature com Variation do tipo ___^[A-Z]\\d{1,7}[A-Z]\\$___ ou ___^[A-Z]\\d{1,7}\\\\*\\$___ ou ___^\\\\*\\d{1,7}[A-Z]\\$___ (variation simples):"
   ]
  },
  {
   "cell_type": "code",
   "execution_count": 10,
   "metadata": {
    "collapsed": true
   },
   "outputs": [],
   "source": [
    "simplevars = ((mergedvarsdf[\"Variation\"].str.contains(r'^[A-Z]\\d{1,7}[A-Z]$|^[A-Z]\\d{1,7}\\*\\$|^\\*\\d{1,7}[A-Z]$').values).copy()).tolist()\n",
    "for i in range(len(simplevars)):\n",
    "    simplevars[i] = int(simplevars[i] == True)"
   ]
  },
  {
   "cell_type": "code",
   "execution_count": 11,
   "metadata": {
    "collapsed": true
   },
   "outputs": [],
   "source": [
    "simplevarstrain = ((trainingdf[\"Variation\"].str.contains(r'^[A-Z]\\d{1,7}[A-Z]$|^[A-Z]\\d{1,7}\\*$|^\\*\\d{1,7}[A-Z]$').values)).tolist()\n",
    "simplevarstest = ((testingdf[\"Variation\"].str.contains(r'^[A-Z]\\d{1,7}[A-Z]$|^[A-Z]\\d{1,7}\\*$|^\\*\\d{1,7}[A-Z]$').values)).tolist()\n",
    "\n",
    "for i in range(len(simplevarstrain)):\n",
    "    simplevarstrain[i] = int(simplevarstrain[i] == True) #convertendo True em 1\n",
    "\n",
    "for i in range(len(simplevarstest)):\n",
    "    simplevarstest[i] = int(simplevarstest[i] == True) #convertendo True em 1\n",
    "    \n",
    "trainingdf[\"simple_var\"] = np.asarray(simplevarstrain)\n",
    "testingdf[\"simple_var\"] = np.asarray(simplevarstest)"
   ]
  },
  {
   "cell_type": "markdown",
   "metadata": {},
   "source": [
    "[*firstsimple_var*] Criando feature com primeira letra (AA) da simple_var:"
   ]
  },
  {
   "cell_type": "code",
   "execution_count": 12,
   "metadata": {
    "collapsed": true
   },
   "outputs": [],
   "source": [
    "trainingdf[\"firstsimple_var\"] = trainingdf.loc[trainingdf.simple_var==1,\"Variation\"].str[0]\n",
    "for i in range(len(trainingdf)):\n",
    "    if r'*' in str(trainingdf.loc[i, \"firstsimple_var\"]):\n",
    "        trainingdf.loc[i, \"firstsimple_var\"] = np.nan\n",
    "        \n",
    "testingdf[\"firstsimple_var\"] = testingdf.loc[testingdf.simple_var==1,\"Variation\"].str[0]\n",
    "for i in range(len(testingdf)):\n",
    "    if r'*' in str(testingdf.loc[i, \"firstsimple_var\"]):\n",
    "        testingdf.loc[i, \"firstsimple_var\"] = np.nan"
   ]
  },
  {
   "cell_type": "markdown",
   "metadata": {},
   "source": [
    "[*lastsimple_var*] Criando feature com última letra (AA) da simple_var:"
   ]
  },
  {
   "cell_type": "code",
   "execution_count": 13,
   "metadata": {
    "collapsed": true
   },
   "outputs": [],
   "source": [
    "trainingdf[\"lastsimple_var\"] = trainingdf.loc[trainingdf.simple_var==1,\"Variation\"].str[-1]\n",
    "for i in range(len(trainingdf)):\n",
    "    if r'*' in str(trainingdf.loc[i, \"lastsimple_var\"]):\n",
    "        trainingdf.loc[i, \"lastsimple_var\"] = np.nan\n",
    "\n",
    "testingdf[\"lastsimple_var\"] = testingdf.loc[testingdf.simple_var==1,\"Variation\"].str[-1]\n",
    "for i in range(len(testingdf)):\n",
    "    if r'*' in str(testingdf.loc[i, \"lastsimple_var\"]):\n",
    "        testingdf.loc[i, \"lastsimple_var\"] = np.nan"
   ]
  },
  {
   "cell_type": "markdown",
   "metadata": {},
   "source": [
    "[*deletion_var*] Criando feature com Variation do tipo ___Deletion___:"
   ]
  },
  {
   "cell_type": "code",
   "execution_count": 14,
   "metadata": {
    "collapsed": true
   },
   "outputs": [],
   "source": [
    "deletionvarstrain = ((trainingdf[\"Variation\"].str.contains(r'Deletion|del', case=False).values)).tolist()\n",
    "deletionvarstest = ((testingdf[\"Variation\"].str.contains(r'Deletion|del', case=False).values)).tolist()\n",
    "\n",
    "for i in range(len(deletionvarstrain)):\n",
    "    deletionvarstrain[i] = int(deletionvarstrain[i] == True) #convertendo True em 1\n",
    "\n",
    "for i in range(len(deletionvarstest)):\n",
    "    deletionvarstest[i] = int(deletionvarstest[i] == True) #convertendo True em 1\n",
    "\n",
    "trainingdf[\"deletion_var\"] = np.asarray(deletionvarstrain)\n",
    "testingdf[\"deletion_var\"] = np.asarray(deletionvarstest)"
   ]
  },
  {
   "cell_type": "markdown",
   "metadata": {},
   "source": [
    "[*amplification_var*] Criando feature com Variation do tipo ___Amplification___:"
   ]
  },
  {
   "cell_type": "code",
   "execution_count": 15,
   "metadata": {
    "collapsed": true
   },
   "outputs": [],
   "source": [
    "amplificationvarstrain = ((trainingdf[\"Variation\"].str.contains(r'Amplification', case=False).values)).tolist()\n",
    "amplificationvarstest = ((testingdf[\"Variation\"].str.contains(r'Amplification', case=False).values)).tolist()\n",
    "\n",
    "for i in range(len(amplificationvarstrain)):\n",
    "    amplificationvarstrain[i] = int(amplificationvarstrain[i] == True) #convertendo True em 1\n",
    "\n",
    "for i in range(len(amplificationvarstest)):\n",
    "    amplificationvarstest[i] = int(amplificationvarstest[i] == True) #convertendo True em 1\n",
    "\n",
    "trainingdf[\"amplification_var\"] = np.asarray(amplificationvarstrain)\n",
    "testingdf[\"amplification_var\"] = np.asarray(amplificationvarstest)"
   ]
  },
  {
   "cell_type": "markdown",
   "metadata": {},
   "source": [
    "[*overexpression_var*] Criando feature com Variation do tipo ___Overexpression___:"
   ]
  },
  {
   "cell_type": "code",
   "execution_count": 16,
   "metadata": {
    "collapsed": true
   },
   "outputs": [],
   "source": [
    "overexpressionvarstrain = ((trainingdf[\"Variation\"].str.contains(r'Overexpression', case=False).values)).tolist()\n",
    "overexpressionvarstest = ((testingdf[\"Variation\"].str.contains(r'Overexpression', case=False).values)).tolist()\n",
    "\n",
    "for i in range(len(overexpressionvarstrain)):\n",
    "    overexpressionvarstrain[i] = int(overexpressionvarstrain[i] == True) #convertendo True em 1\n",
    "\n",
    "for i in range(len(overexpressionvarstest)):\n",
    "    overexpressionvarstest[i] = int(overexpressionvarstest[i] == True) #convertendo True em 1\n",
    "\n",
    "trainingdf[\"overexpression_var\"] = np.asarray(overexpressionvarstrain)\n",
    "testingdf[\"overexpression_var\"] = np.asarray(overexpressionvarstest)"
   ]
  },
  {
   "cell_type": "markdown",
   "metadata": {},
   "source": [
    "[*fusion_var*] Criando feature com Variation do tipo ___Fusion___:"
   ]
  },
  {
   "cell_type": "code",
   "execution_count": 17,
   "metadata": {
    "collapsed": true
   },
   "outputs": [],
   "source": [
    "fusionvarstrain = ((trainingdf[\"Variation\"].str.contains(r'Fusion', case=False).values)).tolist()\n",
    "fusionvarstest = ((testingdf[\"Variation\"].str.contains(r'Fusion', case=False).values)).tolist()\n",
    "\n",
    "for i in range(len(fusionvarstrain)):\n",
    "    fusionvarstrain[i] = int(fusionvarstrain[i] == True) #convertendo True em 1\n",
    "\n",
    "for i in range(len(fusionvarstest)):\n",
    "    fusionvarstest[i] = int(fusionvarstest[i] == True) #convertendo True em 1\n",
    "\n",
    "trainingdf[\"fusion_var\"] = np.asarray(fusionvarstrain)\n",
    "testingdf[\"fusion_var\"] = np.asarray(fusionvarstest)"
   ]
  },
  {
   "cell_type": "markdown",
   "metadata": {},
   "source": [
    "[*truncation_var*] Criando feature com Variation do tipo ___trunc___:"
   ]
  },
  {
   "cell_type": "code",
   "execution_count": 18,
   "metadata": {
    "collapsed": true
   },
   "outputs": [],
   "source": [
    "truncationvarstrain = ((trainingdf[\"Variation\"].str.contains(r'trunc', case=False).values)).tolist()\n",
    "truncationvarstest = ((testingdf[\"Variation\"].str.contains(r'trunc', case=False).values)).tolist()\n",
    "\n",
    "for i in range(len(truncationvarstrain)):\n",
    "    truncationvarstrain[i] = int(truncationvarstrain[i] == True) #convertendo True em 1\n",
    "\n",
    "for i in range(len(truncationvarstest)):\n",
    "    truncationvarstest[i] = int(truncationvarstest[i] == True) #convertendo True em 1\n",
    "\n",
    "trainingdf[\"truncation_var\"] = np.asarray(truncationvarstrain)\n",
    "testingdf[\"truncation_var\"] = np.asarray(truncationvarstest)"
   ]
  },
  {
   "cell_type": "markdown",
   "metadata": {},
   "source": [
    "[*insertion_var*] Criando feature com Variation do tipo ___ins___:"
   ]
  },
  {
   "cell_type": "code",
   "execution_count": 19,
   "metadata": {
    "collapsed": true
   },
   "outputs": [],
   "source": [
    "insertionvarstrain = ((trainingdf[\"Variation\"].str.contains(r'ins').values)).tolist()\n",
    "insertionvarstest = ((testingdf[\"Variation\"].str.contains(r'ins').values)).tolist()\n",
    "\n",
    "for i in range(len(insertionvarstrain)):\n",
    "    insertionvarstrain[i] = int(insertionvarstrain[i] == True) #convertendo True em 1\n",
    "\n",
    "for i in range(len(insertionvarstest)):\n",
    "    insertionvarstest[i] = int(insertionvarstest[i] == True) #convertendo True em 1\n",
    "\n",
    "trainingdf[\"insertion_var\"] = np.asarray(insertionvarstrain)\n",
    "testingdf[\"insertion_var\"] = np.asarray(insertionvarstest)"
   ]
  },
  {
   "cell_type": "markdown",
   "metadata": {},
   "source": [
    "[*frameshift_var*] Criando feature com Variation do tipo ___fs___:"
   ]
  },
  {
   "cell_type": "code",
   "execution_count": 20,
   "metadata": {
    "collapsed": true
   },
   "outputs": [],
   "source": [
    "fsvarstrain = ((trainingdf[\"Variation\"].str.contains(r'fs').values)).tolist()\n",
    "fsvarstest = ((testingdf[\"Variation\"].str.contains(r'fs').values)).tolist()\n",
    "\n",
    "for i in range(len(fsvarstrain)):\n",
    "    fsvarstrain[i] = int(fsvarstrain[i] == True) #convertendo True em 1\n",
    "\n",
    "for i in range(len(fsvarstest)):\n",
    "    fsvarstest[i] = int(fsvarstest[i] == True) #convertendo True em 1\n",
    "\n",
    "trainingdf[\"frameshift_var\"] = np.asarray(fsvarstrain)\n",
    "testingdf[\"frameshift_var\"] = np.asarray(fsvarstest)"
   ]
  },
  {
   "cell_type": "markdown",
   "metadata": {},
   "source": [
    "[*splicing_var*] Criando feature com Variation do tipo ___splice___:"
   ]
  },
  {
   "cell_type": "code",
   "execution_count": 21,
   "metadata": {
    "collapsed": true
   },
   "outputs": [],
   "source": [
    "splicevarstrain = ((trainingdf[\"Variation\"].str.contains(r'splice', case=False).values)).tolist()\n",
    "splicevarstest = ((testingdf[\"Variation\"].str.contains(r'splice', case=False).values)).tolist()\n",
    "\n",
    "for i in range(len(splicevarstrain)):\n",
    "    splicevarstrain[i] = int(splicevarstrain[i] == True) #convertendo True em 1\n",
    "\n",
    "for i in range(len(splicevarstest)):\n",
    "    splicevarstest[i] = int(splicevarstest[i] == True) #convertendo True em 1\n",
    "\n",
    "trainingdf[\"splicing_var\"] = np.asarray(splicevarstrain)\n",
    "testingdf[\"splicing_var\"] = np.asarray(splicevarstest)"
   ]
  },
  {
   "cell_type": "markdown",
   "metadata": {},
   "source": [
    "[*duplication_var*] Criando feature com Variation do tipo ___dup___:"
   ]
  },
  {
   "cell_type": "code",
   "execution_count": 22,
   "metadata": {
    "collapsed": true
   },
   "outputs": [],
   "source": [
    "duplicationvarstrain = ((trainingdf[\"Variation\"].str.contains(r'dup').values)).tolist()\n",
    "duplicationvarstest = ((testingdf[\"Variation\"].str.contains(r'dup').values)).tolist()\n",
    "\n",
    "for i in range(len(duplicationvarstrain)):\n",
    "    duplicationvarstrain[i] = int(duplicationvarstrain[i] == True) #convertendo True em 1\n",
    "\n",
    "for i in range(len(duplicationvarstest)):\n",
    "    duplicationvarstest[i] = int(duplicationvarstest[i] == True) #convertendo True em 1\n",
    "\n",
    "trainingdf[\"duplication_var\"] = np.asarray(duplicationvarstrain)\n",
    "testingdf[\"duplication_var\"] = np.asarray(duplicationvarstest)"
   ]
  },
  {
   "cell_type": "markdown",
   "metadata": {},
   "source": [
    "[*methylation_var*] Criando feature com Variation do tipo ___methyl___:"
   ]
  },
  {
   "cell_type": "code",
   "execution_count": 23,
   "metadata": {
    "collapsed": true
   },
   "outputs": [],
   "source": [
    "methylationvarstrain = ((trainingdf[\"Variation\"].str.contains(r'methyl', case=False).values)).tolist()\n",
    "methylationvarstest = ((testingdf[\"Variation\"].str.contains(r'methyl', case=False).values)).tolist()\n",
    "\n",
    "for i in range(len(methylationvarstrain)):\n",
    "    methylationvarstrain[i] = int(methylationvarstrain[i] == True) #convertendo True em 1\n",
    "\n",
    "for i in range(len(methylationvarstest)):\n",
    "    methylationvarstest[i] = int(methylationvarstest[i] == True) #convertendo True em 1\n",
    "\n",
    "trainingdf[\"methylation_var\"] = np.asarray(methylationvarstrain)\n",
    "testingdf[\"methylation_var\"] = np.asarray(methylationvarstest)"
   ]
  },
  {
   "cell_type": "markdown",
   "metadata": {},
   "source": [
    "<a id=\"Gene\"></a>\n",
    "### Gene - Feature Engineering"
   ]
  },
  {
   "cell_type": "code",
   "execution_count": 24,
   "metadata": {
    "collapsed": true
   },
   "outputs": [],
   "source": [
    "from sklearn.feature_extraction.text import CountVectorizer\n",
    "\n",
    "gene_vect = CountVectorizer(analyzer=u'char', ngram_range=(2, 8), max_features=150)\n",
    "\n",
    "gene_countvect = gene_vect.fit_transform(mergedgenedf.Gene)\n",
    "genefeaturesdf = pd.DataFrame(gene_countvect.toarray())\n",
    "genefeaturesdf.columns = gene_vect.get_feature_names()\n",
    "\n",
    "genefeatures = list(genefeaturesdf.columns)"
   ]
  },
  {
   "cell_type": "code",
   "execution_count": 25,
   "metadata": {
    "collapsed": true
   },
   "outputs": [],
   "source": [
    "genevect = CountVectorizer(vocabulary=genefeatures, analyzer=u'char', ngram_range=(2, 8))\n",
    "\n",
    "train_gene_vect = genevect.fit_transform(trainingdf.Gene)\n",
    "test_gene_vect = genevect.fit_transform(testingdf.Gene)\n",
    "\n",
    "traininggenefeaturesdf = pd.DataFrame(train_gene_vect.toarray())\n",
    "traininggenefeaturesdf.columns = genevect.get_feature_names()\n",
    "\n",
    "testinggenefeaturesdf = pd.DataFrame(test_gene_vect.toarray())\n",
    "testinggenefeaturesdf.columns = genevect.get_feature_names()"
   ]
  },
  {
   "cell_type": "code",
   "execution_count": 26,
   "metadata": {
    "collapsed": true
   },
   "outputs": [],
   "source": [
    "trainingdf = pd.concat([trainingdf.drop([\"Gene\"],axis=1), traininggenefeaturesdf], axis=1)\n",
    "testingdf = pd.concat([testingdf.drop([\"Gene\"],axis=1),testinggenefeaturesdf], axis=1)"
   ]
  },
  {
   "cell_type": "code",
   "execution_count": 27,
   "metadata": {},
   "outputs": [
    {
     "data": {
      "text/plain": [
       "(3321, 441)"
      ]
     },
     "execution_count": 27,
     "metadata": {},
     "output_type": "execute_result"
    }
   ],
   "source": [
    "trainingdf.shape"
   ]
  },
  {
   "cell_type": "markdown",
   "metadata": {},
   "source": [
    "Testar strings na Variation:"
   ]
  },
  {
   "cell_type": "code",
   "execution_count": 44,
   "metadata": {
    "collapsed": true
   },
   "outputs": [
    {
     "ename": "KeyError",
     "evalue": "'Variation'",
     "output_type": "error",
     "traceback": [
      "\u001b[1;31m---------------------------------------------------------------------------\u001b[0m",
      "\u001b[1;31mKeyError\u001b[0m                                  Traceback (most recent call last)",
      "\u001b[1;32mC:\\Anaconda3\\envs\\Python35\\lib\\site-packages\\pandas\\core\\indexes\\base.py\u001b[0m in \u001b[0;36mget_loc\u001b[1;34m(self, key, method, tolerance)\u001b[0m\n\u001b[0;32m   2441\u001b[0m             \u001b[1;32mtry\u001b[0m\u001b[1;33m:\u001b[0m\u001b[1;33m\u001b[0m\u001b[0m\n\u001b[1;32m-> 2442\u001b[1;33m                 \u001b[1;32mreturn\u001b[0m \u001b[0mself\u001b[0m\u001b[1;33m.\u001b[0m\u001b[0m_engine\u001b[0m\u001b[1;33m.\u001b[0m\u001b[0mget_loc\u001b[0m\u001b[1;33m(\u001b[0m\u001b[0mkey\u001b[0m\u001b[1;33m)\u001b[0m\u001b[1;33m\u001b[0m\u001b[0m\n\u001b[0m\u001b[0;32m   2443\u001b[0m             \u001b[1;32mexcept\u001b[0m \u001b[0mKeyError\u001b[0m\u001b[1;33m:\u001b[0m\u001b[1;33m\u001b[0m\u001b[0m\n",
      "\u001b[1;32mpandas\\_libs\\index.pyx\u001b[0m in \u001b[0;36mpandas._libs.index.IndexEngine.get_loc (pandas\\_libs\\index.c:5280)\u001b[1;34m()\u001b[0m\n",
      "\u001b[1;32mpandas\\_libs\\index.pyx\u001b[0m in \u001b[0;36mpandas._libs.index.IndexEngine.get_loc (pandas\\_libs\\index.c:5126)\u001b[1;34m()\u001b[0m\n",
      "\u001b[1;32mpandas\\_libs\\hashtable_class_helper.pxi\u001b[0m in \u001b[0;36mpandas._libs.hashtable.PyObjectHashTable.get_item (pandas\\_libs\\hashtable.c:20523)\u001b[1;34m()\u001b[0m\n",
      "\u001b[1;32mpandas\\_libs\\hashtable_class_helper.pxi\u001b[0m in \u001b[0;36mpandas._libs.hashtable.PyObjectHashTable.get_item (pandas\\_libs\\hashtable.c:20477)\u001b[1;34m()\u001b[0m\n",
      "\u001b[1;31mKeyError\u001b[0m: 'Variation'",
      "\nDuring handling of the above exception, another exception occurred:\n",
      "\u001b[1;31mKeyError\u001b[0m                                  Traceback (most recent call last)",
      "\u001b[1;32m<ipython-input-44-66ee4b62b562>\u001b[0m in \u001b[0;36m<module>\u001b[1;34m()\u001b[0m\n\u001b[0;32m      1\u001b[0m \u001b[0mstring\u001b[0m\u001b[1;33m,\u001b[0m \u001b[0mcasesensitive\u001b[0m \u001b[1;33m=\u001b[0m \u001b[1;34mr'fusion'\u001b[0m\u001b[1;33m,\u001b[0m \u001b[1;32mFalse\u001b[0m\u001b[1;33m\u001b[0m\u001b[0m\n\u001b[0;32m      2\u001b[0m \u001b[1;33m\u001b[0m\u001b[0m\n\u001b[1;32m----> 3\u001b[1;33m \u001b[0mstrtrain\u001b[0m \u001b[1;33m=\u001b[0m \u001b[1;33m(\u001b[0m\u001b[0mtrainingdf\u001b[0m\u001b[1;33m[\u001b[0m\u001b[1;34m\"Variation\"\u001b[0m\u001b[1;33m]\u001b[0m\u001b[1;33m.\u001b[0m\u001b[0mstr\u001b[0m\u001b[1;33m.\u001b[0m\u001b[0mcontains\u001b[0m\u001b[1;33m(\u001b[0m\u001b[0mstring\u001b[0m\u001b[1;33m,\u001b[0m \u001b[0mcase\u001b[0m\u001b[1;33m=\u001b[0m\u001b[0mcasesensitive\u001b[0m\u001b[1;33m)\u001b[0m\u001b[1;33m.\u001b[0m\u001b[0mvalues\u001b[0m\u001b[1;33m)\u001b[0m\u001b[1;33m.\u001b[0m\u001b[0mtolist\u001b[0m\u001b[1;33m(\u001b[0m\u001b[1;33m)\u001b[0m\u001b[1;33m\u001b[0m\u001b[0m\n\u001b[0m\u001b[0;32m      4\u001b[0m \u001b[0mstrcount\u001b[0m \u001b[1;33m=\u001b[0m \u001b[1;36m0\u001b[0m\u001b[1;33m\u001b[0m\u001b[0m\n\u001b[0;32m      5\u001b[0m \u001b[1;32mfor\u001b[0m \u001b[0mi\u001b[0m \u001b[1;32min\u001b[0m \u001b[0mrange\u001b[0m\u001b[1;33m(\u001b[0m\u001b[0mlen\u001b[0m\u001b[1;33m(\u001b[0m\u001b[0mstrtrain\u001b[0m\u001b[1;33m)\u001b[0m\u001b[1;33m)\u001b[0m\u001b[1;33m:\u001b[0m\u001b[1;33m\u001b[0m\u001b[0m\n",
      "\u001b[1;32mC:\\Anaconda3\\envs\\Python35\\lib\\site-packages\\pandas\\core\\frame.py\u001b[0m in \u001b[0;36m__getitem__\u001b[1;34m(self, key)\u001b[0m\n\u001b[0;32m   1962\u001b[0m             \u001b[1;32mreturn\u001b[0m \u001b[0mself\u001b[0m\u001b[1;33m.\u001b[0m\u001b[0m_getitem_multilevel\u001b[0m\u001b[1;33m(\u001b[0m\u001b[0mkey\u001b[0m\u001b[1;33m)\u001b[0m\u001b[1;33m\u001b[0m\u001b[0m\n\u001b[0;32m   1963\u001b[0m         \u001b[1;32melse\u001b[0m\u001b[1;33m:\u001b[0m\u001b[1;33m\u001b[0m\u001b[0m\n\u001b[1;32m-> 1964\u001b[1;33m             \u001b[1;32mreturn\u001b[0m \u001b[0mself\u001b[0m\u001b[1;33m.\u001b[0m\u001b[0m_getitem_column\u001b[0m\u001b[1;33m(\u001b[0m\u001b[0mkey\u001b[0m\u001b[1;33m)\u001b[0m\u001b[1;33m\u001b[0m\u001b[0m\n\u001b[0m\u001b[0;32m   1965\u001b[0m \u001b[1;33m\u001b[0m\u001b[0m\n\u001b[0;32m   1966\u001b[0m     \u001b[1;32mdef\u001b[0m \u001b[0m_getitem_column\u001b[0m\u001b[1;33m(\u001b[0m\u001b[0mself\u001b[0m\u001b[1;33m,\u001b[0m \u001b[0mkey\u001b[0m\u001b[1;33m)\u001b[0m\u001b[1;33m:\u001b[0m\u001b[1;33m\u001b[0m\u001b[0m\n",
      "\u001b[1;32mC:\\Anaconda3\\envs\\Python35\\lib\\site-packages\\pandas\\core\\frame.py\u001b[0m in \u001b[0;36m_getitem_column\u001b[1;34m(self, key)\u001b[0m\n\u001b[0;32m   1969\u001b[0m         \u001b[1;31m# get column\u001b[0m\u001b[1;33m\u001b[0m\u001b[1;33m\u001b[0m\u001b[0m\n\u001b[0;32m   1970\u001b[0m         \u001b[1;32mif\u001b[0m \u001b[0mself\u001b[0m\u001b[1;33m.\u001b[0m\u001b[0mcolumns\u001b[0m\u001b[1;33m.\u001b[0m\u001b[0mis_unique\u001b[0m\u001b[1;33m:\u001b[0m\u001b[1;33m\u001b[0m\u001b[0m\n\u001b[1;32m-> 1971\u001b[1;33m             \u001b[1;32mreturn\u001b[0m \u001b[0mself\u001b[0m\u001b[1;33m.\u001b[0m\u001b[0m_get_item_cache\u001b[0m\u001b[1;33m(\u001b[0m\u001b[0mkey\u001b[0m\u001b[1;33m)\u001b[0m\u001b[1;33m\u001b[0m\u001b[0m\n\u001b[0m\u001b[0;32m   1972\u001b[0m \u001b[1;33m\u001b[0m\u001b[0m\n\u001b[0;32m   1973\u001b[0m         \u001b[1;31m# duplicate columns & possible reduce dimensionality\u001b[0m\u001b[1;33m\u001b[0m\u001b[1;33m\u001b[0m\u001b[0m\n",
      "\u001b[1;32mC:\\Anaconda3\\envs\\Python35\\lib\\site-packages\\pandas\\core\\generic.py\u001b[0m in \u001b[0;36m_get_item_cache\u001b[1;34m(self, item)\u001b[0m\n\u001b[0;32m   1643\u001b[0m         \u001b[0mres\u001b[0m \u001b[1;33m=\u001b[0m \u001b[0mcache\u001b[0m\u001b[1;33m.\u001b[0m\u001b[0mget\u001b[0m\u001b[1;33m(\u001b[0m\u001b[0mitem\u001b[0m\u001b[1;33m)\u001b[0m\u001b[1;33m\u001b[0m\u001b[0m\n\u001b[0;32m   1644\u001b[0m         \u001b[1;32mif\u001b[0m \u001b[0mres\u001b[0m \u001b[1;32mis\u001b[0m \u001b[1;32mNone\u001b[0m\u001b[1;33m:\u001b[0m\u001b[1;33m\u001b[0m\u001b[0m\n\u001b[1;32m-> 1645\u001b[1;33m             \u001b[0mvalues\u001b[0m \u001b[1;33m=\u001b[0m \u001b[0mself\u001b[0m\u001b[1;33m.\u001b[0m\u001b[0m_data\u001b[0m\u001b[1;33m.\u001b[0m\u001b[0mget\u001b[0m\u001b[1;33m(\u001b[0m\u001b[0mitem\u001b[0m\u001b[1;33m)\u001b[0m\u001b[1;33m\u001b[0m\u001b[0m\n\u001b[0m\u001b[0;32m   1646\u001b[0m             \u001b[0mres\u001b[0m \u001b[1;33m=\u001b[0m \u001b[0mself\u001b[0m\u001b[1;33m.\u001b[0m\u001b[0m_box_item_values\u001b[0m\u001b[1;33m(\u001b[0m\u001b[0mitem\u001b[0m\u001b[1;33m,\u001b[0m \u001b[0mvalues\u001b[0m\u001b[1;33m)\u001b[0m\u001b[1;33m\u001b[0m\u001b[0m\n\u001b[0;32m   1647\u001b[0m             \u001b[0mcache\u001b[0m\u001b[1;33m[\u001b[0m\u001b[0mitem\u001b[0m\u001b[1;33m]\u001b[0m \u001b[1;33m=\u001b[0m \u001b[0mres\u001b[0m\u001b[1;33m\u001b[0m\u001b[0m\n",
      "\u001b[1;32mC:\\Anaconda3\\envs\\Python35\\lib\\site-packages\\pandas\\core\\internals.py\u001b[0m in \u001b[0;36mget\u001b[1;34m(self, item, fastpath)\u001b[0m\n\u001b[0;32m   3588\u001b[0m \u001b[1;33m\u001b[0m\u001b[0m\n\u001b[0;32m   3589\u001b[0m             \u001b[1;32mif\u001b[0m \u001b[1;32mnot\u001b[0m \u001b[0misnull\u001b[0m\u001b[1;33m(\u001b[0m\u001b[0mitem\u001b[0m\u001b[1;33m)\u001b[0m\u001b[1;33m:\u001b[0m\u001b[1;33m\u001b[0m\u001b[0m\n\u001b[1;32m-> 3590\u001b[1;33m                 \u001b[0mloc\u001b[0m \u001b[1;33m=\u001b[0m \u001b[0mself\u001b[0m\u001b[1;33m.\u001b[0m\u001b[0mitems\u001b[0m\u001b[1;33m.\u001b[0m\u001b[0mget_loc\u001b[0m\u001b[1;33m(\u001b[0m\u001b[0mitem\u001b[0m\u001b[1;33m)\u001b[0m\u001b[1;33m\u001b[0m\u001b[0m\n\u001b[0m\u001b[0;32m   3591\u001b[0m             \u001b[1;32melse\u001b[0m\u001b[1;33m:\u001b[0m\u001b[1;33m\u001b[0m\u001b[0m\n\u001b[0;32m   3592\u001b[0m                 \u001b[0mindexer\u001b[0m \u001b[1;33m=\u001b[0m \u001b[0mnp\u001b[0m\u001b[1;33m.\u001b[0m\u001b[0marange\u001b[0m\u001b[1;33m(\u001b[0m\u001b[0mlen\u001b[0m\u001b[1;33m(\u001b[0m\u001b[0mself\u001b[0m\u001b[1;33m.\u001b[0m\u001b[0mitems\u001b[0m\u001b[1;33m)\u001b[0m\u001b[1;33m)\u001b[0m\u001b[1;33m[\u001b[0m\u001b[0misnull\u001b[0m\u001b[1;33m(\u001b[0m\u001b[0mself\u001b[0m\u001b[1;33m.\u001b[0m\u001b[0mitems\u001b[0m\u001b[1;33m)\u001b[0m\u001b[1;33m]\u001b[0m\u001b[1;33m\u001b[0m\u001b[0m\n",
      "\u001b[1;32mC:\\Anaconda3\\envs\\Python35\\lib\\site-packages\\pandas\\core\\indexes\\base.py\u001b[0m in \u001b[0;36mget_loc\u001b[1;34m(self, key, method, tolerance)\u001b[0m\n\u001b[0;32m   2442\u001b[0m                 \u001b[1;32mreturn\u001b[0m \u001b[0mself\u001b[0m\u001b[1;33m.\u001b[0m\u001b[0m_engine\u001b[0m\u001b[1;33m.\u001b[0m\u001b[0mget_loc\u001b[0m\u001b[1;33m(\u001b[0m\u001b[0mkey\u001b[0m\u001b[1;33m)\u001b[0m\u001b[1;33m\u001b[0m\u001b[0m\n\u001b[0;32m   2443\u001b[0m             \u001b[1;32mexcept\u001b[0m \u001b[0mKeyError\u001b[0m\u001b[1;33m:\u001b[0m\u001b[1;33m\u001b[0m\u001b[0m\n\u001b[1;32m-> 2444\u001b[1;33m                 \u001b[1;32mreturn\u001b[0m \u001b[0mself\u001b[0m\u001b[1;33m.\u001b[0m\u001b[0m_engine\u001b[0m\u001b[1;33m.\u001b[0m\u001b[0mget_loc\u001b[0m\u001b[1;33m(\u001b[0m\u001b[0mself\u001b[0m\u001b[1;33m.\u001b[0m\u001b[0m_maybe_cast_indexer\u001b[0m\u001b[1;33m(\u001b[0m\u001b[0mkey\u001b[0m\u001b[1;33m)\u001b[0m\u001b[1;33m)\u001b[0m\u001b[1;33m\u001b[0m\u001b[0m\n\u001b[0m\u001b[0;32m   2445\u001b[0m \u001b[1;33m\u001b[0m\u001b[0m\n\u001b[0;32m   2446\u001b[0m         \u001b[0mindexer\u001b[0m \u001b[1;33m=\u001b[0m \u001b[0mself\u001b[0m\u001b[1;33m.\u001b[0m\u001b[0mget_indexer\u001b[0m\u001b[1;33m(\u001b[0m\u001b[1;33m[\u001b[0m\u001b[0mkey\u001b[0m\u001b[1;33m]\u001b[0m\u001b[1;33m,\u001b[0m \u001b[0mmethod\u001b[0m\u001b[1;33m=\u001b[0m\u001b[0mmethod\u001b[0m\u001b[1;33m,\u001b[0m \u001b[0mtolerance\u001b[0m\u001b[1;33m=\u001b[0m\u001b[0mtolerance\u001b[0m\u001b[1;33m)\u001b[0m\u001b[1;33m\u001b[0m\u001b[0m\n",
      "\u001b[1;32mpandas\\_libs\\index.pyx\u001b[0m in \u001b[0;36mpandas._libs.index.IndexEngine.get_loc (pandas\\_libs\\index.c:5280)\u001b[1;34m()\u001b[0m\n",
      "\u001b[1;32mpandas\\_libs\\index.pyx\u001b[0m in \u001b[0;36mpandas._libs.index.IndexEngine.get_loc (pandas\\_libs\\index.c:5126)\u001b[1;34m()\u001b[0m\n",
      "\u001b[1;32mpandas\\_libs\\hashtable_class_helper.pxi\u001b[0m in \u001b[0;36mpandas._libs.hashtable.PyObjectHashTable.get_item (pandas\\_libs\\hashtable.c:20523)\u001b[1;34m()\u001b[0m\n",
      "\u001b[1;32mpandas\\_libs\\hashtable_class_helper.pxi\u001b[0m in \u001b[0;36mpandas._libs.hashtable.PyObjectHashTable.get_item (pandas\\_libs\\hashtable.c:20477)\u001b[1;34m()\u001b[0m\n",
      "\u001b[1;31mKeyError\u001b[0m: 'Variation'"
     ]
    }
   ],
   "source": [
    "string, casesensitive = r's', False\n",
    "\n",
    "strtrain = (trainingdf[\"Variation\"].str.contains(string, case=casesensitive).values).tolist()\n",
    "strcount = 0\n",
    "for i in range(len(strtrain)):\n",
    "    strtrain[i]=int(strtrain[i]==True)\n",
    "for i in range(len(strtrain)):\n",
    "    strcount += strtrain[i]\n",
    "\n",
    "strcount"
   ]
  },
  {
   "cell_type": "code",
   "execution_count": 29,
   "metadata": {},
   "outputs": [
    {
     "name": "stdout",
     "output_type": "stream",
     "text": [
      "0\n"
     ]
    }
   ],
   "source": [
    "featureemestudo = (mergedvarsdf[\"Variation\"].str.contains(r'(?<!\")eur(?!\")', case=False).values).tolist() #todas as que contêm \"eur\"\n",
    "\n",
    "featureemestudolist = []\n",
    "for i in range(len(featureemestudo)):\n",
    "    if featureemestudo[i] == True:\n",
    "        featureemestudolist.append(mergedvarsdf.loc[i,\"Variation\"])\n",
    "        \n",
    "print(len(featureemestudolist))"
   ]
  },
  {
   "cell_type": "markdown",
   "metadata": {},
   "source": [
    "### Ideias por implementar:"
   ]
  },
  {
   "cell_type": "markdown",
   "metadata": {},
   "source": [
    "- Encontrar índices das palavras pretendidas no texto já processado (e.g. __\"*abstract*\"__, __\"*discussion*\"__, __\"*results*\"__)"
   ]
  },
  {
   "cell_type": "markdown",
   "metadata": {},
   "source": [
    "- Próxima função:\n",
    " 1. Encontra ocorrências da __variation__ e pega nos ~250 characters antes e depois da ocorrência.\n",
    " 2. Caso a __variation__ não exista no texto, procura por __mutation__ ou __mutations__. \n",
    " 3. Se não existir, usa o texto todo na mesma."
   ]
  },
  {
   "cell_type": "code",
   "execution_count": 39,
   "metadata": {
    "collapsed": true
   },
   "outputs": [],
   "source": [
    "def text_reduction(df):\n",
    "    df[\"ReducedText\"] = [[] for n in range(len(df))]#que seja df com 1 lista de Textos por row\n",
    "    list_indexes = [[] for l in range(len(df))] #criando nested list\n",
    "    for i in range(len(df)): #iterando todas as rows da df\n",
    "        if df.loc[i,\"Text\"].find(df.loc[i,\"Variation\"].lower()) != -1: #i.e., se encontrar alguma Variation no seu Text\n",
    "            list_indexes[i] = [m.start() for m in re.finditer(df.loc[i,\"Variation\"].lower(), df.loc[i,\"Text\"])] #saca os indices da Variation\n",
    "            for k in list_indexes[i]:\n",
    "                df.loc[i,\"ReducedText\"].append(df.loc[i,\"Text\"][(k-250):(k+250)]) #texto de k-250 : k+250\n",
    "        else: #se nao encontrar a Variation no Text...\n",
    "            if [n.start() for n in re.finditer(r'mutation|mutations', df.loc[i,\"Text\"])] != []: #Se encontrar a palavra mutation ou mutations\n",
    "                list_indexes[i] = [n.start() for n in re.finditer(r'mutation|mutations', df.loc[i,\"Text\"])] #saca os indices da palavra mutation ou mutations\n",
    "                for k in list_indexes[i]:\n",
    "                    df.loc[i,\"ReducedText\"].append(df.loc[i,\"Text\"][(k-250):(k+250)]) #texto de k-250 : k+250\n",
    "            else:\n",
    "                df.loc[i,\"ReducedText\"].append(df.loc[i,\"Text\"]) #nao encontrando Variation, mutation(s), usa-se o texto todo na mesma\n",
    "    return df"
   ]
  },
  {
   "cell_type": "markdown",
   "metadata": {},
   "source": [
    "- [\" \"] Variations com **espaços**:"
   ]
  },
  {
   "cell_type": "code",
   "execution_count": 44,
   "metadata": {
    "collapsed": true
   },
   "outputs": [],
   "source": [
    "# trainingdf.loc[trainingdf.Variation.str.contains(' '), 'firstword_var'] = trainingdf.Variation.str.split().str.get(0)\n",
    "# testingdf.loc[testingdf.Variation.str.contains(' '), 'firstword_var'] = testingdf.Variation.str.split().str.get(0)\n",
    "# trainingdf.loc[trainingdf.Variation.str.contains(' '), 'secondword_var'] = trainingdf.Variation.str.split().str.get(1)\n",
    "# testingdf.loc[testingdf.Variation.str.contains(' '), 'secondword_var'] = testingdf.Variation.str.split().str.get(1)\n",
    "# trainingdf.loc[trainingdf.Variation.str.contains(' '), 'thirdword_var'] = trainingdf.Variation.str.split().str.get(2)\n",
    "# testingdf.loc[testingdf.Variation.str.contains(' '), 'thirdword_var'] = testingdf.Variation.str.split().str.get(2)\n",
    "# trainingdf.loc[trainingdf.Variation.str.contains(' '), 'secondword_var'] = trainingdf.Variation.str.split().str.get(1)\n",
    "# testingdf.loc[testingdf.Variation.str.contains(' '), 'secondword_var'] = testingdf.Variation.str.split().str.get(1)"
   ]
  },
  {
   "cell_type": "markdown",
   "metadata": {},
   "source": [
    "- Usar dicionário de Aminoácidos\n",
    "- Usar feature do segundo gene nos casos de Variation = A230T-"
   ]
  },
  {
   "cell_type": "markdown",
   "metadata": {},
   "source": [
    "### Criando 9 dfs (_trainingdf1_ - _trainingdf9_) com Classificação binária:"
   ]
  },
  {
   "cell_type": "code",
   "execution_count": 30,
   "metadata": {
    "collapsed": true
   },
   "outputs": [],
   "source": [
    "from sklearn.model_selection import train_test_split\n",
    "\n",
    "trainingdf = trainingdf.drop([\"Variation\"], axis=1)\n",
    "trainingdf = trainingdf.loc[:,~trainingdf.columns.duplicated()]\n",
    "testingdf = testingdf.loc[:,~testingdf.columns.duplicated()]\n",
    "\n",
    "\n",
    "for i in range(1,10):\n",
    "    globals()[str(\"trainingdf\")+str(i)] = trainingdf.copy() # .drop('ID',axis=1) antes do .copy()\n",
    "    globals()[str(\"trainingdf\")+str(i)].loc[globals()[str(\"trainingdf\")+str(i)][\"Class\"]!=i,\"Class\"] = 0 #criando binario\n",
    "    globals()[str(\"trainingdf\")+str(i)], globals()[str(\"validationdf\")+str(i)] = train_test_split(globals()[str(\"trainingdf\")+str(i)], test_size = 0.15)"
   ]
  },
  {
   "cell_type": "markdown",
   "metadata": {},
   "source": [
    "[(go up)](#Index)\n",
    "***\n",
    "<a id=\"H2O_Deep_Learning\"></a>\n",
    "<div class=\"alert alert-block alert-info\"><font size=6><b>3. H2O Deep Learning</b></font></div>"
   ]
  },
  {
   "cell_type": "code",
   "execution_count": 47,
   "metadata": {
    "collapsed": true,
    "scrolled": true
   },
   "outputs": [],
   "source": [
    "# import h2o\n",
    "# h2o.cluster().shutdown()"
   ]
  },
  {
   "cell_type": "markdown",
   "metadata": {},
   "source": [
    "<div class=\"alert alert-block alert-info\">While H2O Deep Learning has many parameters, it was designed to be just as easy to use as the other supervised training methods in H2O. Early stopping, automatic data standardization and handling of categorical variables and missing values and adaptive learning rates (per weight) reduce the amount of parameters the user has to specify. Often, it's just the number and sizes of hidden layers, the number of epochs and the activation function and maybe some regularization techniques.</div>"
   ]
  },
  {
   "cell_type": "code",
   "execution_count": 31,
   "metadata": {
    "collapsed": true
   },
   "outputs": [],
   "source": [
    "import h2o\n",
    "from h2o.estimators.random_forest import H2ORandomForestEstimator\n",
    "from h2o.estimators.gbm import H2OGradientBoostingEstimator\n",
    "from h2o.estimators.deeplearning import H2ODeepLearningEstimator\n",
    "from h2o.estimators.stackedensemble import H2OStackedEnsembleEstimator\n",
    "\n",
    "from h2o.automl import H2OAutoML\n",
    "\n",
    "from h2o.grid.grid_search import H2OGridSearch\n",
    "\n",
    "features_var = trainingdf.columns.str.contains(r'_var$', case=True).tolist()\n",
    "_var = trainingdf.columns[features_var].tolist()\n",
    "\n",
    "# Identifying response column name\n",
    "y = \"Class\"\n",
    "# Number of CV folds (to generate level-one data for stacking)\n",
    "nfolds = 5"
   ]
  },
  {
   "cell_type": "markdown",
   "metadata": {},
   "source": [
    "### Model Training - H2O's AutoML"
   ]
  },
  {
   "cell_type": "code",
   "execution_count": 59,
   "metadata": {
    "scrolled": false
   },
   "outputs": [
    {
     "name": "stdout",
     "output_type": "stream",
     "text": [
      "Checking whether there is an H2O instance running at http://localhost:54322..... not found.\n",
      "Attempting to start a local H2O server...\n",
      "; Java HotSpot(TM) 64-Bit Server VM (build 25.144-b01, mixed mode)\n",
      "  Starting server from C:\\Anaconda3\\envs\\Python35\\lib\\site-packages\\h2o\\backend\\bin\\h2o.jar\n",
      "  Ice root: C:\\Users\\pedro\\AppData\\Local\\Temp\\tmpgpcmkf1w\n",
      "  JVM stdout: C:\\Users\\pedro\\AppData\\Local\\Temp\\tmpgpcmkf1w\\h2o_pedro_started_from_python.out\n",
      "  JVM stderr: C:\\Users\\pedro\\AppData\\Local\\Temp\\tmpgpcmkf1w\\h2o_pedro_started_from_python.err\n",
      "  Server is running at http://127.0.0.1:54322\n",
      "Connecting to H2O server at http://127.0.0.1:54322... successful.\n"
     ]
    },
    {
     "data": {
      "text/html": [
       "<div style=\"overflow:auto\"><table style=\"width:50%\"><tr><td>H2O cluster uptime:</td>\n",
       "<td>02 secs</td></tr>\n",
       "<tr><td>H2O cluster version:</td>\n",
       "<td>3.14.0.1</td></tr>\n",
       "<tr><td>H2O cluster version age:</td>\n",
       "<td>24 days </td></tr>\n",
       "<tr><td>H2O cluster name:</td>\n",
       "<td>H2O_from_python_pedro_1uuazh</td></tr>\n",
       "<tr><td>H2O cluster total nodes:</td>\n",
       "<td>1</td></tr>\n",
       "<tr><td>H2O cluster free memory:</td>\n",
       "<td>12.44 Gb</td></tr>\n",
       "<tr><td>H2O cluster total cores:</td>\n",
       "<td>4</td></tr>\n",
       "<tr><td>H2O cluster allowed cores:</td>\n",
       "<td>4</td></tr>\n",
       "<tr><td>H2O cluster status:</td>\n",
       "<td>accepting new members, healthy</td></tr>\n",
       "<tr><td>H2O connection url:</td>\n",
       "<td>http://127.0.0.1:54322</td></tr>\n",
       "<tr><td>H2O connection proxy:</td>\n",
       "<td>None</td></tr>\n",
       "<tr><td>H2O internal security:</td>\n",
       "<td>False</td></tr>\n",
       "<tr><td>H2O API Extensions:</td>\n",
       "<td>Algos, AutoML, Core V3, Core V4</td></tr>\n",
       "<tr><td>Python version:</td>\n",
       "<td>3.5.4 final</td></tr></table></div>"
      ],
      "text/plain": [
       "--------------------------  -------------------------------\n",
       "H2O cluster uptime:         02 secs\n",
       "H2O cluster version:        3.14.0.1\n",
       "H2O cluster version age:    24 days\n",
       "H2O cluster name:           H2O_from_python_pedro_1uuazh\n",
       "H2O cluster total nodes:    1\n",
       "H2O cluster free memory:    12.44 Gb\n",
       "H2O cluster total cores:    4\n",
       "H2O cluster allowed cores:  4\n",
       "H2O cluster status:         accepting new members, healthy\n",
       "H2O connection url:         http://127.0.0.1:54322\n",
       "H2O connection proxy:\n",
       "H2O internal security:      False\n",
       "H2O API Extensions:         Algos, AutoML, Core V3, Core V4\n",
       "Python version:             3.5.4 final\n",
       "--------------------------  -------------------------------"
      ]
     },
     "metadata": {},
     "output_type": "display_data"
    },
    {
     "name": "stdout",
     "output_type": "stream",
     "text": [
      "Parse progress: |█████████████████████████████████████████████████████████| 100%\n",
      "Parse progress: |█████████████████████████████████████████████████████████| 100%\n",
      "AutoML progress: |████████████████████████████████████████████████████████| 100%\n",
      "Parse progress: |█████████████████████████████████████████████████████████| 100%\n",
      "H2O session _sid_9928 closed.\n",
      "Checking whether there is an H2O instance running at http://localhost:54323..... not found.\n",
      "Attempting to start a local H2O server...\n",
      "; Java HotSpot(TM) 64-Bit Server VM (build 25.144-b01, mixed mode)\n",
      "  Starting server from C:\\Anaconda3\\envs\\Python35\\lib\\site-packages\\h2o\\backend\\bin\\h2o.jar\n",
      "  Ice root: C:\\Users\\pedro\\AppData\\Local\\Temp\\tmpxwd49o8e\n",
      "  JVM stdout: C:\\Users\\pedro\\AppData\\Local\\Temp\\tmpxwd49o8e\\h2o_pedro_started_from_python.out\n",
      "  JVM stderr: C:\\Users\\pedro\\AppData\\Local\\Temp\\tmpxwd49o8e\\h2o_pedro_started_from_python.err\n",
      "  Server is running at http://127.0.0.1:54323\n",
      "Connecting to H2O server at http://127.0.0.1:54323... successful.\n"
     ]
    },
    {
     "data": {
      "text/html": [
       "<div style=\"overflow:auto\"><table style=\"width:50%\"><tr><td>H2O cluster uptime:</td>\n",
       "<td>03 secs</td></tr>\n",
       "<tr><td>H2O cluster version:</td>\n",
       "<td>3.14.0.1</td></tr>\n",
       "<tr><td>H2O cluster version age:</td>\n",
       "<td>24 days </td></tr>\n",
       "<tr><td>H2O cluster name:</td>\n",
       "<td>H2O_from_python_pedro_tcrq6t</td></tr>\n",
       "<tr><td>H2O cluster total nodes:</td>\n",
       "<td>1</td></tr>\n",
       "<tr><td>H2O cluster free memory:</td>\n",
       "<td>12.44 Gb</td></tr>\n",
       "<tr><td>H2O cluster total cores:</td>\n",
       "<td>4</td></tr>\n",
       "<tr><td>H2O cluster allowed cores:</td>\n",
       "<td>4</td></tr>\n",
       "<tr><td>H2O cluster status:</td>\n",
       "<td>accepting new members, healthy</td></tr>\n",
       "<tr><td>H2O connection url:</td>\n",
       "<td>http://127.0.0.1:54323</td></tr>\n",
       "<tr><td>H2O connection proxy:</td>\n",
       "<td>None</td></tr>\n",
       "<tr><td>H2O internal security:</td>\n",
       "<td>False</td></tr>\n",
       "<tr><td>H2O API Extensions:</td>\n",
       "<td>Algos, AutoML, Core V3, Core V4</td></tr>\n",
       "<tr><td>Python version:</td>\n",
       "<td>3.5.4 final</td></tr></table></div>"
      ],
      "text/plain": [
       "--------------------------  -------------------------------\n",
       "H2O cluster uptime:         03 secs\n",
       "H2O cluster version:        3.14.0.1\n",
       "H2O cluster version age:    24 days\n",
       "H2O cluster name:           H2O_from_python_pedro_tcrq6t\n",
       "H2O cluster total nodes:    1\n",
       "H2O cluster free memory:    12.44 Gb\n",
       "H2O cluster total cores:    4\n",
       "H2O cluster allowed cores:  4\n",
       "H2O cluster status:         accepting new members, healthy\n",
       "H2O connection url:         http://127.0.0.1:54323\n",
       "H2O connection proxy:\n",
       "H2O internal security:      False\n",
       "H2O API Extensions:         Algos, AutoML, Core V3, Core V4\n",
       "Python version:             3.5.4 final\n",
       "--------------------------  -------------------------------"
      ]
     },
     "metadata": {},
     "output_type": "display_data"
    },
    {
     "name": "stdout",
     "output_type": "stream",
     "text": [
      "Parse progress: |█████████████████████████████████████████████████████████| 100%\n",
      "Parse progress: |█████████████████████████████████████████████████████████| 100%\n",
      "AutoML progress: |████████████████████████████████████████████████████████| 100%\n",
      "Parse progress: |█████████████████████████████████████████████████████████| 100%\n",
      "H2O session _sid_9130 closed.\n",
      "Checking whether there is an H2O instance running at http://localhost:54324..... not found.\n",
      "Attempting to start a local H2O server...\n",
      "; Java HotSpot(TM) 64-Bit Server VM (build 25.144-b01, mixed mode)\n",
      "  Starting server from C:\\Anaconda3\\envs\\Python35\\lib\\site-packages\\h2o\\backend\\bin\\h2o.jar\n",
      "  Ice root: C:\\Users\\pedro\\AppData\\Local\\Temp\\tmpxvad__2a\n",
      "  JVM stdout: C:\\Users\\pedro\\AppData\\Local\\Temp\\tmpxvad__2a\\h2o_pedro_started_from_python.out\n",
      "  JVM stderr: C:\\Users\\pedro\\AppData\\Local\\Temp\\tmpxvad__2a\\h2o_pedro_started_from_python.err\n",
      "  Server is running at http://127.0.0.1:54324\n",
      "Connecting to H2O server at http://127.0.0.1:54324... successful.\n"
     ]
    },
    {
     "data": {
      "text/html": [
       "<div style=\"overflow:auto\"><table style=\"width:50%\"><tr><td>H2O cluster uptime:</td>\n",
       "<td>03 secs</td></tr>\n",
       "<tr><td>H2O cluster version:</td>\n",
       "<td>3.14.0.1</td></tr>\n",
       "<tr><td>H2O cluster version age:</td>\n",
       "<td>24 days </td></tr>\n",
       "<tr><td>H2O cluster name:</td>\n",
       "<td>H2O_from_python_pedro_4ebmo3</td></tr>\n",
       "<tr><td>H2O cluster total nodes:</td>\n",
       "<td>1</td></tr>\n",
       "<tr><td>H2O cluster free memory:</td>\n",
       "<td>12.44 Gb</td></tr>\n",
       "<tr><td>H2O cluster total cores:</td>\n",
       "<td>4</td></tr>\n",
       "<tr><td>H2O cluster allowed cores:</td>\n",
       "<td>4</td></tr>\n",
       "<tr><td>H2O cluster status:</td>\n",
       "<td>accepting new members, healthy</td></tr>\n",
       "<tr><td>H2O connection url:</td>\n",
       "<td>http://127.0.0.1:54324</td></tr>\n",
       "<tr><td>H2O connection proxy:</td>\n",
       "<td>None</td></tr>\n",
       "<tr><td>H2O internal security:</td>\n",
       "<td>False</td></tr>\n",
       "<tr><td>H2O API Extensions:</td>\n",
       "<td>Algos, AutoML, Core V3, Core V4</td></tr>\n",
       "<tr><td>Python version:</td>\n",
       "<td>3.5.4 final</td></tr></table></div>"
      ],
      "text/plain": [
       "--------------------------  -------------------------------\n",
       "H2O cluster uptime:         03 secs\n",
       "H2O cluster version:        3.14.0.1\n",
       "H2O cluster version age:    24 days\n",
       "H2O cluster name:           H2O_from_python_pedro_4ebmo3\n",
       "H2O cluster total nodes:    1\n",
       "H2O cluster free memory:    12.44 Gb\n",
       "H2O cluster total cores:    4\n",
       "H2O cluster allowed cores:  4\n",
       "H2O cluster status:         accepting new members, healthy\n",
       "H2O connection url:         http://127.0.0.1:54324\n",
       "H2O connection proxy:\n",
       "H2O internal security:      False\n",
       "H2O API Extensions:         Algos, AutoML, Core V3, Core V4\n",
       "Python version:             3.5.4 final\n",
       "--------------------------  -------------------------------"
      ]
     },
     "metadata": {},
     "output_type": "display_data"
    },
    {
     "name": "stdout",
     "output_type": "stream",
     "text": [
      "Parse progress: |█████████████████████████████████████████████████████████| 100%\n",
      "Parse progress: |█████████████████████████████████████████████████████████| 100%\n",
      "AutoML progress: |████████████████████████████████████████████████████████| 100%\n",
      "Parse progress: |█████████████████████████████████████████████████████████| 100%\n",
      "H2O session _sid_9869 closed.\n",
      "Checking whether there is an H2O instance running at http://localhost:54325..... not found.\n",
      "Attempting to start a local H2O server...\n",
      "; Java HotSpot(TM) 64-Bit Server VM (build 25.144-b01, mixed mode)\n",
      "  Starting server from C:\\Anaconda3\\envs\\Python35\\lib\\site-packages\\h2o\\backend\\bin\\h2o.jar\n",
      "  Ice root: C:\\Users\\pedro\\AppData\\Local\\Temp\\tmp3ymuntw3\n",
      "  JVM stdout: C:\\Users\\pedro\\AppData\\Local\\Temp\\tmp3ymuntw3\\h2o_pedro_started_from_python.out\n",
      "  JVM stderr: C:\\Users\\pedro\\AppData\\Local\\Temp\\tmp3ymuntw3\\h2o_pedro_started_from_python.err\n",
      "  Server is running at http://127.0.0.1:54325\n",
      "Connecting to H2O server at http://127.0.0.1:54325... successful.\n"
     ]
    },
    {
     "data": {
      "text/html": [
       "<div style=\"overflow:auto\"><table style=\"width:50%\"><tr><td>H2O cluster uptime:</td>\n",
       "<td>03 secs</td></tr>\n",
       "<tr><td>H2O cluster version:</td>\n",
       "<td>3.14.0.1</td></tr>\n",
       "<tr><td>H2O cluster version age:</td>\n",
       "<td>24 days </td></tr>\n",
       "<tr><td>H2O cluster name:</td>\n",
       "<td>H2O_from_python_pedro_e1e2e5</td></tr>\n",
       "<tr><td>H2O cluster total nodes:</td>\n",
       "<td>1</td></tr>\n",
       "<tr><td>H2O cluster free memory:</td>\n",
       "<td>12.44 Gb</td></tr>\n",
       "<tr><td>H2O cluster total cores:</td>\n",
       "<td>0</td></tr>\n",
       "<tr><td>H2O cluster allowed cores:</td>\n",
       "<td>0</td></tr>\n",
       "<tr><td>H2O cluster status:</td>\n",
       "<td>accepting new members, healthy</td></tr>\n",
       "<tr><td>H2O connection url:</td>\n",
       "<td>http://127.0.0.1:54325</td></tr>\n",
       "<tr><td>H2O connection proxy:</td>\n",
       "<td>None</td></tr>\n",
       "<tr><td>H2O internal security:</td>\n",
       "<td>False</td></tr>\n",
       "<tr><td>H2O API Extensions:</td>\n",
       "<td>Algos, AutoML, Core V3, Core V4</td></tr>\n",
       "<tr><td>Python version:</td>\n",
       "<td>3.5.4 final</td></tr></table></div>"
      ],
      "text/plain": [
       "--------------------------  -------------------------------\n",
       "H2O cluster uptime:         03 secs\n",
       "H2O cluster version:        3.14.0.1\n",
       "H2O cluster version age:    24 days\n",
       "H2O cluster name:           H2O_from_python_pedro_e1e2e5\n",
       "H2O cluster total nodes:    1\n",
       "H2O cluster free memory:    12.44 Gb\n",
       "H2O cluster total cores:    0\n",
       "H2O cluster allowed cores:  0\n",
       "H2O cluster status:         accepting new members, healthy\n",
       "H2O connection url:         http://127.0.0.1:54325\n",
       "H2O connection proxy:\n",
       "H2O internal security:      False\n",
       "H2O API Extensions:         Algos, AutoML, Core V3, Core V4\n",
       "Python version:             3.5.4 final\n",
       "--------------------------  -------------------------------"
      ]
     },
     "metadata": {},
     "output_type": "display_data"
    },
    {
     "name": "stdout",
     "output_type": "stream",
     "text": [
      "Parse progress: |█████████████████████████████████████████████████████████| 100%\n",
      "Parse progress: |█████████████████████████████████████████████████████████| 100%\n",
      "AutoML progress: |████████████████████████████████████████████████████████| 100%\n",
      "Parse progress: |█████████████████████████████████████████████████████████| 100%\n",
      "H2O session _sid_a391 closed.\n",
      "Checking whether there is an H2O instance running at http://localhost:54326..... not found.\n",
      "Attempting to start a local H2O server...\n",
      "; Java HotSpot(TM) 64-Bit Server VM (build 25.144-b01, mixed mode)\n",
      "  Starting server from C:\\Anaconda3\\envs\\Python35\\lib\\site-packages\\h2o\\backend\\bin\\h2o.jar\n",
      "  Ice root: C:\\Users\\pedro\\AppData\\Local\\Temp\\tmpux1zoxg0\n",
      "  JVM stdout: C:\\Users\\pedro\\AppData\\Local\\Temp\\tmpux1zoxg0\\h2o_pedro_started_from_python.out\n",
      "  JVM stderr: C:\\Users\\pedro\\AppData\\Local\\Temp\\tmpux1zoxg0\\h2o_pedro_started_from_python.err\n",
      "  Server is running at http://127.0.0.1:54326\n",
      "Connecting to H2O server at http://127.0.0.1:54326... successful.\n"
     ]
    },
    {
     "data": {
      "text/html": [
       "<div style=\"overflow:auto\"><table style=\"width:50%\"><tr><td>H2O cluster uptime:</td>\n",
       "<td>03 secs</td></tr>\n",
       "<tr><td>H2O cluster version:</td>\n",
       "<td>3.14.0.1</td></tr>\n",
       "<tr><td>H2O cluster version age:</td>\n",
       "<td>24 days </td></tr>\n",
       "<tr><td>H2O cluster name:</td>\n",
       "<td>H2O_from_python_pedro_bsuw9h</td></tr>\n",
       "<tr><td>H2O cluster total nodes:</td>\n",
       "<td>1</td></tr>\n",
       "<tr><td>H2O cluster free memory:</td>\n",
       "<td>12.44 Gb</td></tr>\n",
       "<tr><td>H2O cluster total cores:</td>\n",
       "<td>4</td></tr>\n",
       "<tr><td>H2O cluster allowed cores:</td>\n",
       "<td>4</td></tr>\n",
       "<tr><td>H2O cluster status:</td>\n",
       "<td>accepting new members, healthy</td></tr>\n",
       "<tr><td>H2O connection url:</td>\n",
       "<td>http://127.0.0.1:54326</td></tr>\n",
       "<tr><td>H2O connection proxy:</td>\n",
       "<td>None</td></tr>\n",
       "<tr><td>H2O internal security:</td>\n",
       "<td>False</td></tr>\n",
       "<tr><td>H2O API Extensions:</td>\n",
       "<td>Algos, AutoML, Core V3, Core V4</td></tr>\n",
       "<tr><td>Python version:</td>\n",
       "<td>3.5.4 final</td></tr></table></div>"
      ],
      "text/plain": [
       "--------------------------  -------------------------------\n",
       "H2O cluster uptime:         03 secs\n",
       "H2O cluster version:        3.14.0.1\n",
       "H2O cluster version age:    24 days\n",
       "H2O cluster name:           H2O_from_python_pedro_bsuw9h\n",
       "H2O cluster total nodes:    1\n",
       "H2O cluster free memory:    12.44 Gb\n",
       "H2O cluster total cores:    4\n",
       "H2O cluster allowed cores:  4\n",
       "H2O cluster status:         accepting new members, healthy\n",
       "H2O connection url:         http://127.0.0.1:54326\n",
       "H2O connection proxy:\n",
       "H2O internal security:      False\n",
       "H2O API Extensions:         Algos, AutoML, Core V3, Core V4\n",
       "Python version:             3.5.4 final\n",
       "--------------------------  -------------------------------"
      ]
     },
     "metadata": {},
     "output_type": "display_data"
    },
    {
     "name": "stdout",
     "output_type": "stream",
     "text": [
      "Parse progress: |█████████████████████████████████████████████████████████| 100%\n",
      "Parse progress: |█████████████████████████████████████████████████████████| 100%\n",
      "AutoML progress: |████████████████████████████████████████████████████████| 100%\n",
      "Parse progress: |█████████████████████████████████████████████████████████| 100%\n",
      "H2O session _sid_98f5 closed.\n",
      "Checking whether there is an H2O instance running at http://localhost:54327..... not found.\n",
      "Attempting to start a local H2O server...\n",
      "; Java HotSpot(TM) 64-Bit Server VM (build 25.144-b01, mixed mode)\n",
      "  Starting server from C:\\Anaconda3\\envs\\Python35\\lib\\site-packages\\h2o\\backend\\bin\\h2o.jar\n",
      "  Ice root: C:\\Users\\pedro\\AppData\\Local\\Temp\\tmpqbrznyfm\n",
      "  JVM stdout: C:\\Users\\pedro\\AppData\\Local\\Temp\\tmpqbrznyfm\\h2o_pedro_started_from_python.out\n",
      "  JVM stderr: C:\\Users\\pedro\\AppData\\Local\\Temp\\tmpqbrznyfm\\h2o_pedro_started_from_python.err\n",
      "  Server is running at http://127.0.0.1:54327\n",
      "Connecting to H2O server at http://127.0.0.1:54327... successful.\n"
     ]
    },
    {
     "data": {
      "text/html": [
       "<div style=\"overflow:auto\"><table style=\"width:50%\"><tr><td>H2O cluster uptime:</td>\n",
       "<td>03 secs</td></tr>\n",
       "<tr><td>H2O cluster version:</td>\n",
       "<td>3.14.0.1</td></tr>\n",
       "<tr><td>H2O cluster version age:</td>\n",
       "<td>24 days </td></tr>\n",
       "<tr><td>H2O cluster name:</td>\n",
       "<td>H2O_from_python_pedro_ggvxlo</td></tr>\n",
       "<tr><td>H2O cluster total nodes:</td>\n",
       "<td>1</td></tr>\n",
       "<tr><td>H2O cluster free memory:</td>\n",
       "<td>12.44 Gb</td></tr>\n",
       "<tr><td>H2O cluster total cores:</td>\n",
       "<td>0</td></tr>\n",
       "<tr><td>H2O cluster allowed cores:</td>\n",
       "<td>0</td></tr>\n",
       "<tr><td>H2O cluster status:</td>\n",
       "<td>accepting new members, healthy</td></tr>\n",
       "<tr><td>H2O connection url:</td>\n",
       "<td>http://127.0.0.1:54327</td></tr>\n",
       "<tr><td>H2O connection proxy:</td>\n",
       "<td>None</td></tr>\n",
       "<tr><td>H2O internal security:</td>\n",
       "<td>False</td></tr>\n",
       "<tr><td>H2O API Extensions:</td>\n",
       "<td>Algos, AutoML, Core V3, Core V4</td></tr>\n",
       "<tr><td>Python version:</td>\n",
       "<td>3.5.4 final</td></tr></table></div>"
      ],
      "text/plain": [
       "--------------------------  -------------------------------\n",
       "H2O cluster uptime:         03 secs\n",
       "H2O cluster version:        3.14.0.1\n",
       "H2O cluster version age:    24 days\n",
       "H2O cluster name:           H2O_from_python_pedro_ggvxlo\n",
       "H2O cluster total nodes:    1\n",
       "H2O cluster free memory:    12.44 Gb\n",
       "H2O cluster total cores:    0\n",
       "H2O cluster allowed cores:  0\n",
       "H2O cluster status:         accepting new members, healthy\n",
       "H2O connection url:         http://127.0.0.1:54327\n",
       "H2O connection proxy:\n",
       "H2O internal security:      False\n",
       "H2O API Extensions:         Algos, AutoML, Core V3, Core V4\n",
       "Python version:             3.5.4 final\n",
       "--------------------------  -------------------------------"
      ]
     },
     "metadata": {},
     "output_type": "display_data"
    },
    {
     "name": "stdout",
     "output_type": "stream",
     "text": [
      "Parse progress: |█████████████████████████████████████████████████████████| 100%\n",
      "Parse progress: |█████████████████████████████████████████████████████████| 100%\n",
      "AutoML progress: |████████████████████████████████████████████████████████| 100%\n",
      "Parse progress: |█████████████████████████████████████████████████████████| 100%\n",
      "H2O session _sid_87ec closed.\n",
      "Checking whether there is an H2O instance running at http://localhost:54328..... not found.\n",
      "Attempting to start a local H2O server...\n",
      "; Java HotSpot(TM) 64-Bit Server VM (build 25.144-b01, mixed mode)\n",
      "  Starting server from C:\\Anaconda3\\envs\\Python35\\lib\\site-packages\\h2o\\backend\\bin\\h2o.jar\n",
      "  Ice root: C:\\Users\\pedro\\AppData\\Local\\Temp\\tmppd53gnvl\n",
      "  JVM stdout: C:\\Users\\pedro\\AppData\\Local\\Temp\\tmppd53gnvl\\h2o_pedro_started_from_python.out\n",
      "  JVM stderr: C:\\Users\\pedro\\AppData\\Local\\Temp\\tmppd53gnvl\\h2o_pedro_started_from_python.err\n",
      "  Server is running at http://127.0.0.1:54328\n",
      "Connecting to H2O server at http://127.0.0.1:54328... successful.\n"
     ]
    },
    {
     "data": {
      "text/html": [
       "<div style=\"overflow:auto\"><table style=\"width:50%\"><tr><td>H2O cluster uptime:</td>\n",
       "<td>03 secs</td></tr>\n",
       "<tr><td>H2O cluster version:</td>\n",
       "<td>3.14.0.1</td></tr>\n",
       "<tr><td>H2O cluster version age:</td>\n",
       "<td>24 days </td></tr>\n",
       "<tr><td>H2O cluster name:</td>\n",
       "<td>H2O_from_python_pedro_xghem9</td></tr>\n",
       "<tr><td>H2O cluster total nodes:</td>\n",
       "<td>1</td></tr>\n",
       "<tr><td>H2O cluster free memory:</td>\n",
       "<td>12.44 Gb</td></tr>\n",
       "<tr><td>H2O cluster total cores:</td>\n",
       "<td>4</td></tr>\n",
       "<tr><td>H2O cluster allowed cores:</td>\n",
       "<td>4</td></tr>\n",
       "<tr><td>H2O cluster status:</td>\n",
       "<td>accepting new members, healthy</td></tr>\n",
       "<tr><td>H2O connection url:</td>\n",
       "<td>http://127.0.0.1:54328</td></tr>\n",
       "<tr><td>H2O connection proxy:</td>\n",
       "<td>None</td></tr>\n",
       "<tr><td>H2O internal security:</td>\n",
       "<td>False</td></tr>\n",
       "<tr><td>H2O API Extensions:</td>\n",
       "<td>Algos, AutoML, Core V3, Core V4</td></tr>\n",
       "<tr><td>Python version:</td>\n",
       "<td>3.5.4 final</td></tr></table></div>"
      ],
      "text/plain": [
       "--------------------------  -------------------------------\n",
       "H2O cluster uptime:         03 secs\n",
       "H2O cluster version:        3.14.0.1\n",
       "H2O cluster version age:    24 days\n",
       "H2O cluster name:           H2O_from_python_pedro_xghem9\n",
       "H2O cluster total nodes:    1\n",
       "H2O cluster free memory:    12.44 Gb\n",
       "H2O cluster total cores:    4\n",
       "H2O cluster allowed cores:  4\n",
       "H2O cluster status:         accepting new members, healthy\n",
       "H2O connection url:         http://127.0.0.1:54328\n",
       "H2O connection proxy:\n",
       "H2O internal security:      False\n",
       "H2O API Extensions:         Algos, AutoML, Core V3, Core V4\n",
       "Python version:             3.5.4 final\n",
       "--------------------------  -------------------------------"
      ]
     },
     "metadata": {},
     "output_type": "display_data"
    },
    {
     "name": "stdout",
     "output_type": "stream",
     "text": [
      "Parse progress: |█████████████████████████████████████████████████████████| 100%\n",
      "Parse progress: |█████████████████████████████████████████████████████████| 100%\n",
      "AutoML progress: |████████████████████████████████████████████████████████| 100%\n",
      "Parse progress: |█████████████████████████████████████████████████████████| 100%\n",
      "H2O session _sid_a191 closed.\n",
      "Checking whether there is an H2O instance running at http://localhost:54329..... not found.\n",
      "Attempting to start a local H2O server...\n",
      "; Java HotSpot(TM) 64-Bit Server VM (build 25.144-b01, mixed mode)\n",
      "  Starting server from C:\\Anaconda3\\envs\\Python35\\lib\\site-packages\\h2o\\backend\\bin\\h2o.jar\n",
      "  Ice root: C:\\Users\\pedro\\AppData\\Local\\Temp\\tmpx3627flx\n",
      "  JVM stdout: C:\\Users\\pedro\\AppData\\Local\\Temp\\tmpx3627flx\\h2o_pedro_started_from_python.out\n",
      "  JVM stderr: C:\\Users\\pedro\\AppData\\Local\\Temp\\tmpx3627flx\\h2o_pedro_started_from_python.err\n",
      "  Server is running at http://127.0.0.1:54329\n",
      "Connecting to H2O server at http://127.0.0.1:54329... successful.\n"
     ]
    },
    {
     "data": {
      "text/html": [
       "<div style=\"overflow:auto\"><table style=\"width:50%\"><tr><td>H2O cluster uptime:</td>\n",
       "<td>03 secs</td></tr>\n",
       "<tr><td>H2O cluster version:</td>\n",
       "<td>3.14.0.1</td></tr>\n",
       "<tr><td>H2O cluster version age:</td>\n",
       "<td>24 days </td></tr>\n",
       "<tr><td>H2O cluster name:</td>\n",
       "<td>H2O_from_python_pedro_st76l1</td></tr>\n",
       "<tr><td>H2O cluster total nodes:</td>\n",
       "<td>1</td></tr>\n",
       "<tr><td>H2O cluster free memory:</td>\n",
       "<td>12.44 Gb</td></tr>\n",
       "<tr><td>H2O cluster total cores:</td>\n",
       "<td>4</td></tr>\n",
       "<tr><td>H2O cluster allowed cores:</td>\n",
       "<td>4</td></tr>\n",
       "<tr><td>H2O cluster status:</td>\n",
       "<td>accepting new members, healthy</td></tr>\n",
       "<tr><td>H2O connection url:</td>\n",
       "<td>http://127.0.0.1:54329</td></tr>\n",
       "<tr><td>H2O connection proxy:</td>\n",
       "<td>None</td></tr>\n",
       "<tr><td>H2O internal security:</td>\n",
       "<td>False</td></tr>\n",
       "<tr><td>H2O API Extensions:</td>\n",
       "<td>Algos, AutoML, Core V3, Core V4</td></tr>\n",
       "<tr><td>Python version:</td>\n",
       "<td>3.5.4 final</td></tr></table></div>"
      ],
      "text/plain": [
       "--------------------------  -------------------------------\n",
       "H2O cluster uptime:         03 secs\n",
       "H2O cluster version:        3.14.0.1\n",
       "H2O cluster version age:    24 days\n",
       "H2O cluster name:           H2O_from_python_pedro_st76l1\n",
       "H2O cluster total nodes:    1\n",
       "H2O cluster free memory:    12.44 Gb\n",
       "H2O cluster total cores:    4\n",
       "H2O cluster allowed cores:  4\n",
       "H2O cluster status:         accepting new members, healthy\n",
       "H2O connection url:         http://127.0.0.1:54329\n",
       "H2O connection proxy:\n",
       "H2O internal security:      False\n",
       "H2O API Extensions:         Algos, AutoML, Core V3, Core V4\n",
       "Python version:             3.5.4 final\n",
       "--------------------------  -------------------------------"
      ]
     },
     "metadata": {},
     "output_type": "display_data"
    },
    {
     "name": "stdout",
     "output_type": "stream",
     "text": [
      "Parse progress: |█████████████████████████████████████████████████████████| 100%\n",
      "Parse progress: |█████████████████████████████████████████████████████████| 100%\n",
      "AutoML progress: |████████████████████████████████████████████████████████| 100%\n",
      "Parse progress: |█████████████████████████████████████████████████████████| 100%\n",
      "H2O session _sid_a408 closed.\n"
     ]
    }
   ],
   "source": [
    "for i in range(2,10):\n",
    "    h2o.init(max_mem_size='14g', enable_assertions=False, port=54320+i)\n",
    "    h2o.remove_all()\n",
    "    globals()[str(\"tf\")+str(i)] = h2o.H2OFrame(globals()[str(\"trainingdf\")+str(i)]) # importa cada tf\n",
    "    globals()[str(\"vf\")+str(i)] = h2o.H2OFrame(globals()[str(\"validationdf\")+str(i)]) # importa cada vf\n",
    "    globals()[str(\"x\")+str(i)] = globals()[str(\"tf\")+str(i)].columns.remove(y)\n",
    "    globals()[str(\"tf\")+str(i)][y] = globals()[str(\"tf\")+str(i)][y].asfactor() # Variáveis categóricas\n",
    "    globals()[str(\"vf\")+str(i)][y] = globals()[str(\"vf\")+str(i)][y].asfactor()\n",
    "    for j in _var:\n",
    "        globals()[str(\"tf\")+str(i)][j] = globals()[str(\"tf\")+str(i)][j].asfactor() # Variáveis categóricas (features da Variation 1/0)\n",
    "        globals()[str(\"vf\")+str(i)][j] = globals()[str(\"vf\")+str(i)][j].asfactor()\n",
    "    globals()[str(\"automl\")+str(i)] = H2OAutoML()\n",
    "    globals()[str(\"automl\")+str(i)].train(x=globals()[str(\"x\")+str(i)], y=y, training_frame=globals()[str(\"tf\")+str(i)], validation_frame=globals()[str(\"vf\")+str(i)])\n",
    "    h2o.save_model(model=globals()[str(\"automl\")+str(i)].leader, path='saved_models/', force=True)\n",
    "    h2o.cluster().shutdown()"
   ]
  },
  {
   "cell_type": "markdown",
   "metadata": {},
   "source": [
    "### Making Predictions - H2O's AutoML"
   ]
  },
  {
   "cell_type": "code",
   "execution_count": 65,
   "metadata": {
    "collapsed": true
   },
   "outputs": [
    {
     "name": "stdout",
     "output_type": "stream",
     "text": [
      "Checking whether there is an H2O instance running at http://localhost:54321..... not found.\n",
      "Attempting to start a local H2O server...\n",
      "; Java HotSpot(TM) 64-Bit Server VM (build 25.144-b01, mixed mode)\n",
      "  Starting server from C:\\Anaconda3\\envs\\Python35\\lib\\site-packages\\h2o\\backend\\bin\\h2o.jar\n",
      "  Ice root: C:\\Users\\pedro\\AppData\\Local\\Temp\\tmpe91_6f21\n",
      "  JVM stdout: C:\\Users\\pedro\\AppData\\Local\\Temp\\tmpe91_6f21\\h2o_pedro_started_from_python.out\n",
      "  JVM stderr: C:\\Users\\pedro\\AppData\\Local\\Temp\\tmpe91_6f21\\h2o_pedro_started_from_python.err\n",
      "  Server is running at http://127.0.0.1:54321\n",
      "Connecting to H2O server at http://127.0.0.1:54321... successful.\n"
     ]
    },
    {
     "data": {
      "text/html": [
       "<div style=\"overflow:auto\"><table style=\"width:50%\"><tr><td>H2O cluster uptime:</td>\n",
       "<td>03 secs</td></tr>\n",
       "<tr><td>H2O cluster version:</td>\n",
       "<td>3.14.0.1</td></tr>\n",
       "<tr><td>H2O cluster version age:</td>\n",
       "<td>24 days </td></tr>\n",
       "<tr><td>H2O cluster name:</td>\n",
       "<td>H2O_from_python_pedro_agsnem</td></tr>\n",
       "<tr><td>H2O cluster total nodes:</td>\n",
       "<td>1</td></tr>\n",
       "<tr><td>H2O cluster free memory:</td>\n",
       "<td>12.44 Gb</td></tr>\n",
       "<tr><td>H2O cluster total cores:</td>\n",
       "<td>4</td></tr>\n",
       "<tr><td>H2O cluster allowed cores:</td>\n",
       "<td>4</td></tr>\n",
       "<tr><td>H2O cluster status:</td>\n",
       "<td>accepting new members, healthy</td></tr>\n",
       "<tr><td>H2O connection url:</td>\n",
       "<td>http://127.0.0.1:54321</td></tr>\n",
       "<tr><td>H2O connection proxy:</td>\n",
       "<td>None</td></tr>\n",
       "<tr><td>H2O internal security:</td>\n",
       "<td>False</td></tr>\n",
       "<tr><td>H2O API Extensions:</td>\n",
       "<td>Algos, AutoML, Core V3, Core V4</td></tr>\n",
       "<tr><td>Python version:</td>\n",
       "<td>3.5.4 final</td></tr></table></div>"
      ],
      "text/plain": [
       "--------------------------  -------------------------------\n",
       "H2O cluster uptime:         03 secs\n",
       "H2O cluster version:        3.14.0.1\n",
       "H2O cluster version age:    24 days\n",
       "H2O cluster name:           H2O_from_python_pedro_agsnem\n",
       "H2O cluster total nodes:    1\n",
       "H2O cluster free memory:    12.44 Gb\n",
       "H2O cluster total cores:    4\n",
       "H2O cluster allowed cores:  4\n",
       "H2O cluster status:         accepting new members, healthy\n",
       "H2O connection url:         http://127.0.0.1:54321\n",
       "H2O connection proxy:\n",
       "H2O internal security:      False\n",
       "H2O API Extensions:         Algos, AutoML, Core V3, Core V4\n",
       "Python version:             3.5.4 final\n",
       "--------------------------  -------------------------------"
      ]
     },
     "metadata": {},
     "output_type": "display_data"
    },
    {
     "name": "stdout",
     "output_type": "stream",
     "text": [
      "Parse progress: |█████████████████████████████████████████████████████████| 100%\n",
      "gbm prediction progress: |████████████████████████████████████████████████| 100%\n",
      "Parse progress: |█████████████████████████████████████████████████████████| 100%\n",
      "stackedensemble prediction progress: |████████████████████████████████████| 100%\n",
      "Parse progress: |█████████████████████████████████████████████████████████| 100%\n",
      "glm prediction progress: |████████████████████████████████████████████████| 100%\n",
      "Parse progress: |█████████████████████████████████████████████████████████| 100%\n",
      "stackedensemble prediction progress: |████████████████████████████████████| 100%\n",
      "Parse progress: |█████████████████████████████████████████████████████████| 100%\n",
      "gbm prediction progress: |████████████████████████████████████████████████| 100%\n",
      "Parse progress: |█████████████████████████████████████████████████████████| 100%\n",
      "gbm prediction progress: |████████████████████████████████████████████████| 100%\n",
      "Parse progress: |█████████████████████████████████████████████████████████| 100%\n",
      "gbm prediction progress: |████████████████████████████████████████████████| 100%\n",
      "Parse progress: |█████████████████████████████████████████████████████████| 100%\n",
      "gbm prediction progress: |████████████████████████████████████████████████| 100%\n",
      "Parse progress: |█████████████████████████████████████████████████████████| 100%\n",
      "gbm prediction progress: |████████████████████████████████████████████████| 100%\n"
     ]
    }
   ],
   "source": [
    "h2o.init(max_mem_size='14g', enable_assertions=False)\n",
    "h2o.remove_all()\n",
    "\n",
    "testf1 = h2o.H2OFrame(testingdf)\n",
    "testf1 = testf1.drop([\"Variation\"])\n",
    "for j in _var:\n",
    "    testf1[j] = testf1[j].asfactor() # Variáveis categóricas (features da Variation 1/0)\n",
    "model1 = h2o.load_model(path=\"saved_models/GBM_grid_1_AutoML_20170904_192351_model_37\")\n",
    "predictions1 = model1.predict(testf1).as_data_frame()\n",
    "predictions1 = predictions1.drop(\"predict\", axis=1)\n",
    "predictions1.index.name = \"ID\"\n",
    "\n",
    "testf2 = h2o.H2OFrame(testingdf)\n",
    "testf2 = testf2.drop([\"Variation\"])\n",
    "for j in _var:\n",
    "    testf2[j] = testf2[j].asfactor() # Variáveis categóricas (features da Variation 1/0)\n",
    "model2 = h2o.load_model(path=\"saved_models/StackedEnsemble_0_AutoML_20170904_203039\")\n",
    "predictions2 = model2.predict(testf2).as_data_frame()\n",
    "predictions2 = predictions2.drop(\"predict\", axis=1)\n",
    "predictions2.index.name = \"ID\"\n",
    "\n",
    "testf3 = h2o.H2OFrame(testingdf)\n",
    "testf3 = testf3.drop([\"Variation\"])\n",
    "for j in _var:\n",
    "    testf3[j] = testf3[j].asfactor() # Variáveis categóricas (features da Variation 1/0)\n",
    "model3 = h2o.load_model(path=\"saved_models/GLM_grid_0_AutoML_20170904_213126_model_1\")\n",
    "predictions3 = model3.predict(testf3).as_data_frame()\n",
    "predictions3 = predictions3.drop(\"predict\", axis=1)\n",
    "predictions3.index.name = \"ID\"\n",
    "\n",
    "testf4 = h2o.H2OFrame(testingdf)\n",
    "testf4 = testf4.drop([\"Variation\"])\n",
    "for j in _var:\n",
    "    testf4[j] = testf4[j].asfactor() # Variáveis categóricas (features da Variation 1/0)\n",
    "model4 = h2o.load_model(path=\"saved_models/StackedEnsemble_0_AutoML_20170904_223209\")\n",
    "predictions4 = model4.predict(testf4).as_data_frame()\n",
    "predictions4 = predictions4.drop(\"predict\", axis=1)\n",
    "predictions4.index.name = \"ID\"\n",
    "\n",
    "testf5 = h2o.H2OFrame(testingdf)\n",
    "testf5 = testf5.drop([\"Variation\"])\n",
    "for j in _var:\n",
    "    testf5[j] = testf5[j].asfactor() # Variáveis categóricas (features da Variation 1/0)\n",
    "model5 = h2o.load_model(path=\"saved_models/GBM_grid_1_AutoML_20170904_233245_model_33\")\n",
    "predictions5 = model5.predict(testf5).as_data_frame()\n",
    "predictions5 = predictions5.drop(\"predict\", axis=1)\n",
    "predictions5.index.name = \"ID\"\n",
    "\n",
    "testf6 = h2o.H2OFrame(testingdf)\n",
    "testf6 = testf6.drop([\"Variation\"])\n",
    "for j in _var:\n",
    "    testf6[j] = testf6[j].asfactor() # Variáveis categóricas (features da Variation 1/0)\n",
    "model6 = h2o.load_model(path=\"saved_models/GBM_grid_1_AutoML_20170905_003323_model_13\")\n",
    "predictions6 = model6.predict(testf6).as_data_frame()\n",
    "predictions6 = predictions6.drop(\"predict\", axis=1)\n",
    "predictions6.index.name = \"ID\"\n",
    "\n",
    "testf7 = h2o.H2OFrame(testingdf)\n",
    "testf7 = testf7.drop([\"Variation\"])\n",
    "for j in _var:\n",
    "    testf7[j] = testf7[j].asfactor() # Variáveis categóricas (features da Variation 1/0)\n",
    "model7 = h2o.load_model(path=\"saved_models/GBM_grid_1_AutoML_20170905_013407_model_57\")\n",
    "predictions7 = model7.predict(testf7).as_data_frame()\n",
    "predictions7 = predictions7.drop(\"predict\", axis=1)\n",
    "predictions7.index.name = \"ID\"\n",
    "\n",
    "testf8 = h2o.H2OFrame(testingdf)\n",
    "testf8 = testf8.drop([\"Variation\"])\n",
    "for j in _var:\n",
    "    testf8[j] = testf8[j].asfactor() # Variáveis categóricas (features da Variation 1/0)\n",
    "model8 = h2o.load_model(path=\"saved_models/GBM_grid_1_AutoML_20170905_023452_model_32\")\n",
    "predictions8 = model8.predict(testf8).as_data_frame()\n",
    "predictions8 = predictions8.drop(\"predict\", axis=1)\n",
    "predictions8.index.name = \"ID\"\n",
    "\n",
    "testf9 = h2o.H2OFrame(testingdf)\n",
    "testf9 = testf9.drop([\"Variation\"])\n",
    "for j in _var:\n",
    "    testf9[j] = testf9[j].asfactor() # Variáveis categóricas (features da Variation 1/0)\n",
    "model9 = h2o.load_model(path=\"saved_models/GBM_grid_1_AutoML_20170905_033548_model_114\")\n",
    "predictions9 = model9.predict(testf9).as_data_frame()\n",
    "predictions9 = predictions9.drop(\"predict\", axis=1)\n",
    "predictions9.index.name = \"ID\""
   ]
  },
  {
   "cell_type": "code",
   "execution_count": 66,
   "metadata": {},
   "outputs": [
    {
     "name": "stdout",
     "output_type": "stream",
     "text": [
      "H2O session _sid_ae58 closed.\n"
     ]
    }
   ],
   "source": [
    "h2o.cluster().shutdown()"
   ]
  },
  {
   "cell_type": "markdown",
   "metadata": {},
   "source": [
    "<a id=\"Model_Training\"></a>\n",
    "### Model Training - Ensemble (Gradient Boosting Machine + Random Forest Distribution + Deep Learning Estimator)"
   ]
  },
  {
   "cell_type": "code",
   "execution_count": 32,
   "metadata": {
    "scrolled": false
   },
   "outputs": [
    {
     "name": "stdout",
     "output_type": "stream",
     "text": [
      "Checking whether there is an H2O instance running at http://localhost:54321..... not found.\n",
      "Attempting to start a local H2O server...\n",
      "; Java HotSpot(TM) 64-Bit Server VM (build 25.144-b01, mixed mode)\n",
      "  Starting server from C:\\Anaconda3\\envs\\Python35\\lib\\site-packages\\h2o\\backend\\bin\\h2o.jar\n",
      "  Ice root: C:\\Users\\pedro\\AppData\\Local\\Temp\\tmp6ibs4wkb\n",
      "  JVM stdout: C:\\Users\\pedro\\AppData\\Local\\Temp\\tmp6ibs4wkb\\h2o_pedro_started_from_python.out\n",
      "  JVM stderr: C:\\Users\\pedro\\AppData\\Local\\Temp\\tmp6ibs4wkb\\h2o_pedro_started_from_python.err\n",
      "  Server is running at http://127.0.0.1:54321\n",
      "Connecting to H2O server at http://127.0.0.1:54321... successful.\n"
     ]
    },
    {
     "data": {
      "text/html": [
       "<div style=\"overflow:auto\"><table style=\"width:50%\"><tr><td>H2O cluster uptime:</td>\n",
       "<td>04 secs</td></tr>\n",
       "<tr><td>H2O cluster version:</td>\n",
       "<td>3.14.0.1</td></tr>\n",
       "<tr><td>H2O cluster version age:</td>\n",
       "<td>26 days </td></tr>\n",
       "<tr><td>H2O cluster name:</td>\n",
       "<td>H2O_from_python_pedro_zyqwxs</td></tr>\n",
       "<tr><td>H2O cluster total nodes:</td>\n",
       "<td>1</td></tr>\n",
       "<tr><td>H2O cluster free memory:</td>\n",
       "<td>12.44 Gb</td></tr>\n",
       "<tr><td>H2O cluster total cores:</td>\n",
       "<td>0</td></tr>\n",
       "<tr><td>H2O cluster allowed cores:</td>\n",
       "<td>0</td></tr>\n",
       "<tr><td>H2O cluster status:</td>\n",
       "<td>accepting new members, healthy</td></tr>\n",
       "<tr><td>H2O connection url:</td>\n",
       "<td>http://127.0.0.1:54321</td></tr>\n",
       "<tr><td>H2O connection proxy:</td>\n",
       "<td>None</td></tr>\n",
       "<tr><td>H2O internal security:</td>\n",
       "<td>False</td></tr>\n",
       "<tr><td>H2O API Extensions:</td>\n",
       "<td>Algos, AutoML, Core V3, Core V4</td></tr>\n",
       "<tr><td>Python version:</td>\n",
       "<td>3.5.4 final</td></tr></table></div>"
      ],
      "text/plain": [
       "--------------------------  -------------------------------\n",
       "H2O cluster uptime:         04 secs\n",
       "H2O cluster version:        3.14.0.1\n",
       "H2O cluster version age:    26 days\n",
       "H2O cluster name:           H2O_from_python_pedro_zyqwxs\n",
       "H2O cluster total nodes:    1\n",
       "H2O cluster free memory:    12.44 Gb\n",
       "H2O cluster total cores:    0\n",
       "H2O cluster allowed cores:  0\n",
       "H2O cluster status:         accepting new members, healthy\n",
       "H2O connection url:         http://127.0.0.1:54321\n",
       "H2O connection proxy:\n",
       "H2O internal security:      False\n",
       "H2O API Extensions:         Algos, AutoML, Core V3, Core V4\n",
       "Python version:             3.5.4 final\n",
       "--------------------------  -------------------------------"
      ]
     },
     "metadata": {},
     "output_type": "display_data"
    },
    {
     "name": "stdout",
     "output_type": "stream",
     "text": [
      "Parse progress: |█████████████████████████████████████████████████████████| 100%\n",
      "Parse progress: |█████████████████████████████████████████████████████████| 100%\n",
      "gbm Model Build progress: |███████████████████████████████████████████████| 100%\n",
      "drf Model Build progress: |███████████████████████████████████████████████| 100%\n",
      "deeplearning Model Build progress: |██████████████████████████████████████| 100%\n",
      "stackedensemble Model Build progress: |███████████████████████████████████| 100%\n",
      "H2O session _sid_aaf0 closed.\n",
      "Checking whether there is an H2O instance running at http://localhost:54322..... not found.\n",
      "Attempting to start a local H2O server...\n",
      "; Java HotSpot(TM) 64-Bit Server VM (build 25.144-b01, mixed mode)\n",
      "  Starting server from C:\\Anaconda3\\envs\\Python35\\lib\\site-packages\\h2o\\backend\\bin\\h2o.jar\n",
      "  Ice root: C:\\Users\\pedro\\AppData\\Local\\Temp\\tmprvtsul0r\n",
      "  JVM stdout: C:\\Users\\pedro\\AppData\\Local\\Temp\\tmprvtsul0r\\h2o_pedro_started_from_python.out\n",
      "  JVM stderr: C:\\Users\\pedro\\AppData\\Local\\Temp\\tmprvtsul0r\\h2o_pedro_started_from_python.err\n",
      "  Server is running at http://127.0.0.1:54322\n",
      "Connecting to H2O server at http://127.0.0.1:54322... successful.\n"
     ]
    },
    {
     "data": {
      "text/html": [
       "<div style=\"overflow:auto\"><table style=\"width:50%\"><tr><td>H2O cluster uptime:</td>\n",
       "<td>04 secs</td></tr>\n",
       "<tr><td>H2O cluster version:</td>\n",
       "<td>3.14.0.1</td></tr>\n",
       "<tr><td>H2O cluster version age:</td>\n",
       "<td>26 days </td></tr>\n",
       "<tr><td>H2O cluster name:</td>\n",
       "<td>H2O_from_python_pedro_aq34tm</td></tr>\n",
       "<tr><td>H2O cluster total nodes:</td>\n",
       "<td>1</td></tr>\n",
       "<tr><td>H2O cluster free memory:</td>\n",
       "<td>12.44 Gb</td></tr>\n",
       "<tr><td>H2O cluster total cores:</td>\n",
       "<td>4</td></tr>\n",
       "<tr><td>H2O cluster allowed cores:</td>\n",
       "<td>4</td></tr>\n",
       "<tr><td>H2O cluster status:</td>\n",
       "<td>accepting new members, healthy</td></tr>\n",
       "<tr><td>H2O connection url:</td>\n",
       "<td>http://127.0.0.1:54322</td></tr>\n",
       "<tr><td>H2O connection proxy:</td>\n",
       "<td>None</td></tr>\n",
       "<tr><td>H2O internal security:</td>\n",
       "<td>False</td></tr>\n",
       "<tr><td>H2O API Extensions:</td>\n",
       "<td>Algos, AutoML, Core V3, Core V4</td></tr>\n",
       "<tr><td>Python version:</td>\n",
       "<td>3.5.4 final</td></tr></table></div>"
      ],
      "text/plain": [
       "--------------------------  -------------------------------\n",
       "H2O cluster uptime:         04 secs\n",
       "H2O cluster version:        3.14.0.1\n",
       "H2O cluster version age:    26 days\n",
       "H2O cluster name:           H2O_from_python_pedro_aq34tm\n",
       "H2O cluster total nodes:    1\n",
       "H2O cluster free memory:    12.44 Gb\n",
       "H2O cluster total cores:    4\n",
       "H2O cluster allowed cores:  4\n",
       "H2O cluster status:         accepting new members, healthy\n",
       "H2O connection url:         http://127.0.0.1:54322\n",
       "H2O connection proxy:\n",
       "H2O internal security:      False\n",
       "H2O API Extensions:         Algos, AutoML, Core V3, Core V4\n",
       "Python version:             3.5.4 final\n",
       "--------------------------  -------------------------------"
      ]
     },
     "metadata": {},
     "output_type": "display_data"
    },
    {
     "name": "stdout",
     "output_type": "stream",
     "text": [
      "Parse progress: |█████████████████████████████████████████████████████████| 100%\n",
      "Parse progress: |█████████████████████████████████████████████████████████| 100%\n",
      "gbm Model Build progress: |███████████████████████████████████████████████| 100%\n",
      "drf Model Build progress: |███████████████████████████████████████████████| 100%\n",
      "deeplearning Model Build progress: |██████████████████████████████████████| 100%\n",
      "stackedensemble Model Build progress: |███████████████████████████████████| 100%\n",
      "H2O session _sid_b0c1 closed.\n",
      "Checking whether there is an H2O instance running at http://localhost:54323..... not found.\n",
      "Attempting to start a local H2O server...\n",
      "; Java HotSpot(TM) 64-Bit Server VM (build 25.144-b01, mixed mode)\n",
      "  Starting server from C:\\Anaconda3\\envs\\Python35\\lib\\site-packages\\h2o\\backend\\bin\\h2o.jar\n",
      "  Ice root: C:\\Users\\pedro\\AppData\\Local\\Temp\\tmptcgabh4n\n",
      "  JVM stdout: C:\\Users\\pedro\\AppData\\Local\\Temp\\tmptcgabh4n\\h2o_pedro_started_from_python.out\n",
      "  JVM stderr: C:\\Users\\pedro\\AppData\\Local\\Temp\\tmptcgabh4n\\h2o_pedro_started_from_python.err\n",
      "  Server is running at http://127.0.0.1:54323\n",
      "Connecting to H2O server at http://127.0.0.1:54323... successful.\n"
     ]
    },
    {
     "data": {
      "text/html": [
       "<div style=\"overflow:auto\"><table style=\"width:50%\"><tr><td>H2O cluster uptime:</td>\n",
       "<td>06 secs</td></tr>\n",
       "<tr><td>H2O cluster version:</td>\n",
       "<td>3.14.0.1</td></tr>\n",
       "<tr><td>H2O cluster version age:</td>\n",
       "<td>26 days </td></tr>\n",
       "<tr><td>H2O cluster name:</td>\n",
       "<td>H2O_from_python_pedro_y54yc3</td></tr>\n",
       "<tr><td>H2O cluster total nodes:</td>\n",
       "<td>1</td></tr>\n",
       "<tr><td>H2O cluster free memory:</td>\n",
       "<td>12.44 Gb</td></tr>\n",
       "<tr><td>H2O cluster total cores:</td>\n",
       "<td>4</td></tr>\n",
       "<tr><td>H2O cluster allowed cores:</td>\n",
       "<td>4</td></tr>\n",
       "<tr><td>H2O cluster status:</td>\n",
       "<td>accepting new members, healthy</td></tr>\n",
       "<tr><td>H2O connection url:</td>\n",
       "<td>http://127.0.0.1:54323</td></tr>\n",
       "<tr><td>H2O connection proxy:</td>\n",
       "<td>None</td></tr>\n",
       "<tr><td>H2O internal security:</td>\n",
       "<td>False</td></tr>\n",
       "<tr><td>H2O API Extensions:</td>\n",
       "<td>Algos, AutoML, Core V3, Core V4</td></tr>\n",
       "<tr><td>Python version:</td>\n",
       "<td>3.5.4 final</td></tr></table></div>"
      ],
      "text/plain": [
       "--------------------------  -------------------------------\n",
       "H2O cluster uptime:         06 secs\n",
       "H2O cluster version:        3.14.0.1\n",
       "H2O cluster version age:    26 days\n",
       "H2O cluster name:           H2O_from_python_pedro_y54yc3\n",
       "H2O cluster total nodes:    1\n",
       "H2O cluster free memory:    12.44 Gb\n",
       "H2O cluster total cores:    4\n",
       "H2O cluster allowed cores:  4\n",
       "H2O cluster status:         accepting new members, healthy\n",
       "H2O connection url:         http://127.0.0.1:54323\n",
       "H2O connection proxy:\n",
       "H2O internal security:      False\n",
       "H2O API Extensions:         Algos, AutoML, Core V3, Core V4\n",
       "Python version:             3.5.4 final\n",
       "--------------------------  -------------------------------"
      ]
     },
     "metadata": {},
     "output_type": "display_data"
    },
    {
     "name": "stdout",
     "output_type": "stream",
     "text": [
      "Parse progress: |█████████████████████████████████████████████████████████| 100%\n",
      "Parse progress: |█████████████████████████████████████████████████████████| 100%\n",
      "gbm Model Build progress: |███████████████████████████████████████████████| 100%\n",
      "drf Model Build progress: |███████████████████████████████████████████████| 100%\n",
      "deeplearning Model Build progress: |██████████████████████████████████████| 100%\n",
      "stackedensemble Model Build progress: |███████████████████████████████████| 100%\n",
      "H2O session _sid_b419 closed.\n",
      "Checking whether there is an H2O instance running at http://localhost:54324..... not found.\n",
      "Attempting to start a local H2O server...\n",
      "; Java HotSpot(TM) 64-Bit Server VM (build 25.144-b01, mixed mode)\n",
      "  Starting server from C:\\Anaconda3\\envs\\Python35\\lib\\site-packages\\h2o\\backend\\bin\\h2o.jar\n",
      "  Ice root: C:\\Users\\pedro\\AppData\\Local\\Temp\\tmphl3yo2p2\n",
      "  JVM stdout: C:\\Users\\pedro\\AppData\\Local\\Temp\\tmphl3yo2p2\\h2o_pedro_started_from_python.out\n",
      "  JVM stderr: C:\\Users\\pedro\\AppData\\Local\\Temp\\tmphl3yo2p2\\h2o_pedro_started_from_python.err\n",
      "  Server is running at http://127.0.0.1:54324\n",
      "Connecting to H2O server at http://127.0.0.1:54324... successful.\n"
     ]
    },
    {
     "data": {
      "text/html": [
       "<div style=\"overflow:auto\"><table style=\"width:50%\"><tr><td>H2O cluster uptime:</td>\n",
       "<td>03 secs</td></tr>\n",
       "<tr><td>H2O cluster version:</td>\n",
       "<td>3.14.0.1</td></tr>\n",
       "<tr><td>H2O cluster version age:</td>\n",
       "<td>26 days </td></tr>\n",
       "<tr><td>H2O cluster name:</td>\n",
       "<td>H2O_from_python_pedro_029zb1</td></tr>\n",
       "<tr><td>H2O cluster total nodes:</td>\n",
       "<td>1</td></tr>\n",
       "<tr><td>H2O cluster free memory:</td>\n",
       "<td>12.44 Gb</td></tr>\n",
       "<tr><td>H2O cluster total cores:</td>\n",
       "<td>4</td></tr>\n",
       "<tr><td>H2O cluster allowed cores:</td>\n",
       "<td>4</td></tr>\n",
       "<tr><td>H2O cluster status:</td>\n",
       "<td>accepting new members, healthy</td></tr>\n",
       "<tr><td>H2O connection url:</td>\n",
       "<td>http://127.0.0.1:54324</td></tr>\n",
       "<tr><td>H2O connection proxy:</td>\n",
       "<td>None</td></tr>\n",
       "<tr><td>H2O internal security:</td>\n",
       "<td>False</td></tr>\n",
       "<tr><td>H2O API Extensions:</td>\n",
       "<td>Algos, AutoML, Core V3, Core V4</td></tr>\n",
       "<tr><td>Python version:</td>\n",
       "<td>3.5.4 final</td></tr></table></div>"
      ],
      "text/plain": [
       "--------------------------  -------------------------------\n",
       "H2O cluster uptime:         03 secs\n",
       "H2O cluster version:        3.14.0.1\n",
       "H2O cluster version age:    26 days\n",
       "H2O cluster name:           H2O_from_python_pedro_029zb1\n",
       "H2O cluster total nodes:    1\n",
       "H2O cluster free memory:    12.44 Gb\n",
       "H2O cluster total cores:    4\n",
       "H2O cluster allowed cores:  4\n",
       "H2O cluster status:         accepting new members, healthy\n",
       "H2O connection url:         http://127.0.0.1:54324\n",
       "H2O connection proxy:\n",
       "H2O internal security:      False\n",
       "H2O API Extensions:         Algos, AutoML, Core V3, Core V4\n",
       "Python version:             3.5.4 final\n",
       "--------------------------  -------------------------------"
      ]
     },
     "metadata": {},
     "output_type": "display_data"
    },
    {
     "name": "stdout",
     "output_type": "stream",
     "text": [
      "Parse progress: |█████████████████████████████████████████████████████████| 100%\n",
      "Parse progress: |█████████████████████████████████████████████████████████| 100%\n",
      "gbm Model Build progress: |████████████████████████████████████████████████| 100%\n",
      "drf Model Build progress: |███████████████████████████████████████████████| 100%\n",
      "deeplearning Model Build progress: |██████████████████████████████████████| 100%\n",
      "stackedensemble Model Build progress: |███████████████████████████████████| 100%\n",
      "H2O session _sid_bb8e closed.\n",
      "Checking whether there is an H2O instance running at http://localhost:54325..... not found.\n",
      "Attempting to start a local H2O server...\n",
      "; Java HotSpot(TM) 64-Bit Server VM (build 25.144-b01, mixed mode)\n",
      "  Starting server from C:\\Anaconda3\\envs\\Python35\\lib\\site-packages\\h2o\\backend\\bin\\h2o.jar\n",
      "  Ice root: C:\\Users\\pedro\\AppData\\Local\\Temp\\tmpcoy3jxux\n",
      "  JVM stdout: C:\\Users\\pedro\\AppData\\Local\\Temp\\tmpcoy3jxux\\h2o_pedro_started_from_python.out\n",
      "  JVM stderr: C:\\Users\\pedro\\AppData\\Local\\Temp\\tmpcoy3jxux\\h2o_pedro_started_from_python.err\n",
      "  Server is running at http://127.0.0.1:54325\n",
      "Connecting to H2O server at http://127.0.0.1:54325... successful.\n"
     ]
    },
    {
     "data": {
      "text/html": [
       "<div style=\"overflow:auto\"><table style=\"width:50%\"><tr><td>H2O cluster uptime:</td>\n",
       "<td>03 secs</td></tr>\n",
       "<tr><td>H2O cluster version:</td>\n",
       "<td>3.14.0.1</td></tr>\n",
       "<tr><td>H2O cluster version age:</td>\n",
       "<td>26 days </td></tr>\n",
       "<tr><td>H2O cluster name:</td>\n",
       "<td>H2O_from_python_pedro_5vmyss</td></tr>\n",
       "<tr><td>H2O cluster total nodes:</td>\n",
       "<td>1</td></tr>\n",
       "<tr><td>H2O cluster free memory:</td>\n",
       "<td>12.44 Gb</td></tr>\n",
       "<tr><td>H2O cluster total cores:</td>\n",
       "<td>4</td></tr>\n",
       "<tr><td>H2O cluster allowed cores:</td>\n",
       "<td>4</td></tr>\n",
       "<tr><td>H2O cluster status:</td>\n",
       "<td>accepting new members, healthy</td></tr>\n",
       "<tr><td>H2O connection url:</td>\n",
       "<td>http://127.0.0.1:54325</td></tr>\n",
       "<tr><td>H2O connection proxy:</td>\n",
       "<td>None</td></tr>\n",
       "<tr><td>H2O internal security:</td>\n",
       "<td>False</td></tr>\n",
       "<tr><td>H2O API Extensions:</td>\n",
       "<td>Algos, AutoML, Core V3, Core V4</td></tr>\n",
       "<tr><td>Python version:</td>\n",
       "<td>3.5.4 final</td></tr></table></div>"
      ],
      "text/plain": [
       "--------------------------  -------------------------------\n",
       "H2O cluster uptime:         03 secs\n",
       "H2O cluster version:        3.14.0.1\n",
       "H2O cluster version age:    26 days\n",
       "H2O cluster name:           H2O_from_python_pedro_5vmyss\n",
       "H2O cluster total nodes:    1\n",
       "H2O cluster free memory:    12.44 Gb\n",
       "H2O cluster total cores:    4\n",
       "H2O cluster allowed cores:  4\n",
       "H2O cluster status:         accepting new members, healthy\n",
       "H2O connection url:         http://127.0.0.1:54325\n",
       "H2O connection proxy:\n",
       "H2O internal security:      False\n",
       "H2O API Extensions:         Algos, AutoML, Core V3, Core V4\n",
       "Python version:             3.5.4 final\n",
       "--------------------------  -------------------------------"
      ]
     },
     "metadata": {},
     "output_type": "display_data"
    },
    {
     "name": "stdout",
     "output_type": "stream",
     "text": [
      "Parse progress: |█████████████████████████████████████████████████████████| 100%\n",
      "Parse progress: |█████████████████████████████████████████████████████████| 100%\n",
      "gbm Model Build progress: |███████████████████████████████████████████████| 100%\n",
      "drf Model Build progress: |███████████████████████████████████████████████| 100%\n",
      "deeplearning Model Build progress: |██████████████████████████████████████| 100%\n",
      "stackedensemble Model Build progress: |███████████████████████████████████| 100%\n",
      "H2O session _sid_8275 closed.\n",
      "Checking whether there is an H2O instance running at http://localhost:54326..... not found.\n",
      "Attempting to start a local H2O server...\n",
      "; Java HotSpot(TM) 64-Bit Server VM (build 25.144-b01, mixed mode)\n",
      "  Starting server from C:\\Anaconda3\\envs\\Python35\\lib\\site-packages\\h2o\\backend\\bin\\h2o.jar\n",
      "  Ice root: C:\\Users\\pedro\\AppData\\Local\\Temp\\tmp03p37ts9\n",
      "  JVM stdout: C:\\Users\\pedro\\AppData\\Local\\Temp\\tmp03p37ts9\\h2o_pedro_started_from_python.out\n",
      "  JVM stderr: C:\\Users\\pedro\\AppData\\Local\\Temp\\tmp03p37ts9\\h2o_pedro_started_from_python.err\n",
      "  Server is running at http://127.0.0.1:54326\n",
      "Connecting to H2O server at http://127.0.0.1:54326... successful.\n"
     ]
    },
    {
     "data": {
      "text/html": [
       "<div style=\"overflow:auto\"><table style=\"width:50%\"><tr><td>H2O cluster uptime:</td>\n",
       "<td>03 secs</td></tr>\n",
       "<tr><td>H2O cluster version:</td>\n",
       "<td>3.14.0.1</td></tr>\n",
       "<tr><td>H2O cluster version age:</td>\n",
       "<td>26 days </td></tr>\n",
       "<tr><td>H2O cluster name:</td>\n",
       "<td>H2O_from_python_pedro_uncxdv</td></tr>\n",
       "<tr><td>H2O cluster total nodes:</td>\n",
       "<td>1</td></tr>\n",
       "<tr><td>H2O cluster free memory:</td>\n",
       "<td>12.44 Gb</td></tr>\n",
       "<tr><td>H2O cluster total cores:</td>\n",
       "<td>4</td></tr>\n",
       "<tr><td>H2O cluster allowed cores:</td>\n",
       "<td>4</td></tr>\n",
       "<tr><td>H2O cluster status:</td>\n",
       "<td>accepting new members, healthy</td></tr>\n",
       "<tr><td>H2O connection url:</td>\n",
       "<td>http://127.0.0.1:54326</td></tr>\n",
       "<tr><td>H2O connection proxy:</td>\n",
       "<td>None</td></tr>\n",
       "<tr><td>H2O internal security:</td>\n",
       "<td>False</td></tr>\n",
       "<tr><td>H2O API Extensions:</td>\n",
       "<td>Algos, AutoML, Core V3, Core V4</td></tr>\n",
       "<tr><td>Python version:</td>\n",
       "<td>3.5.4 final</td></tr></table></div>"
      ],
      "text/plain": [
       "--------------------------  -------------------------------\n",
       "H2O cluster uptime:         03 secs\n",
       "H2O cluster version:        3.14.0.1\n",
       "H2O cluster version age:    26 days\n",
       "H2O cluster name:           H2O_from_python_pedro_uncxdv\n",
       "H2O cluster total nodes:    1\n",
       "H2O cluster free memory:    12.44 Gb\n",
       "H2O cluster total cores:    4\n",
       "H2O cluster allowed cores:  4\n",
       "H2O cluster status:         accepting new members, healthy\n",
       "H2O connection url:         http://127.0.0.1:54326\n",
       "H2O connection proxy:\n",
       "H2O internal security:      False\n",
       "H2O API Extensions:         Algos, AutoML, Core V3, Core V4\n",
       "Python version:             3.5.4 final\n",
       "--------------------------  -------------------------------"
      ]
     },
     "metadata": {},
     "output_type": "display_data"
    },
    {
     "name": "stdout",
     "output_type": "stream",
     "text": [
      "Parse progress: |█████████████████████████████████████████████████████████| 100%\n",
      "Parse progress: |█████████████████████████████████████████████████████████| 100%\n",
      "gbm Model Build progress: |███████████████████████████████████████████████| 100%\n",
      "drf Model Build progress: |███████████████████████████████████████████████| 100%\n",
      "deeplearning Model Build progress: |██████████████████████████████████████| 100%\n",
      "stackedensemble Model Build progress: |███████████████████████████████████| 100%\n",
      "H2O session _sid_a768 closed.\n",
      "Checking whether there is an H2O instance running at http://localhost:54327..... not found.\n",
      "Attempting to start a local H2O server...\n",
      "; Java HotSpot(TM) 64-Bit Server VM (build 25.144-b01, mixed mode)\n",
      "  Starting server from C:\\Anaconda3\\envs\\Python35\\lib\\site-packages\\h2o\\backend\\bin\\h2o.jar\n",
      "  Ice root: C:\\Users\\pedro\\AppData\\Local\\Temp\\tmpkycwzgno\n",
      "  JVM stdout: C:\\Users\\pedro\\AppData\\Local\\Temp\\tmpkycwzgno\\h2o_pedro_started_from_python.out\n",
      "  JVM stderr: C:\\Users\\pedro\\AppData\\Local\\Temp\\tmpkycwzgno\\h2o_pedro_started_from_python.err\n",
      "  Server is running at http://127.0.0.1:54327\n",
      "Connecting to H2O server at http://127.0.0.1:54327... successful.\n"
     ]
    },
    {
     "data": {
      "text/html": [
       "<div style=\"overflow:auto\"><table style=\"width:50%\"><tr><td>H2O cluster uptime:</td>\n",
       "<td>03 secs</td></tr>\n",
       "<tr><td>H2O cluster version:</td>\n",
       "<td>3.14.0.1</td></tr>\n",
       "<tr><td>H2O cluster version age:</td>\n",
       "<td>26 days </td></tr>\n",
       "<tr><td>H2O cluster name:</td>\n",
       "<td>H2O_from_python_pedro_fpoktn</td></tr>\n",
       "<tr><td>H2O cluster total nodes:</td>\n",
       "<td>1</td></tr>\n",
       "<tr><td>H2O cluster free memory:</td>\n",
       "<td>12.44 Gb</td></tr>\n",
       "<tr><td>H2O cluster total cores:</td>\n",
       "<td>4</td></tr>\n",
       "<tr><td>H2O cluster allowed cores:</td>\n",
       "<td>4</td></tr>\n",
       "<tr><td>H2O cluster status:</td>\n",
       "<td>accepting new members, healthy</td></tr>\n",
       "<tr><td>H2O connection url:</td>\n",
       "<td>http://127.0.0.1:54327</td></tr>\n",
       "<tr><td>H2O connection proxy:</td>\n",
       "<td>None</td></tr>\n",
       "<tr><td>H2O internal security:</td>\n",
       "<td>False</td></tr>\n",
       "<tr><td>H2O API Extensions:</td>\n",
       "<td>Algos, AutoML, Core V3, Core V4</td></tr>\n",
       "<tr><td>Python version:</td>\n",
       "<td>3.5.4 final</td></tr></table></div>"
      ],
      "text/plain": [
       "--------------------------  -------------------------------\n",
       "H2O cluster uptime:         03 secs\n",
       "H2O cluster version:        3.14.0.1\n",
       "H2O cluster version age:    26 days\n",
       "H2O cluster name:           H2O_from_python_pedro_fpoktn\n",
       "H2O cluster total nodes:    1\n",
       "H2O cluster free memory:    12.44 Gb\n",
       "H2O cluster total cores:    4\n",
       "H2O cluster allowed cores:  4\n",
       "H2O cluster status:         accepting new members, healthy\n",
       "H2O connection url:         http://127.0.0.1:54327\n",
       "H2O connection proxy:\n",
       "H2O internal security:      False\n",
       "H2O API Extensions:         Algos, AutoML, Core V3, Core V4\n",
       "Python version:             3.5.4 final\n",
       "--------------------------  -------------------------------"
      ]
     },
     "metadata": {},
     "output_type": "display_data"
    },
    {
     "name": "stdout",
     "output_type": "stream",
     "text": [
      "Parse progress: |█████████████████████████████████████████████████████████| 100%\n",
      "Parse progress: |█████████████████████████████████████████████████████████| 100%\n",
      "gbm Model Build progress: |███████████████████████████████████████████████| 100%\n",
      "drf Model Build progress: |███████████████████████████████████████████████| 100%\n",
      "deeplearning Model Build progress: |██████████████████████████████████████| 100%\n",
      "stackedensemble Model Build progress: |███████████████████████████████████| 100%\n",
      "H2O session _sid_94a4 closed.\n",
      "Checking whether there is an H2O instance running at http://localhost:54328..... not found.\n",
      "Attempting to start a local H2O server...\n",
      "; Java HotSpot(TM) 64-Bit Server VM (build 25.144-b01, mixed mode)\n",
      "  Starting server from C:\\Anaconda3\\envs\\Python35\\lib\\site-packages\\h2o\\backend\\bin\\h2o.jar\n",
      "  Ice root: C:\\Users\\pedro\\AppData\\Local\\Temp\\tmpntxtha53\n",
      "  JVM stdout: C:\\Users\\pedro\\AppData\\Local\\Temp\\tmpntxtha53\\h2o_pedro_started_from_python.out\n",
      "  JVM stderr: C:\\Users\\pedro\\AppData\\Local\\Temp\\tmpntxtha53\\h2o_pedro_started_from_python.err\n",
      "  Server is running at http://127.0.0.1:54328\n",
      "Connecting to H2O server at http://127.0.0.1:54328... successful.\n"
     ]
    },
    {
     "data": {
      "text/html": [
       "<div style=\"overflow:auto\"><table style=\"width:50%\"><tr><td>H2O cluster uptime:</td>\n",
       "<td>06 secs</td></tr>\n",
       "<tr><td>H2O cluster version:</td>\n",
       "<td>3.14.0.1</td></tr>\n",
       "<tr><td>H2O cluster version age:</td>\n",
       "<td>26 days </td></tr>\n",
       "<tr><td>H2O cluster name:</td>\n",
       "<td>H2O_from_python_pedro_8l267j</td></tr>\n",
       "<tr><td>H2O cluster total nodes:</td>\n",
       "<td>1</td></tr>\n",
       "<tr><td>H2O cluster free memory:</td>\n",
       "<td>12.44 Gb</td></tr>\n",
       "<tr><td>H2O cluster total cores:</td>\n",
       "<td>4</td></tr>\n",
       "<tr><td>H2O cluster allowed cores:</td>\n",
       "<td>4</td></tr>\n",
       "<tr><td>H2O cluster status:</td>\n",
       "<td>accepting new members, healthy</td></tr>\n",
       "<tr><td>H2O connection url:</td>\n",
       "<td>http://127.0.0.1:54328</td></tr>\n",
       "<tr><td>H2O connection proxy:</td>\n",
       "<td>None</td></tr>\n",
       "<tr><td>H2O internal security:</td>\n",
       "<td>False</td></tr>\n",
       "<tr><td>H2O API Extensions:</td>\n",
       "<td>Algos, AutoML, Core V3, Core V4</td></tr>\n",
       "<tr><td>Python version:</td>\n",
       "<td>3.5.4 final</td></tr></table></div>"
      ],
      "text/plain": [
       "--------------------------  -------------------------------\n",
       "H2O cluster uptime:         06 secs\n",
       "H2O cluster version:        3.14.0.1\n",
       "H2O cluster version age:    26 days\n",
       "H2O cluster name:           H2O_from_python_pedro_8l267j\n",
       "H2O cluster total nodes:    1\n",
       "H2O cluster free memory:    12.44 Gb\n",
       "H2O cluster total cores:    4\n",
       "H2O cluster allowed cores:  4\n",
       "H2O cluster status:         accepting new members, healthy\n",
       "H2O connection url:         http://127.0.0.1:54328\n",
       "H2O connection proxy:\n",
       "H2O internal security:      False\n",
       "H2O API Extensions:         Algos, AutoML, Core V3, Core V4\n",
       "Python version:             3.5.4 final\n",
       "--------------------------  -------------------------------"
      ]
     },
     "metadata": {},
     "output_type": "display_data"
    },
    {
     "name": "stdout",
     "output_type": "stream",
     "text": [
      "Parse progress: |█████████████████████████████████████████████████████████| 100%\n",
      "Parse progress: |█████████████████████████████████████████████████████████| 100%\n",
      "gbm Model Build progress: |███████████████████████████████████████████████| 100%\n",
      "drf Model Build progress: |███████████████████████████████████████████████| 100%\n",
      "deeplearning Model Build progress: |██████████████████████████████████████| 100%\n",
      "stackedensemble Model Build progress: |███████████████████████████████████| 100%\n",
      "H2O session _sid_a90d closed.\n",
      "Checking whether there is an H2O instance running at http://localhost:54329..... not found.\n",
      "Attempting to start a local H2O server...\n",
      "; Java HotSpot(TM) 64-Bit Server VM (build 25.144-b01, mixed mode)\n",
      "  Starting server from C:\\Anaconda3\\envs\\Python35\\lib\\site-packages\\h2o\\backend\\bin\\h2o.jar\n",
      "  Ice root: C:\\Users\\pedro\\AppData\\Local\\Temp\\tmpbwet9vyk\n",
      "  JVM stdout: C:\\Users\\pedro\\AppData\\Local\\Temp\\tmpbwet9vyk\\h2o_pedro_started_from_python.out\n",
      "  JVM stderr: C:\\Users\\pedro\\AppData\\Local\\Temp\\tmpbwet9vyk\\h2o_pedro_started_from_python.err\n",
      "  Server is running at http://127.0.0.1:54329\n",
      "Connecting to H2O server at http://127.0.0.1:54329... successful.\n"
     ]
    },
    {
     "data": {
      "text/html": [
       "<div style=\"overflow:auto\"><table style=\"width:50%\"><tr><td>H2O cluster uptime:</td>\n",
       "<td>03 secs</td></tr>\n",
       "<tr><td>H2O cluster version:</td>\n",
       "<td>3.14.0.1</td></tr>\n",
       "<tr><td>H2O cluster version age:</td>\n",
       "<td>26 days </td></tr>\n",
       "<tr><td>H2O cluster name:</td>\n",
       "<td>H2O_from_python_pedro_1rguab</td></tr>\n",
       "<tr><td>H2O cluster total nodes:</td>\n",
       "<td>1</td></tr>\n",
       "<tr><td>H2O cluster free memory:</td>\n",
       "<td>12.44 Gb</td></tr>\n",
       "<tr><td>H2O cluster total cores:</td>\n",
       "<td>4</td></tr>\n",
       "<tr><td>H2O cluster allowed cores:</td>\n",
       "<td>4</td></tr>\n",
       "<tr><td>H2O cluster status:</td>\n",
       "<td>accepting new members, healthy</td></tr>\n",
       "<tr><td>H2O connection url:</td>\n",
       "<td>http://127.0.0.1:54329</td></tr>\n",
       "<tr><td>H2O connection proxy:</td>\n",
       "<td>None</td></tr>\n",
       "<tr><td>H2O internal security:</td>\n",
       "<td>False</td></tr>\n",
       "<tr><td>H2O API Extensions:</td>\n",
       "<td>Algos, AutoML, Core V3, Core V4</td></tr>\n",
       "<tr><td>Python version:</td>\n",
       "<td>3.5.4 final</td></tr></table></div>"
      ],
      "text/plain": [
       "--------------------------  -------------------------------\n",
       "H2O cluster uptime:         03 secs\n",
       "H2O cluster version:        3.14.0.1\n",
       "H2O cluster version age:    26 days\n",
       "H2O cluster name:           H2O_from_python_pedro_1rguab\n",
       "H2O cluster total nodes:    1\n",
       "H2O cluster free memory:    12.44 Gb\n",
       "H2O cluster total cores:    4\n",
       "H2O cluster allowed cores:  4\n",
       "H2O cluster status:         accepting new members, healthy\n",
       "H2O connection url:         http://127.0.0.1:54329\n",
       "H2O connection proxy:\n",
       "H2O internal security:      False\n",
       "H2O API Extensions:         Algos, AutoML, Core V3, Core V4\n",
       "Python version:             3.5.4 final\n",
       "--------------------------  -------------------------------"
      ]
     },
     "metadata": {},
     "output_type": "display_data"
    },
    {
     "name": "stdout",
     "output_type": "stream",
     "text": [
      "Parse progress: |█████████████████████████████████████████████████████████| 100%\n",
      "Parse progress: |█████████████████████████████████████████████████████████| 100%\n",
      "gbm Model Build progress: |███████████████████████████████████████████████| 100%\n",
      "drf Model Build progress: |███████████████████████████████████████████████| 100%\n",
      "deeplearning Model Build progress: |██████████████████████████████████████| 100%\n",
      "stackedensemble Model Build progress: |███████████████████████████████████| 100%\n",
      "H2O session _sid_8db4 closed.\n"
     ]
    }
   ],
   "source": [
    "for i in range(1,10):\n",
    "    h2o.init(max_mem_size='14g', enable_assertions=False, port=54320+i)\n",
    "    h2o.remove_all()\n",
    "    globals()[str(\"tf\")+str(i)] = h2o.H2OFrame(globals()[str(\"trainingdf\")+str(i)]) # importa cada tf\n",
    "    globals()[str(\"vf\")+str(i)] = h2o.H2OFrame(globals()[str(\"validationdf\")+str(i)]) # importa cada vf\n",
    "    globals()[str(\"x\")+str(i)] = globals()[str(\"tf\")+str(i)].columns.remove(y)\n",
    "    globals()[str(\"tf\")+str(i)][y] = globals()[str(\"tf\")+str(i)][y].asfactor() # Variáveis categóricas\n",
    "    globals()[str(\"vf\")+str(i)][y] = globals()[str(\"vf\")+str(i)][y].asfactor()\n",
    "    for j in _var:\n",
    "        globals()[str(\"tf\")+str(i)][j] = globals()[str(\"tf\")+str(i)][j].asfactor() # Variáveis categóricas (features da Variation 1/0)\n",
    "        globals()[str(\"vf\")+str(i)][j] = globals()[str(\"vf\")+str(i)][j].asfactor()\n",
    "    globals()[str(\"gbm\")+str(i)] = H2OGradientBoostingEstimator(distribution=\"bernoulli\", ntrees=10, max_depth=3, min_rows=2, learn_rate=0.2, nfolds=nfolds,\n",
    "                                                                fold_assignment=\"Modulo\", keep_cross_validation_predictions=True, seed=1) # cria cada GBM\n",
    "    globals()[str(\"gbm\")+str(i)].train(x=globals()[str(\"x\")+str(i)], y=y, training_frame=globals()[str(\"tf\")+str(i)], validation_frame=globals()[str(\"vf\")+str(i)]) # treina cada GBM\n",
    "    globals()[str(\"rf\")+str(i)] = H2ORandomForestEstimator(ntrees=50, nfolds=nfolds, fold_assignment=\"Modulo\", keep_cross_validation_predictions=True, seed=1) # cria RFD \n",
    "    globals()[str(\"rf\")+str(i)].train(x=globals()[str(\"x\")+str(i)], y=y, training_frame=globals()[str(\"tf\")+str(i)], validation_frame=globals()[str(\"vf\")+str(i)]) # treina RFD\n",
    "    globals()[str(\"dle\")+str(i)] = H2ODeepLearningEstimator(distribution=\"bernoulli\", rate=0.2, epochs=7, nfolds=nfolds, fold_assignment=\"Modulo\", keep_cross_validation_predictions=True, seed=1) # cria DLE \n",
    "    globals()[str(\"dle\")+str(i)].train(x=globals()[str(\"x\")+str(i)], y=y, training_frame=globals()[str(\"tf\")+str(i)], validation_frame=globals()[str(\"vf\")+str(i)]) # treina DLE\n",
    "    globals()[str(\"ensemble\")+str(i)] = H2OStackedEnsembleEstimator(model_id=(\"my_ensemble_binomial_\"+str(i)), base_models=[globals()[str(\"gbm\")+str(i)].model_id,\n",
    "                                                                                                                            globals()[str(\"rf\")+str(i)].model_id,\n",
    "                                                                                                                            globals()[str(\"dle\")+str(i)].model_id\n",
    "                                                                                                                           ])\n",
    "    globals()[str(\"ensemble\")+str(i)].train(x=globals()[str(\"x\")+str(i)], y=y, training_frame=globals()[str(\"tf\")+str(i)], validation_frame=globals()[str(\"vf\")+str(i)])\n",
    "    h2o.save_model(model=globals()[str(\"ensemble\")+str(i)], path='saved_models/', force=True)\n",
    "    h2o.cluster().shutdown()"
   ]
  },
  {
   "cell_type": "markdown",
   "metadata": {},
   "source": [
    "<a id=\"Making_Predictions\"></a>\n",
    "### Making Predictions"
   ]
  },
  {
   "cell_type": "code",
   "execution_count": 33,
   "metadata": {
    "scrolled": false
   },
   "outputs": [
    {
     "name": "stdout",
     "output_type": "stream",
     "text": [
      "Checking whether there is an H2O instance running at http://localhost:54321..... not found.\n",
      "Attempting to start a local H2O server...\n",
      "; Java HotSpot(TM) 64-Bit Server VM (build 25.144-b01, mixed mode)\n",
      "  Starting server from C:\\Anaconda3\\envs\\Python35\\lib\\site-packages\\h2o\\backend\\bin\\h2o.jar\n",
      "  Ice root: C:\\Users\\pedro\\AppData\\Local\\Temp\\tmpqjij8t73\n",
      "  JVM stdout: C:\\Users\\pedro\\AppData\\Local\\Temp\\tmpqjij8t73\\h2o_pedro_started_from_python.out\n",
      "  JVM stderr: C:\\Users\\pedro\\AppData\\Local\\Temp\\tmpqjij8t73\\h2o_pedro_started_from_python.err\n",
      "  Server is running at http://127.0.0.1:54321\n",
      "Connecting to H2O server at http://127.0.0.1:54321... successful.\n"
     ]
    },
    {
     "data": {
      "text/html": [
       "<div style=\"overflow:auto\"><table style=\"width:50%\"><tr><td>H2O cluster uptime:</td>\n",
       "<td>03 secs</td></tr>\n",
       "<tr><td>H2O cluster version:</td>\n",
       "<td>3.14.0.1</td></tr>\n",
       "<tr><td>H2O cluster version age:</td>\n",
       "<td>26 days </td></tr>\n",
       "<tr><td>H2O cluster name:</td>\n",
       "<td>H2O_from_python_pedro_972ykk</td></tr>\n",
       "<tr><td>H2O cluster total nodes:</td>\n",
       "<td>1</td></tr>\n",
       "<tr><td>H2O cluster free memory:</td>\n",
       "<td>12.44 Gb</td></tr>\n",
       "<tr><td>H2O cluster total cores:</td>\n",
       "<td>4</td></tr>\n",
       "<tr><td>H2O cluster allowed cores:</td>\n",
       "<td>4</td></tr>\n",
       "<tr><td>H2O cluster status:</td>\n",
       "<td>accepting new members, healthy</td></tr>\n",
       "<tr><td>H2O connection url:</td>\n",
       "<td>http://127.0.0.1:54321</td></tr>\n",
       "<tr><td>H2O connection proxy:</td>\n",
       "<td>None</td></tr>\n",
       "<tr><td>H2O internal security:</td>\n",
       "<td>False</td></tr>\n",
       "<tr><td>H2O API Extensions:</td>\n",
       "<td>Algos, AutoML, Core V3, Core V4</td></tr>\n",
       "<tr><td>Python version:</td>\n",
       "<td>3.5.4 final</td></tr></table></div>"
      ],
      "text/plain": [
       "--------------------------  -------------------------------\n",
       "H2O cluster uptime:         03 secs\n",
       "H2O cluster version:        3.14.0.1\n",
       "H2O cluster version age:    26 days\n",
       "H2O cluster name:           H2O_from_python_pedro_972ykk\n",
       "H2O cluster total nodes:    1\n",
       "H2O cluster free memory:    12.44 Gb\n",
       "H2O cluster total cores:    4\n",
       "H2O cluster allowed cores:  4\n",
       "H2O cluster status:         accepting new members, healthy\n",
       "H2O connection url:         http://127.0.0.1:54321\n",
       "H2O connection proxy:\n",
       "H2O internal security:      False\n",
       "H2O API Extensions:         Algos, AutoML, Core V3, Core V4\n",
       "Python version:             3.5.4 final\n",
       "--------------------------  -------------------------------"
      ]
     },
     "metadata": {},
     "output_type": "display_data"
    },
    {
     "name": "stdout",
     "output_type": "stream",
     "text": [
      "Parse progress: |█████████████████████████████████████████████████████████| 100%\n",
      "stackedensemble prediction progress: |████████████████████████████████████| 100%\n",
      "Parse progress: |█████████████████████████████████████████████████████████| 100%\n",
      "stackedensemble prediction progress: |████████████████████████████████████| 100%\n",
      "Parse progress: |█████████████████████████████████████████████████████████| 100%\n",
      "stackedensemble prediction progress: |████████████████████████████████████| 100%\n",
      "Parse progress: |█████████████████████████████████████████████████████████| 100%\n",
      "stackedensemble prediction progress: |████████████████████████████████████| 100%\n",
      "Parse progress: |█████████████████████████████████████████████████████████| 100%\n",
      "stackedensemble prediction progress: |████████████████████████████████████| 100%\n",
      "Parse progress: |█████████████████████████████████████████████████████████| 100%\n",
      "stackedensemble prediction progress: |████████████████████████████████████| 100%\n",
      "Parse progress: |█████████████████████████████████████████████████████████| 100%\n",
      "stackedensemble prediction progress: |████████████████████████████████████| 100%\n",
      "Parse progress: |█████████████████████████████████████████████████████████| 100%\n",
      "stackedensemble prediction progress: |████████████████████████████████████| 100%\n",
      "Parse progress: |█████████████████████████████████████████████████████████| 100%\n",
      "stackedensemble prediction progress: |████████████████████████████████████| 100%\n",
      "H2O session _sid_82e6 closed.\n"
     ]
    }
   ],
   "source": [
    "h2o.init(max_mem_size='14g', enable_assertions=False)\n",
    "h2o.remove_all()\n",
    "\n",
    "for i in range(1,10):\n",
    "    globals()[str(\"testf\")+str(i)] = h2o.H2OFrame(testingdf)\n",
    "    globals()[str(\"testf\")+str(i)] = globals()[str(\"testf\")+str(i)].drop([\"Variation\"])\n",
    "    for j in _var:\n",
    "        globals()[str(\"testf\")+str(i)][j] = globals()[str(\"testf\")+str(i)][j].asfactor() # Variáveis categóricas (features da Variation 1/0)\n",
    "    globals()[str(\"model\")+str(i)] = h2o.load_model(path='saved_models/my_ensemble_binomial_'+str(i))\n",
    "    globals()[str(\"predictions\")+str(i)] = globals()[str(\"model\")+str(i)].predict(globals()[str(\"testf\")+str(i)]).as_data_frame()\n",
    "    globals()[str(\"predictions\")+str(i)] = globals()[str(\"predictions\")+str(i)].drop(\"predict\", axis=1)\n",
    "    globals()[str(\"predictions\")+str(i)].index.name = \"ID\"\n",
    "\n",
    "h2o.cluster().shutdown()"
   ]
  },
  {
   "cell_type": "code",
   "execution_count": 34,
   "metadata": {
    "collapsed": true
   },
   "outputs": [],
   "source": [
    "predictions = pd.DataFrame({\"Class1\" : predictions1.loc[:,\"p1\"],\n",
    "                            \"Class2\" : predictions2.loc[:,\"p2\"],\n",
    "                            \"Class3\" : predictions3.loc[:,\"p3\"],\n",
    "                            \"Class4\" : predictions4.loc[:,\"p4\"],\n",
    "                            \"Class5\" : predictions5.loc[:,\"p5\"],\n",
    "                            \"Class6\" : predictions6.loc[:,\"p6\"],\n",
    "                            \"Class7\" : predictions7.loc[:,\"p7\"],\n",
    "                            \"Class8\" : predictions8.loc[:,\"p8\"],\n",
    "                            \"Class9\" : predictions9.loc[:,\"p9\"]\n",
    "                           })\n",
    "predictions.index.name = \"ID\""
   ]
  },
  {
   "cell_type": "code",
   "execution_count": 35,
   "metadata": {
    "collapsed": true
   },
   "outputs": [],
   "source": [
    "for i in range(len(predictions)):\n",
    "    predictions.loc[i,\"Total\"] = (predictions.loc[i,\"Class1\"] + predictions.loc[i,\"Class2\"] + predictions.loc[i,\"Class3\"] +\n",
    "                                  predictions.loc[i,\"Class4\"] + predictions.loc[i,\"Class5\"] + predictions.loc[i,\"Class6\"] +\n",
    "                                  predictions.loc[i,\"Class7\"] + predictions.loc[i,\"Class8\"] + predictions.loc[i,\"Class9\"])"
   ]
  },
  {
   "cell_type": "code",
   "execution_count": 36,
   "metadata": {},
   "outputs": [
    {
     "data": {
      "text/html": [
       "<div>\n",
       "<style>\n",
       "    .dataframe thead tr:only-child th {\n",
       "        text-align: right;\n",
       "    }\n",
       "\n",
       "    .dataframe thead th {\n",
       "        text-align: left;\n",
       "    }\n",
       "\n",
       "    .dataframe tbody tr th {\n",
       "        vertical-align: top;\n",
       "    }\n",
       "</style>\n",
       "<table border=\"1\" class=\"dataframe\">\n",
       "  <thead>\n",
       "    <tr style=\"text-align: right;\">\n",
       "      <th></th>\n",
       "      <th>Class1</th>\n",
       "      <th>Class2</th>\n",
       "      <th>Class3</th>\n",
       "      <th>Class4</th>\n",
       "      <th>Class5</th>\n",
       "      <th>Class6</th>\n",
       "      <th>Class7</th>\n",
       "      <th>Class8</th>\n",
       "      <th>Class9</th>\n",
       "      <th>Total</th>\n",
       "    </tr>\n",
       "    <tr>\n",
       "      <th>ID</th>\n",
       "      <th></th>\n",
       "      <th></th>\n",
       "      <th></th>\n",
       "      <th></th>\n",
       "      <th></th>\n",
       "      <th></th>\n",
       "      <th></th>\n",
       "      <th></th>\n",
       "      <th></th>\n",
       "      <th></th>\n",
       "    </tr>\n",
       "  </thead>\n",
       "  <tbody>\n",
       "    <tr>\n",
       "      <th>0</th>\n",
       "      <td>0.035062</td>\n",
       "      <td>0.087997</td>\n",
       "      <td>0.011107</td>\n",
       "      <td>0.039218</td>\n",
       "      <td>0.035634</td>\n",
       "      <td>0.024636</td>\n",
       "      <td>0.713688</td>\n",
       "      <td>0.004828</td>\n",
       "      <td>0.002892</td>\n",
       "      <td>0.955064</td>\n",
       "    </tr>\n",
       "    <tr>\n",
       "      <th>1</th>\n",
       "      <td>0.103455</td>\n",
       "      <td>0.083691</td>\n",
       "      <td>0.015519</td>\n",
       "      <td>0.284635</td>\n",
       "      <td>0.036627</td>\n",
       "      <td>0.031043</td>\n",
       "      <td>0.582708</td>\n",
       "      <td>0.006259</td>\n",
       "      <td>0.002892</td>\n",
       "      <td>1.146828</td>\n",
       "    </tr>\n",
       "    <tr>\n",
       "      <th>2</th>\n",
       "      <td>0.043247</td>\n",
       "      <td>0.110483</td>\n",
       "      <td>0.021645</td>\n",
       "      <td>0.099859</td>\n",
       "      <td>0.031687</td>\n",
       "      <td>0.038053</td>\n",
       "      <td>0.455251</td>\n",
       "      <td>0.004828</td>\n",
       "      <td>0.002892</td>\n",
       "      <td>0.807945</td>\n",
       "    </tr>\n",
       "    <tr>\n",
       "      <th>3</th>\n",
       "      <td>0.056378</td>\n",
       "      <td>0.313095</td>\n",
       "      <td>0.018333</td>\n",
       "      <td>0.105640</td>\n",
       "      <td>0.025874</td>\n",
       "      <td>0.027436</td>\n",
       "      <td>0.347560</td>\n",
       "      <td>0.004828</td>\n",
       "      <td>0.003521</td>\n",
       "      <td>0.902664</td>\n",
       "    </tr>\n",
       "    <tr>\n",
       "      <th>4</th>\n",
       "      <td>0.067269</td>\n",
       "      <td>0.079124</td>\n",
       "      <td>0.013134</td>\n",
       "      <td>0.356942</td>\n",
       "      <td>0.025682</td>\n",
       "      <td>0.032461</td>\n",
       "      <td>0.102727</td>\n",
       "      <td>0.004828</td>\n",
       "      <td>0.002892</td>\n",
       "      <td>0.685060</td>\n",
       "    </tr>\n",
       "  </tbody>\n",
       "</table>\n",
       "</div>"
      ],
      "text/plain": [
       "      Class1    Class2    Class3    Class4    Class5    Class6    Class7  \\\n",
       "ID                                                                         \n",
       "0   0.035062  0.087997  0.011107  0.039218  0.035634  0.024636  0.713688   \n",
       "1   0.103455  0.083691  0.015519  0.284635  0.036627  0.031043  0.582708   \n",
       "2   0.043247  0.110483  0.021645  0.099859  0.031687  0.038053  0.455251   \n",
       "3   0.056378  0.313095  0.018333  0.105640  0.025874  0.027436  0.347560   \n",
       "4   0.067269  0.079124  0.013134  0.356942  0.025682  0.032461  0.102727   \n",
       "\n",
       "      Class8    Class9     Total  \n",
       "ID                                \n",
       "0   0.004828  0.002892  0.955064  \n",
       "1   0.006259  0.002892  1.146828  \n",
       "2   0.004828  0.002892  0.807945  \n",
       "3   0.004828  0.003521  0.902664  \n",
       "4   0.004828  0.002892  0.685060  "
      ]
     },
     "execution_count": 36,
     "metadata": {},
     "output_type": "execute_result"
    }
   ],
   "source": [
    "predictions.head()"
   ]
  },
  {
   "cell_type": "code",
   "execution_count": 40,
   "metadata": {},
   "outputs": [
    {
     "name": "stdout",
     "output_type": "stream",
     "text": [
      "The AUC of the ensemble of class 1 is: 0.9944899832290434\n",
      "The AUC of the ensemble of class 2 is: 0.9984910093554202\n",
      "The AUC of the ensemble of class 3 is: 0.9966243228538311\n",
      "The AUC of the ensemble of class 4 is: 0.9969983497783825\n",
      "The AUC of the ensemble of class 5 is: 0.9939079154419407\n",
      "The AUC of the ensemble of class 6 is: 0.9978582215613432\n",
      "The AUC of the ensemble of class 7 is: 0.9965802183335059\n",
      "The AUC of the ensemble of class 8 is: 1.0\n",
      "The AUC of the ensemble of class 9 is: 0.9999674044134425\n",
      "So, the worst AUC is 0.9939079154419407 and the mean of the multiple AUCs is 0.9972130472185454\n"
     ]
    }
   ],
   "source": [
    "cumulative_worstauc = 0\n",
    "for i in range(1,10):\n",
    "    if i == 1:\n",
    "        print(\"The AUC of the ensemble of class %s is:\" % i, globals()[\"ensemble\"+str(i)].auc(globals()[\"testf\"+str(i)]))\n",
    "        worstauc = globals()[\"ensemble\"+str(i)].auc(globals()[\"testf\"+str(i)])\n",
    "    else:\n",
    "        print(\"The AUC of the ensemble of class %s is:\" % i, globals()[\"ensemble\"+str(i)].auc(globals()[\"testf\"+str(i)]))\n",
    "        if float(globals()[\"ensemble\"+str(i)].auc(globals()[\"testf\"+str(i)])) <= float(worstauc):\n",
    "            worstauc = globals()[\"ensemble\"+str(i)].auc(globals()[\"testf\"+str(i)])\n",
    "    cumulative_worstauc += globals()[\"ensemble\"+str(i)].auc(globals()[\"testf\"+str(i)])\n",
    "print(\"So, the worst AUC is %s and the mean of the multiple AUCs is %s\" % (worstauc,float(cumulative_worstauc/9)))"
   ]
  },
  {
   "cell_type": "markdown",
   "metadata": {},
   "source": [
    "### Exporting submission to a .csv"
   ]
  },
  {
   "cell_type": "code",
   "execution_count": 41,
   "metadata": {
    "collapsed": true
   },
   "outputs": [],
   "source": [
    "import datetime\n",
    "now = datetime.datetime.now()\n",
    "\n",
    "predictions.to_csv(r'C:\\Users\\pedro\\Documents\\Kaggle Projects\\Personalized Medicine - Redefining Cancer Treatment\\output\\\\'+str(now.strftime(\"%Y-%m-%d-%H-%M\"))+'_ensemble'+'.csv')"
   ]
  },
  {
   "cell_type": "markdown",
   "metadata": {
    "collapsed": true
   },
   "source": [
    "[(go up)](#Index)\n",
    "\n",
    "***\n",
    "<p style=\"text-align: right;\">\n",
    "    <font color=DarkSlateGray size=5><b>Pedro Reis</b></font> <br>\n",
    "    <font color=DarkSlateGray><b>Agosto 2017</b></font> <br></p>"
   ]
  }
 ],
 "metadata": {
  "kernelspec": {
   "display_name": "Python 3",
   "language": "python",
   "name": "python3"
  },
  "language_info": {
   "codemirror_mode": {
    "name": "ipython",
    "version": 3
   },
   "file_extension": ".py",
   "mimetype": "text/x-python",
   "name": "python",
   "nbconvert_exporter": "python",
   "pygments_lexer": "ipython3",
   "version": "3.7.3"
  }
 },
 "nbformat": 4,
 "nbformat_minor": 2
}
